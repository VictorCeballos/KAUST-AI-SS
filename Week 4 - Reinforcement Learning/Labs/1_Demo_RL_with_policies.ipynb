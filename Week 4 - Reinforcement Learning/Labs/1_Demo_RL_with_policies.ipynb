{
  "cells": [
    {
      "cell_type": "markdown",
      "id": "b82523e1-4c69-4a52-a820-cfbbfb73f6b6",
      "metadata": {
        "id": "b82523e1-4c69-4a52-a820-cfbbfb73f6b6"
      },
      "source": [
        "This notebook has been inspired by [Q* Learning with FrozenLakev2.ipynb](https://colab.research.google.com/github/simoninithomas/Deep_reinforcement_learning_Course/blob/master/Q_Learning_with_FrozenLakev2.ipynb#scrollTo=Xr9nI6dcQM8I) and [Deep Reinforcement Learning Course](https://huggingface.co/learn/deep-rl-course/unit0/introduction?fw=pt) by Thomas Simonini"
      ]
    },
    {
      "cell_type": "markdown",
      "id": "57f2f350-4c97-4700-9707-184e3cedd16f",
      "metadata": {
        "id": "57f2f350-4c97-4700-9707-184e3cedd16f"
      },
      "source": [
        "### Day 1: Introduction to Reinforcement Learning (RL) and Markov Decision Process (MDP)"
      ]
    },
    {
      "cell_type": "markdown",
      "id": "8ce1582e-d13d-410f-a6d1-dea7df636b59",
      "metadata": {
        "id": "8ce1582e-d13d-410f-a6d1-dea7df636b59"
      },
      "source": [
        "Reinforcement Learning (RL) is a branch of machine learning that focuses on learning optimal actions to take in a given environment to maximize a cumulative reward or return.\n",
        "\n",
        "Markov Decision Process (MDP) is a mathematical framework for modeling decision-making problems in RL. It consists of states, actions, transition probabilities, and rewards.\n"
      ]
    },
    {
      "cell_type": "markdown",
      "id": "faf75453-1877-495b-b1dd-16ba52cc0dbe",
      "metadata": {
        "id": "faf75453-1877-495b-b1dd-16ba52cc0dbe"
      },
      "source": [
        "### OpenAI Gym"
      ]
    },
    {
      "cell_type": "markdown",
      "id": "fecb42a8-324d-4bd4-b3b8-e60b7c911d50",
      "metadata": {
        "id": "fecb42a8-324d-4bd4-b3b8-e60b7c911d50"
      },
      "source": [
        "[OpenAI Gym](https://www.gymlibrary.dev/) is a toolkit for developing and comparing reinforcement learning (RL) algorithms. It consists of a growing suite of environments (from simulated robots to Atari games), and a site for comparing and reproducing results. OpenAI Gym provides a diverse suite of environments that range from easy to difficult and involve many different kinds of data.\n",
        "\n",
        "Creating and Interacting with gym environments is very simple.\n",
        "\n",
        "```\n",
        "import gym\n",
        "env = gym.make(\"CartPole-v1\")\n",
        "observation, info = env.reset(seed=42)\n",
        "\n",
        "for _ in range(1000):\n",
        "    action = env.action_space.sample()\n",
        "    observation, reward, done, truncated, info = env.step(action)\n",
        "\n",
        "    if terminated or truncated:\n",
        "        observation, info = env.reset()\n",
        "env.close()\n",
        "```\n",
        "\n",
        "Following are the definitions of some common terminologies used.\n",
        "\n",
        "**Reset:** Resets the environment to an initial state and returns the initial observation. <br>\n",
        "**Step:** Run one timestep of the environment's dynamics.<br>\n",
        "**Observation:** The observed state of the environment.<br>\n",
        "**Action:** An action provided by the agent.<br>\n",
        "**Reward:** The amount of reward returned as a result of taking the action.<br>\n",
        "**Terminated:** Whether a terminal state (as defined under the MDP of the task) is reached.<br>\n",
        "**Truncated:** Whether a truncation condition outside the scope of the MDP is satisfied. Typically a timelimit, but could also be used to indicate agent physically going out of bounds.<br>\n",
        "**Info:** This contains auxiliary diagnostic information (helpful for debugging, learning, and logging).<br>\n",
        "**Action Space:** This attribute gives the format of valid actions. It is of datatype Space provided by Gym. For example, if the action space is of type Discrete and gives the value Discrete(2), this means there are two valid discrete actions: 0 & 1.<br>\n",
        "**Observation:** This attribute gives the format of valid observations. It is of datatype Space provided by Gym. For example, if the observation space is of type Box and the shape of the object is (4,), this denotes a valid observation will be an array of 4 numbers.<br>\n",
        "\n",
        "Note: Previously, `terminated` and `truncated` used to be merged under one variable `done`. <br>\n",
        "\n",
        "\n",
        "We will use OpenAI Gym for Frozen Lake (2D) and Cart Pole (1D) environments.\n",
        "\n",
        "### Note:\n",
        "\n",
        "OpenAI has launched the Gymnasium library. Gymnasium is the successor to OpenAI Gym, designed to maintain and extend the original framework for reinforcement learning environments. It offers improved support, more active development, and enhanced features while maintaining compatibility with existing Gym-based code. The interface for gymnasium and gym is almost same.\n",
        "\n",
        "Gym itself still exists and is used, as it will be in this demo. However a lot of the tutorials, including the ones you'll find in this course, have been made using gymnasium. This mix of library is to ensure you can worked with both libraries"
      ]
    },
    {
      "cell_type": "markdown",
      "id": "fcdc8ec7-b351-4ca9-9d7f-831c31111ee6",
      "metadata": {
        "id": "fcdc8ec7-b351-4ca9-9d7f-831c31111ee6"
      },
      "source": [
        "# Cart Pole\n",
        "\n",
        "|   |   |\n",
        "|---|---|\n",
        "| Action Space | Discrete(2) |\n",
        "| Observation Shape | (4,) |\n",
        "| Observation High | [4.8   inf 0.42  inf] |\n",
        "| Observation Low | [-4.8   -inf -0.42  -inf] |\n",
        "| Import | `gym.make(\"CartPole-v1\")` |\n",
        "\n",
        "\n",
        "### Description\n",
        "\n",
        "This environment corresponds to the version of the cart-pole problem described by Barto, Sutton, and Anderson in\n",
        "[\"Neuronlike Adaptive Elements That Can Solve Difficult Learning Control Problem\"](https://ieeexplore.ieee.org/document/6313077).\n",
        "A pole is attached by an un-actuated joint to a cart, which moves along a frictionless track.\n",
        "The pendulum is placed upright on the cart and the goal is to balance the pole by applying forces\n",
        " in the left and right direction on the cart.\n",
        "\n",
        "\n",
        "### Action Space\n",
        "\n",
        "The action is a `ndarray` with shape `(1,)` which can take values `{0, 1}` indicating the direction\n",
        " of the fixed force the cart is pushed with.\n",
        "\n",
        "| Num | Action                 |\n",
        "|-----|------------------------|\n",
        "| 0   | Push cart to the left  |\n",
        "| 1   | Push cart to the right |\n",
        "\n",
        "\n",
        "**Note**: The velocity that is reduced or increased by the applied force is not fixed and it depends on the angle\n",
        " the pole is pointing. The center of gravity of the pole varies the amount of energy needed to move the cart underneath it\n",
        "\n",
        "### Observation Space\n",
        "\n",
        "The observation is a `ndarray` with shape `(4,)` with the values corresponding to the following positions and velocities:\n",
        "\n",
        "| Num | Observation           | Min                 | Max               |\n",
        "|-----|-----------------------|---------------------|-------------------|\n",
        "| 0   | Cart Position         | -4.8                | 4.8               |\n",
        "| 1   | Cart Velocity         | -Inf                | Inf               |\n",
        "| 2   | Pole Angle            | ~ -0.418 rad (-24°) | ~ 0.418 rad (24°) |\n",
        "| 3   | Pole Angular Velocity | -Inf                | Inf               |\n",
        "\n",
        "**Note:** While the ranges above denote the possible values for observation space of each element,\n",
        "    it is not reflective of the allowed values of the state space in an unterminated episode. Particularly:\n",
        "-  The cart x-position (index 0) can be take values between `(-4.8, 4.8)`, but the episode terminates\n",
        "   if the cart leaves the `(-2.4, 2.4)` range.\n",
        "-  The pole angle can be observed between  `(-.418, .418)` radians (or **±24°**), but the episode terminates\n",
        "   if the pole angle is not in the range `(-.2095, .2095)` (or **±12°**)\n",
        "\n",
        "### Rewards\n",
        "\n",
        "Since the goal is to keep the pole upright for as long as possible, a reward of `+1` for every step taken,\n",
        "including the termination step, is allotted. The threshold for rewards is 475 for v1.\n",
        "\n",
        "### Starting State\n",
        "\n",
        "All observations are assigned a uniformly random value in `(-0.05, 0.05)`\n",
        "\n",
        "### Episode End\n",
        "\n",
        "The episode ends if any one of the following occurs:\n",
        "\n",
        "1. Termination: Pole Angle is greater than ±12°\n",
        "2. Termination: Cart Position is greater than ±2.4 (center of the cart reaches the edge of the display)\n",
        "3. Truncation: Episode length is greater than 500 (200 for v0)"
      ]
    },
    {
      "cell_type": "markdown",
      "id": "67aebdb6-239c-4555-a8a3-d28e499a5d27",
      "metadata": {
        "id": "67aebdb6-239c-4555-a8a3-d28e499a5d27"
      },
      "source": [
        "Docs/source: https://www.gymlibrary.dev/environments/classic_control/cart_pole/"
      ]
    },
    {
      "cell_type": "markdown",
      "id": "f7188440-8fb8-4ecb-85c9-77fc797ec6f7",
      "metadata": {
        "id": "f7188440-8fb8-4ecb-85c9-77fc797ec6f7"
      },
      "source": [
        "# Policies\n",
        "A policy is a mapping from states to actions. It determines the action to take in each state.\n",
        "\n",
        "In the following code cells, we will define and evaluate different policies for the 1D and 2D environments.\n"
      ]
    },
    {
      "cell_type": "code",
      "id": "5ff64163-5a64-41c8-9141-c7bd2eb5e231",
      "metadata": {
        "id": "5ff64163-5a64-41c8-9141-c7bd2eb5e231",
        "tags": [],
        "ExecuteTime": {
          "end_time": "2024-07-09T13:57:51.201380Z",
          "start_time": "2024-07-09T13:57:50.956669Z"
        }
      },
      "source": [
        "import gym\n",
        "from tqdm import tqdm"
      ],
      "outputs": [],
      "execution_count": null
    },
    {
      "cell_type": "code",
      "id": "ed784bc8-1f05-4907-9044-9e17cebb2484",
      "metadata": {
        "id": "ed784bc8-1f05-4907-9044-9e17cebb2484",
        "tags": [],
        "ExecuteTime": {
          "end_time": "2024-07-09T13:57:52.519613Z",
          "start_time": "2024-07-09T13:57:52.516540Z"
        },
        "colab": {
          "base_uri": "https://localhost:8080/"
        },
        "outputId": "9c95a24f-1821-427d-c7c2-bff81f1b89e8"
      },
      "source": [
        "# Function to evaluate a policy in an environment\n",
        "def evaluate_policy(env, policy, num_episodes=1000):\n",
        "    rewards = []\n",
        "    for _ in tqdm(range(num_episodes)):\n",
        "        state = env.reset()\n",
        "        episode_reward = 0\n",
        "        done = False\n",
        "        while not done:\n",
        "            action = policy(state)\n",
        "            next_state, reward, done, info = env.step(action)\n",
        "            episode_reward += reward\n",
        "            state = next_state\n",
        "        rewards.append(episode_reward)\n",
        "    return sum(rewards) / num_episodes"
      ],
      "outputs": [
        {
          "output_type": "stream",
          "name": "stderr",
          "text": [
            "/usr/local/lib/python3.10/dist-packages/ipykernel/ipkernel.py:283: DeprecationWarning: `should_run_async` will not call `transform_cell` automatically in the future. Please pass the result to `transformed_cell` argument and any exception that happen during thetransform in `preprocessing_exc_tuple` in IPython 7.17 and above.\n",
            "  and should_run_async(code)\n"
          ]
        }
      ],
      "execution_count": null
    },
    {
      "cell_type": "markdown",
      "id": "cd6291cb-4fa5-46cc-92db-aa4ebc9de0e3",
      "metadata": {
        "id": "cd6291cb-4fa5-46cc-92db-aa4ebc9de0e3"
      },
      "source": [
        "## 1D"
      ]
    },
    {
      "cell_type": "code",
      "id": "a9e2042f-3458-4776-912a-8fd0e1917342",
      "metadata": {
        "colab": {
          "base_uri": "https://localhost:8080/"
        },
        "id": "a9e2042f-3458-4776-912a-8fd0e1917342",
        "outputId": "2d2425dc-b723-4899-bf33-59a4e7a6e93c",
        "tags": [],
        "ExecuteTime": {
          "end_time": "2024-07-09T13:57:55.140199Z",
          "start_time": "2024-07-09T13:57:55.135704Z"
        }
      },
      "source": [
        "# Create the CartPole environment (1D)\n",
        "env_1d = gym.make(\"CartPole-v1\", render_mode=\"rgb_array\")"
      ],
      "outputs": [
        {
          "output_type": "stream",
          "name": "stderr",
          "text": [
            "/usr/local/lib/python3.10/dist-packages/gym/core.py:317: DeprecationWarning: \u001b[33mWARN: Initializing wrapper in old step API which returns one bool instead of two. It is recommended to set `new_step_api=True` to use new step API. This will be the default behaviour in future.\u001b[0m\n",
            "  deprecation(\n",
            "/usr/local/lib/python3.10/dist-packages/gym/wrappers/step_api_compatibility.py:39: DeprecationWarning: \u001b[33mWARN: Initializing environment in old step API which returns one bool instead of two. It is recommended to set `new_step_api=True` to use new step API. This will be the default behaviour in future.\u001b[0m\n",
            "  deprecation(\n"
          ]
        }
      ],
      "execution_count": null
    },
    {
      "cell_type": "code",
      "id": "7016617b-1b78-43e5-b874-658bdfb10c0a",
      "metadata": {
        "colab": {
          "base_uri": "https://localhost:8080/"
        },
        "id": "7016617b-1b78-43e5-b874-658bdfb10c0a",
        "outputId": "0a5fc2b3-6ceb-4719-ee33-1b3e529ee104",
        "tags": [],
        "ExecuteTime": {
          "end_time": "2024-07-09T13:57:56.180644Z",
          "start_time": "2024-07-09T13:57:56.176710Z"
        }
      },
      "source": [
        "env_1d.observation_space"
      ],
      "outputs": [
        {
          "output_type": "execute_result",
          "data": {
            "text/plain": [
              "Box([-4.8000002e+00 -3.4028235e+38 -4.1887903e-01 -3.4028235e+38], [4.8000002e+00 3.4028235e+38 4.1887903e-01 3.4028235e+38], (4,), float32)"
            ]
          },
          "metadata": {},
          "execution_count": 4
        }
      ],
      "execution_count": null
    },
    {
      "cell_type": "code",
      "id": "06aed737-4776-4179-bf90-afe40014fad9",
      "metadata": {
        "colab": {
          "base_uri": "https://localhost:8080/"
        },
        "id": "06aed737-4776-4179-bf90-afe40014fad9",
        "outputId": "234fd9eb-7340-4f35-f59c-6b7757b6d80a",
        "tags": [],
        "ExecuteTime": {
          "end_time": "2024-07-09T13:57:56.565637Z",
          "start_time": "2024-07-09T13:57:56.561905Z"
        }
      },
      "source": [
        "env_1d.action_space, env_1d.action_space.n"
      ],
      "outputs": [
        {
          "output_type": "execute_result",
          "data": {
            "text/plain": [
              "(Discrete(2), 2)"
            ]
          },
          "metadata": {},
          "execution_count": 5
        }
      ],
      "execution_count": null
    },
    {
      "cell_type": "code",
      "id": "a0b213db-5909-4961-a7f5-8985da6ac40f",
      "metadata": {
        "id": "a0b213db-5909-4961-a7f5-8985da6ac40f",
        "tags": [],
        "ExecuteTime": {
          "end_time": "2024-07-09T13:57:57.642350Z",
          "start_time": "2024-07-09T13:57:57.639509Z"
        }
      },
      "source": [
        "def angle_policy(observation):\n",
        "    angle = observation[2]\n",
        "    action = 0 if angle < 0 else 1\n",
        "    return action"
      ],
      "outputs": [],
      "execution_count": null
    },
    {
      "cell_type": "code",
      "id": "2ecf5414-a693-43ab-94f6-1ce10d324d2d",
      "metadata": {
        "colab": {
          "base_uri": "https://localhost:8080/"
        },
        "collapsed": true,
        "id": "2ecf5414-a693-43ab-94f6-1ce10d324d2d",
        "jupyter": {
          "outputs_hidden": true
        },
        "outputId": "c7615ee2-c411-44b0-9902-66299dbbcdcc",
        "tags": [],
        "ExecuteTime": {
          "end_time": "2024-07-09T13:57:58.478875Z",
          "start_time": "2024-07-09T13:57:58.466733Z"
        }
      },
      "source": [
        "done = False\n",
        "state = env_1d.reset()\n",
        "while not done:\n",
        "    action = angle_policy(state)\n",
        "    print(state[2])\n",
        "    next_state, reward, done, info = env_1d.step(action)\n",
        "    state = next_state\n"
      ],
      "outputs": [
        {
          "output_type": "stream",
          "name": "stdout",
          "text": [
            "0.03456042\n",
            "0.034849793\n",
            "0.029507533\n",
            "0.018535465\n",
            "0.0018985587\n",
            "-0.020474274\n",
            "-0.048688844\n",
            "-0.07117915\n",
            "-0.08812902\n",
            "-0.09968933\n",
            "-0.105976224\n",
            "-0.10707003\n",
            "-0.10301471\n",
            "-0.093817756\n",
            "-0.07945045\n",
            "-0.059848327\n",
            "-0.03491207\n",
            "-0.004508779\n",
            "0.0315262\n",
            "0.07338675\n",
            "0.10959183\n",
            "0.14041677\n",
            "0.16611028\n",
            "0.18689124\n",
            "0.2029468\n"
          ]
        },
        {
          "output_type": "stream",
          "name": "stderr",
          "text": [
            "/usr/local/lib/python3.10/dist-packages/gym/utils/passive_env_checker.py:241: DeprecationWarning: `np.bool8` is a deprecated alias for `np.bool_`.  (Deprecated NumPy 1.24)\n",
            "  if not isinstance(terminated, (bool, np.bool8)):\n"
          ]
        }
      ],
      "execution_count": null
    },
    {
      "cell_type": "code",
      "execution_count": null,
      "id": "3bfadc97-8fb0-4886-b38d-b8271a731977",
      "metadata": {
        "id": "3bfadc97-8fb0-4886-b38d-b8271a731977",
        "tags": []
      },
      "outputs": [],
      "source": [
        "# Define the \"Always Left\" policy\n",
        "def always_left_policy(observation):\n",
        "    return 0  # Action: Push cart to the left\n",
        "\n",
        "# Define the \"Always Right\" policy\n",
        "def always_right_policy(observation):\n",
        "    return 1  # Action: Push cart to the right"
      ]
    },
    {
      "cell_type": "code",
      "execution_count": null,
      "id": "GwTwUdmui07j",
      "metadata": {
        "colab": {
          "base_uri": "https://localhost:8080/"
        },
        "id": "GwTwUdmui07j",
        "outputId": "f5263516-3e0a-4c6e-e678-2e5dc9e18ab6"
      },
      "outputs": [
        {
          "output_type": "stream",
          "name": "stderr",
          "text": [
            "100%|██████████| 1000/1000 [02:22<00:00,  7.01it/s]\n"
          ]
        },
        {
          "output_type": "execute_result",
          "data": {
            "text/plain": [
              "41.898"
            ]
          },
          "metadata": {},
          "execution_count": 9
        }
      ],
      "source": [
        "evaluate_policy(env_1d, angle_policy)"
      ]
    },
    {
      "cell_type": "code",
      "execution_count": null,
      "id": "7ebbf0bd-2981-4978-95e5-6a54752835ab",
      "metadata": {
        "colab": {
          "base_uri": "https://localhost:8080/"
        },
        "id": "7ebbf0bd-2981-4978-95e5-6a54752835ab",
        "outputId": "4cc1ec53-7963-43b4-eb36-664be4eb6f95",
        "tags": []
      },
      "outputs": [
        {
          "output_type": "stream",
          "name": "stderr",
          "text": [
            "100%|██████████| 1000/1000 [00:33<00:00, 29.78it/s]\n"
          ]
        },
        {
          "output_type": "execute_result",
          "data": {
            "text/plain": [
              "9.337"
            ]
          },
          "metadata": {},
          "execution_count": 10
        }
      ],
      "source": [
        "evaluate_policy(env_1d, always_left_policy)"
      ]
    },
    {
      "cell_type": "code",
      "execution_count": null,
      "id": "f28c3bf3-c657-4669-9a4e-3431eeaa2660",
      "metadata": {
        "colab": {
          "base_uri": "https://localhost:8080/"
        },
        "id": "f28c3bf3-c657-4669-9a4e-3431eeaa2660",
        "outputId": "1daf9713-4c54-4bdf-ab2a-0a6f147ff649",
        "tags": []
      },
      "outputs": [
        {
          "output_type": "stream",
          "name": "stderr",
          "text": [
            "100%|██████████| 1000/1000 [00:32<00:00, 30.64it/s]\n"
          ]
        },
        {
          "output_type": "execute_result",
          "data": {
            "text/plain": [
              "9.303"
            ]
          },
          "metadata": {},
          "execution_count": 11
        }
      ],
      "source": [
        "evaluate_policy(env_1d, always_right_policy)"
      ]
    },
    {
      "cell_type": "code",
      "execution_count": null,
      "id": "93a79c3a-c5e9-4c4d-b95e-338362fe310d",
      "metadata": {
        "id": "93a79c3a-c5e9-4c4d-b95e-338362fe310d",
        "tags": []
      },
      "outputs": [],
      "source": [
        "import numpy as np"
      ]
    },
    {
      "cell_type": "code",
      "execution_count": null,
      "id": "91bd7231-063d-4430-8872-51840d620062",
      "metadata": {
        "id": "91bd7231-063d-4430-8872-51840d620062",
        "tags": []
      },
      "outputs": [],
      "source": [
        "def random_policy(observation):\n",
        "    action = np.random.randint(0, 2)\n",
        "    return action"
      ]
    },
    {
      "cell_type": "code",
      "execution_count": null,
      "id": "dcc26b41-cf9d-4e8b-a950-e9326defa445",
      "metadata": {
        "colab": {
          "base_uri": "https://localhost:8080/"
        },
        "id": "dcc26b41-cf9d-4e8b-a950-e9326defa445",
        "outputId": "6de1a89c-797e-41df-aedc-3af6b45ced77",
        "tags": []
      },
      "outputs": [
        {
          "output_type": "stream",
          "name": "stderr",
          "text": [
            "100%|██████████| 1000/1000 [01:16<00:00, 13.08it/s]\n"
          ]
        },
        {
          "output_type": "execute_result",
          "data": {
            "text/plain": [
              "22.348"
            ]
          },
          "metadata": {},
          "execution_count": 14
        }
      ],
      "source": [
        "evaluate_policy(env_1d, random_policy)"
      ]
    },
    {
      "cell_type": "markdown",
      "id": "0d5a0543-ec5c-41c1-a821-0c908b8b5488",
      "metadata": {
        "id": "0d5a0543-ec5c-41c1-a821-0c908b8b5488"
      },
      "source": [
        "### Visualization"
      ]
    },
    {
      "cell_type": "code",
      "execution_count": null,
      "id": "6aa462a4-0b39-49f3-a671-9127841be765",
      "metadata": {
        "id": "6aa462a4-0b39-49f3-a671-9127841be765",
        "tags": []
      },
      "outputs": [],
      "source": [
        "# For visualization\n",
        "from gym.wrappers.monitoring import video_recorder\n",
        "from IPython.display import HTML\n",
        "from IPython import display\n",
        "import glob\n",
        "import base64, io, os\n",
        "\n",
        "os.environ['SDL_VIDEODRIVER']='dummy'"
      ]
    },
    {
      "cell_type": "code",
      "execution_count": null,
      "id": "3aea3f97-6e6c-4b84-b6a4-29d376313b8e",
      "metadata": {
        "id": "3aea3f97-6e6c-4b84-b6a4-29d376313b8e",
        "tags": []
      },
      "outputs": [],
      "source": [
        "os.makedirs(\"video\", exist_ok=True)\n",
        "\n",
        "def show_video(env_name):\n",
        "    mp4list = glob.glob('video/*.mp4')\n",
        "    if len(mp4list) > 0:\n",
        "        mp4 = 'video/{}.mp4'.format(env_name)\n",
        "        video = io.open(mp4, 'r+b').read()\n",
        "        encoded = base64.b64encode(video)\n",
        "        display.display(HTML(data='''<video alt=\"test\" autoplay\n",
        "                loop controls style=\"height: 400px;\">\n",
        "                <source src=\"data:video/mp4;base64,{0}\" type=\"video/mp4\" />\n",
        "             </video>'''.format(encoded.decode('ascii'))))\n",
        "    else:\n",
        "        print(\"Could not find video\")\n",
        "\n",
        "def show_video_of_model(env_name, env, policy, max_steps=10000, verbose=0):\n",
        "    vid = video_recorder.VideoRecorder(env, path=\"video/{}.mp4\".format(env_name))\n",
        "    state = env.reset()\n",
        "    done = False\n",
        "    for t in tqdm(range(max_steps)):\n",
        "        vid.capture_frame()\n",
        "        action = policy(state)\n",
        "        next_state, reward, done, info = env.step(action)\n",
        "        if verbose:\n",
        "            print(f\"state: {state}, action: {action}\",next_state, reward, done)\n",
        "        state = next_state\n",
        "        if done:\n",
        "            break\n",
        "    vid.close()\n",
        "    env.close()"
      ]
    },
    {
      "cell_type": "code",
      "execution_count": null,
      "id": "b19557b0-9fb4-4d0f-af14-6a90dda1245e",
      "metadata": {
        "colab": {
          "base_uri": "https://localhost:8080/"
        },
        "id": "b19557b0-9fb4-4d0f-af14-6a90dda1245e",
        "outputId": "8eefdb00-1f89-4ae6-b9ef-cff04117c599",
        "tags": []
      },
      "outputs": [
        {
          "output_type": "stream",
          "name": "stderr",
          "text": [
            "/usr/local/lib/python3.10/dist-packages/gym/wrappers/monitoring/video_recorder.py:101: DeprecationWarning: \u001b[33mWARN: <class 'gym.wrappers.monitoring.video_recorder.VideoRecorder'> is marked as deprecated and will be removed in the future.\u001b[0m\n",
            "  logger.deprecation(\n",
            "  0%|          | 46/10000 [00:01<05:06, 32.43it/s]\n"
          ]
        }
      ],
      "source": [
        "show_video_of_model(\"CartPole-v1\", env_1d, angle_policy)"
      ]
    },
    {
      "cell_type": "code",
      "execution_count": null,
      "id": "2d149343-18ee-40f9-ad41-69ba99dc761b",
      "metadata": {
        "colab": {
          "base_uri": "https://localhost:8080/",
          "height": 422
        },
        "id": "2d149343-18ee-40f9-ad41-69ba99dc761b",
        "outputId": "c5426967-5e10-4f60-a20a-369e4a0d9d35",
        "tags": []
      },
      "outputs": [
        {
          "output_type": "display_data",
          "data": {
            "text/plain": [
              "<IPython.core.display.HTML object>"
            ],
            "text/html": [
              "<video alt=\"test\" autoplay\n",
              "                loop controls style=\"height: 400px;\">\n",
              "                <source src=\"data:video/mp4;base64,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\" type=\"video/mp4\" />\n",
              "             </video>"
            ]
          },
          "metadata": {}
        }
      ],
      "source": [
        "show_video(\"CartPole-v1\")"
      ]
    },
    {
      "cell_type": "markdown",
      "id": "d11d6e57-b055-45e5-83c9-99ac3d39cde4",
      "metadata": {
        "id": "d11d6e57-b055-45e5-83c9-99ac3d39cde4"
      },
      "source": [
        "## Frozen Lake"
      ]
    },
    {
      "cell_type": "markdown",
      "id": "6be61d3f-a188-4377-b944-a9b4ee06a3d1",
      "metadata": {
        "id": "6be61d3f-a188-4377-b944-a9b4ee06a3d1"
      },
      "source": [
        "Frozen lake is a toy text environment involves crossing a frozen lake from start to goal without falling into any holes by walking over the frozen lake. <br>\n",
        "\n",
        "We can also set the lake to be slippery so that the agent does not always move in the intended direction. \\but here, we will only look at the non-slippery case. But you are welcome to try the slippery one.<br>\n",
        "\n",
        "You can read more about the environment [here](https://gymnasium.farama.org/environments/toy_text/frozen_lake/).\n",
        "\n",
        "![Frozen Lake](https://gymnasium.farama.org/_images/frozen_lake.gif)\n"
      ]
    },
    {
      "cell_type": "markdown",
      "id": "1221d41e-7952-431f-b0b5-54a2f05b3bef",
      "metadata": {
        "id": "1221d41e-7952-431f-b0b5-54a2f05b3bef"
      },
      "source": [
        "|   |   |\n",
        "|---|---|\n",
        "| Action Space | Discrete(4) |\n",
        "| Observation Space | Discrete(16) |\n",
        "| Import | `gym.make(\"FrozenLake-v1\")` |\n",
        "\n",
        "\n",
        "Frozen lake involves crossing a frozen lake from Start(S) to Goal(G) without falling into any Holes(H)\n",
        "by walking over the Frozen(F) lake.\n",
        "The agent may not always move in the intended direction due to the slippery nature of the frozen lake.\n",
        "\n",
        "\n",
        "### Action Space\n",
        "The agent takes a 1-element vector for actions.\n",
        "The action space is `(dir)`, where `dir` decides direction to move in which can be:\n",
        "\n",
        "- 0: LEFT\n",
        "- 1: DOWN\n",
        "- 2: RIGHT\n",
        "- 3: UP\n",
        "\n",
        "### Observation Space\n",
        "The observation is a value representing the agent's current position as\n",
        "current_row * nrows + current_col (where both the row and col start at 0).\n",
        "For example, the goal position in the 4x4 map can be calculated as follows: 3 * 4 + 3 = 15.\n",
        "The number of possible observations is dependent on the size of the map.\n",
        "For example, the 4x4 map has 16 possible observations.\n",
        "\n",
        "### Rewards\n",
        "\n",
        "Reward schedule:\n",
        "- Reach goal(G): +1\n",
        "- Reach hole(H): 0\n",
        "- Reach frozen(F): 0\n",
        "\n",
        "### Arguments\n",
        "\n",
        "```\n",
        "gym.make('FrozenLake-v1', desc=None, map_name=\"4x4\", is_slippery=True)\n",
        "```\n",
        "\n",
        "`desc`: Used to specify custom map for frozen lake. For example,\n",
        "\n",
        "    desc=[\"SFFF\", \"FHFH\", \"FFFH\", \"HFFG\"].\n",
        "\n",
        "    A random generated map can be specified by calling the function `generate_random_map`. For example,\n",
        "\n",
        "    ```\n",
        "    from gym.envs.toy_text.frozen_lake import generate_random_map\n",
        "\n",
        "    gym.make('FrozenLake-v1', desc=generate_random_map(size=8))\n",
        "    ```\n",
        "\n",
        "`map_name`: ID to use any of the preloaded maps.\n",
        "\n",
        "    \"4x4\":[\n",
        "        \"SFFF\",\n",
        "        \"FHFH\",\n",
        "        \"FFFH\",\n",
        "        \"HFFG\"\n",
        "        ]\n",
        "\n",
        "    \"8x8\": [\n",
        "        \"SFFFFFFF\",\n",
        "        \"FFFFFFFF\",\n",
        "        \"FFFHFFFF\",\n",
        "        \"FFFFFHFF\",\n",
        "        \"FFFHFFFF\",\n",
        "        \"FHHFFFHF\",\n",
        "        \"FHFFHFHF\",\n",
        "        \"FFFHFFFG\",\n",
        "    ]\n",
        "\n",
        "`is_slippery`: True/False. If True will move in intended direction with\n",
        "probability of 1/3 else will move in either perpendicular direction with\n",
        "equal probability of 1/3 in both directions.\n",
        "\n",
        "    For example, if action is left and is_slippery is True, then:\n",
        "    - P(move left)=1/3\n",
        "    - P(move up)=1/3\n",
        "    - P(move down)=1/3\n"
      ]
    },
    {
      "cell_type": "code",
      "execution_count": null,
      "id": "1039715f-b1e4-4e9f-b90e-1ed8207a2ef5",
      "metadata": {
        "colab": {
          "base_uri": "https://localhost:8080/"
        },
        "id": "1039715f-b1e4-4e9f-b90e-1ed8207a2ef5",
        "outputId": "dcdab1f8-02b5-4e66-e308-170206f69b25",
        "tags": []
      },
      "outputs": [
        {
          "output_type": "stream",
          "name": "stderr",
          "text": [
            "/usr/local/lib/python3.10/dist-packages/gym/core.py:317: DeprecationWarning: \u001b[33mWARN: Initializing wrapper in old step API which returns one bool instead of two. It is recommended to set `new_step_api=True` to use new step API. This will be the default behaviour in future.\u001b[0m\n",
            "  deprecation(\n",
            "/usr/local/lib/python3.10/dist-packages/gym/wrappers/step_api_compatibility.py:39: DeprecationWarning: \u001b[33mWARN: Initializing environment in old step API which returns one bool instead of two. It is recommended to set `new_step_api=True` to use new step API. This will be the default behaviour in future.\u001b[0m\n",
            "  deprecation(\n"
          ]
        }
      ],
      "source": [
        "env_2d = gym.make(\"FrozenLake-v1\", is_slippery=False, render_mode=\"rgb_array\")"
      ]
    },
    {
      "cell_type": "code",
      "execution_count": null,
      "id": "24ed0f69-99db-46ac-8690-b69867c3ef6a",
      "metadata": {
        "colab": {
          "base_uri": "https://localhost:8080/"
        },
        "id": "24ed0f69-99db-46ac-8690-b69867c3ef6a",
        "outputId": "ee136dd7-1519-46d8-d5c1-c9bbaf6f5b7d",
        "tags": []
      },
      "outputs": [
        {
          "output_type": "execute_result",
          "data": {
            "text/plain": [
              "Discrete(16)"
            ]
          },
          "metadata": {},
          "execution_count": 21
        }
      ],
      "source": [
        "env_2d.observation_space"
      ]
    },
    {
      "cell_type": "code",
      "execution_count": null,
      "id": "742362b9-0a62-4b2a-8547-ca5c849afd7b",
      "metadata": {
        "colab": {
          "base_uri": "https://localhost:8080/"
        },
        "id": "742362b9-0a62-4b2a-8547-ca5c849afd7b",
        "outputId": "d5dc1996-ff78-4a40-aa2d-3083f776abe3",
        "tags": []
      },
      "outputs": [
        {
          "output_type": "execute_result",
          "data": {
            "text/plain": [
              "Discrete(4)"
            ]
          },
          "metadata": {},
          "execution_count": 22
        }
      ],
      "source": [
        "env_2d.action_space"
      ]
    },
    {
      "cell_type": "code",
      "execution_count": null,
      "id": "159d9ffa-ba01-4deb-8fd9-8a47dcb6f21b",
      "metadata": {
        "id": "159d9ffa-ba01-4deb-8fd9-8a47dcb6f21b",
        "tags": []
      },
      "outputs": [],
      "source": [
        "# Define the \"Always Left\" policy\n",
        "def always_left_policy(observation):\n",
        "    return 0  # Action: Move left\n",
        "\n",
        "# Define the \"Always Right\" policy\n",
        "def always_right_policy(observation):\n",
        "    return 2  # Action: Move right\n",
        "\n",
        "def random_policy(observation):\n",
        "    return np.random.randint(0, 4)"
      ]
    },
    {
      "cell_type": "code",
      "execution_count": null,
      "id": "e37a8169-b7a9-4e72-8a05-d49e6a796630",
      "metadata": {
        "colab": {
          "base_uri": "https://localhost:8080/"
        },
        "id": "e37a8169-b7a9-4e72-8a05-d49e6a796630",
        "outputId": "4b1d6f13-5370-4c63-dd38-09e96746ce15",
        "tags": []
      },
      "outputs": [
        {
          "output_type": "stream",
          "name": "stderr",
          "text": [
            "  0%|          | 0/1000 [00:00<?, ?it/s]/usr/local/lib/python3.10/dist-packages/gym/utils/passive_env_checker.py:241: DeprecationWarning: `np.bool8` is a deprecated alias for `np.bool_`.  (Deprecated NumPy 1.24)\n",
            "  if not isinstance(terminated, (bool, np.bool8)):\n",
            "100%|██████████| 1000/1000 [02:12<00:00,  7.54it/s]\n"
          ]
        },
        {
          "output_type": "execute_result",
          "data": {
            "text/plain": [
              "0.0"
            ]
          },
          "metadata": {},
          "execution_count": 24
        }
      ],
      "source": [
        "evaluate_policy(env_2d, always_left_policy)"
      ]
    },
    {
      "cell_type": "code",
      "execution_count": null,
      "id": "74c95ee2-5a97-4b59-b8ca-2757f3107b6b",
      "metadata": {
        "colab": {
          "base_uri": "https://localhost:8080/"
        },
        "id": "74c95ee2-5a97-4b59-b8ca-2757f3107b6b",
        "outputId": "331b6389-8448-4683-a09c-946abce83bd8",
        "tags": []
      },
      "outputs": [
        {
          "output_type": "stream",
          "name": "stderr",
          "text": [
            "100%|██████████| 1000/1000 [02:13<00:00,  7.47it/s]\n"
          ]
        },
        {
          "output_type": "execute_result",
          "data": {
            "text/plain": [
              "0.0"
            ]
          },
          "metadata": {},
          "execution_count": 25
        }
      ],
      "source": [
        "evaluate_policy(env_2d, always_right_policy)"
      ]
    },
    {
      "cell_type": "code",
      "execution_count": null,
      "id": "3f637ef7-7040-484a-8e4b-b405dcbd4881",
      "metadata": {
        "colab": {
          "base_uri": "https://localhost:8080/"
        },
        "id": "3f637ef7-7040-484a-8e4b-b405dcbd4881",
        "outputId": "9b46dbdc-fbae-42c0-b31a-a2214a9c6e09",
        "tags": []
      },
      "outputs": [
        {
          "output_type": "stream",
          "name": "stderr",
          "text": [
            "100%|██████████| 1000/1000 [00:10<00:00, 97.45it/s]\n"
          ]
        },
        {
          "output_type": "execute_result",
          "data": {
            "text/plain": [
              "0.013"
            ]
          },
          "metadata": {},
          "execution_count": 26
        }
      ],
      "source": [
        "evaluate_policy(env_2d, random_policy)"
      ]
    },
    {
      "cell_type": "code",
      "execution_count": null,
      "id": "7cad6ced-1080-4dcb-812d-b5a998a397ce",
      "metadata": {
        "id": "7cad6ced-1080-4dcb-812d-b5a998a397ce",
        "tags": []
      },
      "outputs": [],
      "source": [
        "# Define the Position-Based Policy\n",
        "def position_based_policy(observation):\n",
        "    nrows, ncols = env_2d.desc.shape\n",
        "    goal_position = nrows * ncols - 1  # Calculate the goal position\n",
        "\n",
        "    current_row = observation // ncols\n",
        "    current_col = observation % ncols\n",
        "\n",
        "    if current_col < ncols - 1:\n",
        "        return 2  # Move right\n",
        "    elif current_row < nrows - 1:\n",
        "        return 1  # Move down\n",
        "    elif current_col > 0:\n",
        "        return 0  # Move left\n",
        "    else:\n",
        "        return 3  # Move up (towards the goal)"
      ]
    },
    {
      "cell_type": "code",
      "execution_count": null,
      "id": "e9cbd62c-f547-4cec-a61b-f0cab81f7ec6",
      "metadata": {
        "colab": {
          "base_uri": "https://localhost:8080/"
        },
        "id": "e9cbd62c-f547-4cec-a61b-f0cab81f7ec6",
        "outputId": "0c6bcb11-6cbc-4ebb-a082-b44be823aea1",
        "tags": []
      },
      "outputs": [
        {
          "output_type": "stream",
          "name": "stderr",
          "text": [
            "100%|██████████| 1000/1000 [00:06<00:00, 147.49it/s]\n"
          ]
        },
        {
          "output_type": "execute_result",
          "data": {
            "text/plain": [
              "0.0"
            ]
          },
          "metadata": {},
          "execution_count": 28
        }
      ],
      "source": [
        "evaluate_policy(env_2d, position_based_policy)"
      ]
    },
    {
      "cell_type": "code",
      "execution_count": null,
      "id": "70bf7b17-68a1-4f4b-be7a-d1233bab4740",
      "metadata": {
        "id": "70bf7b17-68a1-4f4b-be7a-d1233bab4740",
        "tags": []
      },
      "outputs": [],
      "source": [
        "# Define the Position-Based Policy\n",
        "def naive_position_based_policy(observation):\n",
        "    nrows, ncols = env_2d.desc.shape\n",
        "    goal_position = nrows * ncols - 1  # Calculate the goal position\n",
        "\n",
        "    current_row = observation // ncols\n",
        "    current_col = observation % ncols\n",
        "\n",
        "    if current_col < ncols - 1:\n",
        "        return 2  # Move right\n",
        "    elif current_row < nrows - 1:\n",
        "        return 1  # Move down\n",
        "    elif current_col > 0:\n",
        "        return 0  # Move left\n",
        "    else:\n",
        "        return 3  # Move up (towards the goal)"
      ]
    },
    {
      "cell_type": "code",
      "source": [
        "evaluate_policy(env_2d, naive_position_based_policy)"
      ],
      "metadata": {
        "colab": {
          "base_uri": "https://localhost:8080/"
        },
        "id": "2vAhynrF4koG",
        "outputId": "4f12d548-03e1-49f5-c3be-f072b1d907c1"
      },
      "id": "2vAhynrF4koG",
      "execution_count": null,
      "outputs": [
        {
          "output_type": "stream",
          "name": "stderr",
          "text": [
            "100%|██████████| 1000/1000 [00:08<00:00, 124.92it/s]\n"
          ]
        },
        {
          "output_type": "execute_result",
          "data": {
            "text/plain": [
              "0.0"
            ]
          },
          "metadata": {},
          "execution_count": 35
        }
      ]
    },
    {
      "cell_type": "code",
      "execution_count": null,
      "id": "f82420b1-c24b-4e8f-a3fd-9f9ca36a1380",
      "metadata": {
        "id": "f82420b1-c24b-4e8f-a3fd-9f9ca36a1380",
        "tags": [],
        "colab": {
          "base_uri": "https://localhost:8080/"
        },
        "outputId": "2e605d34-a8d1-41dc-c8cf-7b8e3ca30ca6"
      },
      "outputs": [
        {
          "output_type": "stream",
          "name": "stderr",
          "text": [
            "/usr/local/lib/python3.10/dist-packages/ipykernel/ipkernel.py:283: DeprecationWarning: `should_run_async` will not call `transform_cell` automatically in the future. Please pass the result to `transformed_cell` argument and any exception that happen during thetransform in `preprocessing_exc_tuple` in IPython 7.17 and above.\n",
            "  and should_run_async(code)\n"
          ]
        }
      ],
      "source": [
        "def position_based_policy2(observation):\n",
        "    nrows, ncols = env_2d.desc.shape\n",
        "    goal_position = nrows * ncols - 1  # Calculate the goal position\n",
        "\n",
        "    current_row = observation // ncols\n",
        "    current_col = observation % ncols\n",
        "\n",
        "    if current_col < ncols - 1 and env_2d.desc[current_row, current_col + 1] != b'H':\n",
        "        return 2  # Move right\n",
        "    elif current_row < nrows - 1 and env_2d.desc[current_row + 1, current_col] != b'H':\n",
        "        return 1  # Move down\n",
        "    elif current_col > 0 and env_2d.desc[current_row, current_col - 1] != b'H':\n",
        "        return 0  # Move left\n",
        "    else:\n",
        "        return 3  # Move up (towards the goal)"
      ]
    },
    {
      "cell_type": "code",
      "source": [
        "evaluate_policy(env_2d, position_based_policy2)"
      ],
      "metadata": {
        "colab": {
          "base_uri": "https://localhost:8080/"
        },
        "id": "Ptee2bHD4pSC",
        "outputId": "3ea0ed97-1c10-4ae6-8c31-29a72b51cd36"
      },
      "id": "Ptee2bHD4pSC",
      "execution_count": null,
      "outputs": [
        {
          "output_type": "stream",
          "name": "stderr",
          "text": [
            "100%|██████████| 1000/1000 [02:13<00:00,  7.50it/s]\n"
          ]
        },
        {
          "output_type": "execute_result",
          "data": {
            "text/plain": [
              "0.0"
            ]
          },
          "metadata": {},
          "execution_count": 37
        }
      ]
    },
    {
      "cell_type": "code",
      "execution_count": null,
      "id": "ae74b7d3-ffdf-484a-99ca-e8221ea699b3",
      "metadata": {
        "id": "ae74b7d3-ffdf-484a-99ca-e8221ea699b3",
        "tags": []
      },
      "outputs": [],
      "source": [
        "def smart_random_policy(observation):\n",
        "    nrows, ncols = env_2d.desc.shape\n",
        "    goal_position = nrows * ncols - 1  # Calculate the goal position\n",
        "\n",
        "    current_row = observation // ncols\n",
        "    current_col = observation % ncols\n",
        "\n",
        "    valid_move = False\n",
        "    while not valid_move:\n",
        "        action = np.random.randint(0, 4)  # Take a random move\n",
        "        if action == 0:  # Move left\n",
        "            new_col = max(current_col - 1, 0)\n",
        "            new_row = current_row\n",
        "        elif action == 1:  # Move down\n",
        "            new_col = current_col\n",
        "            new_row = min(current_row + 1, env_2d.env.nrow - 1)\n",
        "        elif action == 2:  # Move right\n",
        "            new_col = min(current_col + 1, env_2d.env.ncol - 1)\n",
        "            new_row = current_row\n",
        "        else:  # Move up\n",
        "            new_col = current_col\n",
        "            new_row = max(current_row - 1, 0)\n",
        "\n",
        "        next_state = new_row * env_2d.env.ncol + new_col\n",
        "        if env_2d.desc.flatten()[next_state] != b'H':  # Check if the move leads to a hole\n",
        "            valid_move = True\n",
        "    return action"
      ]
    },
    {
      "cell_type": "code",
      "execution_count": null,
      "id": "80ba3c17-d2dd-4716-b6c9-21a4b4a43987",
      "metadata": {
        "colab": {
          "base_uri": "https://localhost:8080/"
        },
        "id": "80ba3c17-d2dd-4716-b6c9-21a4b4a43987",
        "outputId": "87c97d03-1e32-4939-89c8-a96debe341ff",
        "tags": []
      },
      "outputs": [
        {
          "output_type": "stream",
          "name": "stderr",
          "text": [
            "100%|██████████| 1000/1000 [01:19<00:00, 12.55it/s]\n"
          ]
        },
        {
          "output_type": "execute_result",
          "data": {
            "text/plain": [
              "0.75"
            ]
          },
          "metadata": {},
          "execution_count": 32
        }
      ],
      "source": [
        "evaluate_policy(env_2d, smart_random_policy)"
      ]
    },
    {
      "cell_type": "markdown",
      "source": [
        "## Exercise\n",
        "\n",
        "Try creating a \"smart\" policy\n",
        "\n",
        "<details>\n",
        "  <summary>Hint</summary>\n",
        "  Try to calculate the Manhattan distance to the goal and select the action that minimizes this distance.\n",
        "\n",
        "  <details>\n",
        "    <summary>Show Python code</summary>\n",
        "    \n",
        "      def smart_goal_oriented_policy(observation):\n",
        "            nrows, ncols = env_2d.desc.shape\n",
        "            goal_position = nrows * ncols - 1  # Calculate the goal position\n",
        "\n",
        "            current_row = observation // ncols\n",
        "            current_col = observation % ncols\n",
        "            goal_row = goal_position // ncols\n",
        "            goal_col = goal_position % ncols\n",
        "\n",
        "\n",
        "            valid_moves = []\n",
        "\n",
        "            # Check all possible actions and select the ones that move closer to the goal\n",
        "            if current_col > 0:\n",
        "                new_col = current_col - 1\n",
        "                new_row = current_row\n",
        "                next_state = new_row * ncols + new_col\n",
        "                if env_2d.desc.flatten()[next_state] != b'H':  # Check if the move leads to a hole\n",
        "                    valid_moves.append((0, manhattan_distance(new_row, new_col)))  # Move left\n",
        "\n",
        "            if current_row < nrows - 1:\n",
        "                new_col = current_col\n",
        "                new_row = current_row + 1\n",
        "                next_state = new_row * ncols + new_col\n",
        "                if env_2d.desc.flatten()[next_state] != b'H':  # Check if the move leads to a hole\n",
        "                    valid_moves.append((1, manhattan_distance(new_row, new_col)))  # Move down\n",
        "\n",
        "            if current_col < ncols - 1:\n",
        "                new_col = current_col + 1\n",
        "                new_row = current_row\n",
        "                next_state = new_row * ncols + new_col\n",
        "                if env_2d.desc.flatten()[next_state] != b'H':  # Check if the move leads to a hole\n",
        "                    valid_moves.append((2, manhattan_distance(new_row, new_col)))  # Move right\n",
        "\n",
        "            if current_row > 0:\n",
        "                new_col = current_col\n",
        "                new_row = current_row - 1\n",
        "                next_state = new_row * ncols + new_col\n",
        "                if env_2d.desc.flatten()[next_state] != b'H':  # Check if the move leads to a hole\n",
        "                    valid_moves.append((3, manhattan_distance(new_row, new_col)))  # Move up\n",
        "\n",
        "            # Choose the action that minimizes the Manhattan distance to the goal\n",
        "            if valid_moves:\n",
        "                action = min(valid_moves, key=lambda x: x[1])[0]\n",
        "            else:\n",
        "                action = np.random.randint(0, 4)  # If no valid move, take a random move\n",
        "\n",
        "            return action\n",
        "\n",
        "  </details>\n",
        "</details>\n"
      ],
      "metadata": {
        "id": "3yJHuRXv9SMw"
      },
      "id": "3yJHuRXv9SMw"
    },
    {
      "cell_type": "code",
      "source": [
        "def smart_goal_oriented_policy(observation):\n",
        "    #TODO Complete this, however you want to do it\n",
        "    return -1\n"
      ],
      "metadata": {
        "colab": {
          "base_uri": "https://localhost:8080/"
        },
        "id": "lJZlyhLM5VvT",
        "outputId": "914fc408-4652-4384-9481-e438d1e85701"
      },
      "id": "lJZlyhLM5VvT",
      "execution_count": null,
      "outputs": [
        {
          "output_type": "stream",
          "name": "stderr",
          "text": [
            "/usr/local/lib/python3.10/dist-packages/ipykernel/ipkernel.py:283: DeprecationWarning: `should_run_async` will not call `transform_cell` automatically in the future. Please pass the result to `transformed_cell` argument and any exception that happen during thetransform in `preprocessing_exc_tuple` in IPython 7.17 and above.\n",
            "  and should_run_async(code)\n"
          ]
        }
      ]
    },
    {
      "cell_type": "markdown",
      "source": [],
      "metadata": {
        "id": "F8W0Tykz885k"
      },
      "id": "F8W0Tykz885k"
    },
    {
      "cell_type": "code",
      "source": [
        "env_2d.reset()\n",
        "evaluate_policy(env_2d, smart_goal_oriented_policy)"
      ],
      "metadata": {
        "colab": {
          "base_uri": "https://localhost:8080/",
          "height": 338
        },
        "id": "rlJBY51Y5WTH",
        "outputId": "fe7ae9f6-f3df-4bb4-f7e5-6fcb2fb081bb"
      },
      "id": "rlJBY51Y5WTH",
      "execution_count": null,
      "outputs": [
        {
          "output_type": "stream",
          "name": "stderr",
          "text": [
            "  0%|          | 0/1000 [00:00<?, ?it/s]\n"
          ]
        },
        {
          "output_type": "error",
          "ename": "KeyError",
          "evalue": "-1",
          "traceback": [
            "\u001b[0;31m---------------------------------------------------------------------------\u001b[0m",
            "\u001b[0;31mKeyError\u001b[0m                                  Traceback (most recent call last)",
            "\u001b[0;32m<ipython-input-68-2c45b2001367>\u001b[0m in \u001b[0;36m<cell line: 2>\u001b[0;34m()\u001b[0m\n\u001b[1;32m      1\u001b[0m \u001b[0menv_2d\u001b[0m\u001b[0;34m.\u001b[0m\u001b[0mreset\u001b[0m\u001b[0;34m(\u001b[0m\u001b[0;34m)\u001b[0m\u001b[0;34m\u001b[0m\u001b[0;34m\u001b[0m\u001b[0m\n\u001b[0;32m----> 2\u001b[0;31m \u001b[0mevaluate_policy\u001b[0m\u001b[0;34m(\u001b[0m\u001b[0menv_2d\u001b[0m\u001b[0;34m,\u001b[0m \u001b[0msmart_goal_oriented_policy\u001b[0m\u001b[0;34m)\u001b[0m\u001b[0;34m\u001b[0m\u001b[0;34m\u001b[0m\u001b[0m\n\u001b[0m",
            "\u001b[0;32m<ipython-input-2-8504d07758f0>\u001b[0m in \u001b[0;36mevaluate_policy\u001b[0;34m(env, policy, num_episodes)\u001b[0m\n\u001b[1;32m      8\u001b[0m         \u001b[0;32mwhile\u001b[0m \u001b[0;32mnot\u001b[0m \u001b[0mdone\u001b[0m\u001b[0;34m:\u001b[0m\u001b[0;34m\u001b[0m\u001b[0;34m\u001b[0m\u001b[0m\n\u001b[1;32m      9\u001b[0m             \u001b[0maction\u001b[0m \u001b[0;34m=\u001b[0m \u001b[0mpolicy\u001b[0m\u001b[0;34m(\u001b[0m\u001b[0mstate\u001b[0m\u001b[0;34m)\u001b[0m\u001b[0;34m\u001b[0m\u001b[0;34m\u001b[0m\u001b[0m\n\u001b[0;32m---> 10\u001b[0;31m             \u001b[0mnext_state\u001b[0m\u001b[0;34m,\u001b[0m \u001b[0mreward\u001b[0m\u001b[0;34m,\u001b[0m \u001b[0mdone\u001b[0m\u001b[0;34m,\u001b[0m \u001b[0minfo\u001b[0m \u001b[0;34m=\u001b[0m \u001b[0menv\u001b[0m\u001b[0;34m.\u001b[0m\u001b[0mstep\u001b[0m\u001b[0;34m(\u001b[0m\u001b[0maction\u001b[0m\u001b[0;34m)\u001b[0m\u001b[0;34m\u001b[0m\u001b[0;34m\u001b[0m\u001b[0m\n\u001b[0m\u001b[1;32m     11\u001b[0m             \u001b[0mepisode_reward\u001b[0m \u001b[0;34m+=\u001b[0m \u001b[0mreward\u001b[0m\u001b[0;34m\u001b[0m\u001b[0;34m\u001b[0m\u001b[0m\n\u001b[1;32m     12\u001b[0m             \u001b[0mstate\u001b[0m \u001b[0;34m=\u001b[0m \u001b[0mnext_state\u001b[0m\u001b[0;34m\u001b[0m\u001b[0;34m\u001b[0m\u001b[0m\n",
            "\u001b[0;32m/usr/local/lib/python3.10/dist-packages/gym/wrappers/time_limit.py\u001b[0m in \u001b[0;36mstep\u001b[0;34m(self, action)\u001b[0m\n\u001b[1;32m     58\u001b[0m         \"\"\"\n\u001b[1;32m     59\u001b[0m         observation, reward, terminated, truncated, info = step_api_compatibility(\n\u001b[0;32m---> 60\u001b[0;31m             \u001b[0mself\u001b[0m\u001b[0;34m.\u001b[0m\u001b[0menv\u001b[0m\u001b[0;34m.\u001b[0m\u001b[0mstep\u001b[0m\u001b[0;34m(\u001b[0m\u001b[0maction\u001b[0m\u001b[0;34m)\u001b[0m\u001b[0;34m,\u001b[0m\u001b[0;34m\u001b[0m\u001b[0;34m\u001b[0m\u001b[0m\n\u001b[0m\u001b[1;32m     61\u001b[0m             \u001b[0;32mTrue\u001b[0m\u001b[0;34m,\u001b[0m\u001b[0;34m\u001b[0m\u001b[0;34m\u001b[0m\u001b[0m\n\u001b[1;32m     62\u001b[0m         )\n",
            "\u001b[0;32m/usr/local/lib/python3.10/dist-packages/gym/wrappers/order_enforcing.py\u001b[0m in \u001b[0;36mstep\u001b[0;34m(self, action)\u001b[0m\n\u001b[1;32m     35\u001b[0m         \u001b[0;32mif\u001b[0m \u001b[0;32mnot\u001b[0m \u001b[0mself\u001b[0m\u001b[0;34m.\u001b[0m\u001b[0m_has_reset\u001b[0m\u001b[0;34m:\u001b[0m\u001b[0;34m\u001b[0m\u001b[0;34m\u001b[0m\u001b[0m\n\u001b[1;32m     36\u001b[0m             \u001b[0;32mraise\u001b[0m \u001b[0mResetNeeded\u001b[0m\u001b[0;34m(\u001b[0m\u001b[0;34m\"Cannot call env.step() before calling env.reset()\"\u001b[0m\u001b[0;34m)\u001b[0m\u001b[0;34m\u001b[0m\u001b[0;34m\u001b[0m\u001b[0m\n\u001b[0;32m---> 37\u001b[0;31m         \u001b[0;32mreturn\u001b[0m \u001b[0mself\u001b[0m\u001b[0;34m.\u001b[0m\u001b[0menv\u001b[0m\u001b[0;34m.\u001b[0m\u001b[0mstep\u001b[0m\u001b[0;34m(\u001b[0m\u001b[0maction\u001b[0m\u001b[0;34m)\u001b[0m\u001b[0;34m\u001b[0m\u001b[0;34m\u001b[0m\u001b[0m\n\u001b[0m\u001b[1;32m     38\u001b[0m \u001b[0;34m\u001b[0m\u001b[0m\n\u001b[1;32m     39\u001b[0m     \u001b[0;32mdef\u001b[0m \u001b[0mreset\u001b[0m\u001b[0;34m(\u001b[0m\u001b[0mself\u001b[0m\u001b[0;34m,\u001b[0m \u001b[0;34m**\u001b[0m\u001b[0mkwargs\u001b[0m\u001b[0;34m)\u001b[0m\u001b[0;34m:\u001b[0m\u001b[0;34m\u001b[0m\u001b[0;34m\u001b[0m\u001b[0m\n",
            "\u001b[0;32m/usr/local/lib/python3.10/dist-packages/gym/wrappers/step_api_compatibility.py\u001b[0m in \u001b[0;36mstep\u001b[0;34m(self, action)\u001b[0m\n\u001b[1;32m     50\u001b[0m             \u001b[0;34m(\u001b[0m\u001b[0mobservation\u001b[0m\u001b[0;34m,\u001b[0m \u001b[0mreward\u001b[0m\u001b[0;34m,\u001b[0m \u001b[0mterminated\u001b[0m\u001b[0;34m,\u001b[0m \u001b[0mtruncated\u001b[0m\u001b[0;34m,\u001b[0m \u001b[0minfo\u001b[0m\u001b[0;34m)\u001b[0m \u001b[0;32mor\u001b[0m \u001b[0;34m(\u001b[0m\u001b[0mobservation\u001b[0m\u001b[0;34m,\u001b[0m \u001b[0mreward\u001b[0m\u001b[0;34m,\u001b[0m \u001b[0mdone\u001b[0m\u001b[0;34m,\u001b[0m \u001b[0minfo\u001b[0m\u001b[0;34m)\u001b[0m\u001b[0;34m\u001b[0m\u001b[0;34m\u001b[0m\u001b[0m\n\u001b[1;32m     51\u001b[0m         \"\"\"\n\u001b[0;32m---> 52\u001b[0;31m         \u001b[0mstep_returns\u001b[0m \u001b[0;34m=\u001b[0m \u001b[0mself\u001b[0m\u001b[0;34m.\u001b[0m\u001b[0menv\u001b[0m\u001b[0;34m.\u001b[0m\u001b[0mstep\u001b[0m\u001b[0;34m(\u001b[0m\u001b[0maction\u001b[0m\u001b[0;34m)\u001b[0m\u001b[0;34m\u001b[0m\u001b[0;34m\u001b[0m\u001b[0m\n\u001b[0m\u001b[1;32m     53\u001b[0m         \u001b[0;32mif\u001b[0m \u001b[0mself\u001b[0m\u001b[0;34m.\u001b[0m\u001b[0mnew_step_api\u001b[0m\u001b[0;34m:\u001b[0m\u001b[0;34m\u001b[0m\u001b[0;34m\u001b[0m\u001b[0m\n\u001b[1;32m     54\u001b[0m             \u001b[0;32mreturn\u001b[0m \u001b[0mstep_to_new_api\u001b[0m\u001b[0;34m(\u001b[0m\u001b[0mstep_returns\u001b[0m\u001b[0;34m)\u001b[0m\u001b[0;34m\u001b[0m\u001b[0;34m\u001b[0m\u001b[0m\n",
            "\u001b[0;32m/usr/local/lib/python3.10/dist-packages/gym/wrappers/env_checker.py\u001b[0m in \u001b[0;36mstep\u001b[0;34m(self, action)\u001b[0m\n\u001b[1;32m     37\u001b[0m             \u001b[0;32mreturn\u001b[0m \u001b[0menv_step_passive_checker\u001b[0m\u001b[0;34m(\u001b[0m\u001b[0mself\u001b[0m\u001b[0;34m.\u001b[0m\u001b[0menv\u001b[0m\u001b[0;34m,\u001b[0m \u001b[0maction\u001b[0m\u001b[0;34m)\u001b[0m\u001b[0;34m\u001b[0m\u001b[0;34m\u001b[0m\u001b[0m\n\u001b[1;32m     38\u001b[0m         \u001b[0;32melse\u001b[0m\u001b[0;34m:\u001b[0m\u001b[0;34m\u001b[0m\u001b[0;34m\u001b[0m\u001b[0m\n\u001b[0;32m---> 39\u001b[0;31m             \u001b[0;32mreturn\u001b[0m \u001b[0mself\u001b[0m\u001b[0;34m.\u001b[0m\u001b[0menv\u001b[0m\u001b[0;34m.\u001b[0m\u001b[0mstep\u001b[0m\u001b[0;34m(\u001b[0m\u001b[0maction\u001b[0m\u001b[0;34m)\u001b[0m\u001b[0;34m\u001b[0m\u001b[0;34m\u001b[0m\u001b[0m\n\u001b[0m\u001b[1;32m     40\u001b[0m \u001b[0;34m\u001b[0m\u001b[0m\n\u001b[1;32m     41\u001b[0m     \u001b[0;32mdef\u001b[0m \u001b[0mreset\u001b[0m\u001b[0;34m(\u001b[0m\u001b[0mself\u001b[0m\u001b[0;34m,\u001b[0m \u001b[0;34m**\u001b[0m\u001b[0mkwargs\u001b[0m\u001b[0;34m)\u001b[0m\u001b[0;34m:\u001b[0m\u001b[0;34m\u001b[0m\u001b[0;34m\u001b[0m\u001b[0m\n",
            "\u001b[0;32m/usr/local/lib/python3.10/dist-packages/gym/envs/toy_text/frozen_lake.py\u001b[0m in \u001b[0;36mstep\u001b[0;34m(self, a)\u001b[0m\n\u001b[1;32m    245\u001b[0m \u001b[0;34m\u001b[0m\u001b[0m\n\u001b[1;32m    246\u001b[0m     \u001b[0;32mdef\u001b[0m \u001b[0mstep\u001b[0m\u001b[0;34m(\u001b[0m\u001b[0mself\u001b[0m\u001b[0;34m,\u001b[0m \u001b[0ma\u001b[0m\u001b[0;34m)\u001b[0m\u001b[0;34m:\u001b[0m\u001b[0;34m\u001b[0m\u001b[0;34m\u001b[0m\u001b[0m\n\u001b[0;32m--> 247\u001b[0;31m         \u001b[0mtransitions\u001b[0m \u001b[0;34m=\u001b[0m \u001b[0mself\u001b[0m\u001b[0;34m.\u001b[0m\u001b[0mP\u001b[0m\u001b[0;34m[\u001b[0m\u001b[0mself\u001b[0m\u001b[0;34m.\u001b[0m\u001b[0ms\u001b[0m\u001b[0;34m]\u001b[0m\u001b[0;34m[\u001b[0m\u001b[0ma\u001b[0m\u001b[0;34m]\u001b[0m\u001b[0;34m\u001b[0m\u001b[0;34m\u001b[0m\u001b[0m\n\u001b[0m\u001b[1;32m    248\u001b[0m         \u001b[0mi\u001b[0m \u001b[0;34m=\u001b[0m \u001b[0mcategorical_sample\u001b[0m\u001b[0;34m(\u001b[0m\u001b[0;34m[\u001b[0m\u001b[0mt\u001b[0m\u001b[0;34m[\u001b[0m\u001b[0;36m0\u001b[0m\u001b[0;34m]\u001b[0m \u001b[0;32mfor\u001b[0m \u001b[0mt\u001b[0m \u001b[0;32min\u001b[0m \u001b[0mtransitions\u001b[0m\u001b[0;34m]\u001b[0m\u001b[0;34m,\u001b[0m \u001b[0mself\u001b[0m\u001b[0;34m.\u001b[0m\u001b[0mnp_random\u001b[0m\u001b[0;34m)\u001b[0m\u001b[0;34m\u001b[0m\u001b[0;34m\u001b[0m\u001b[0m\n\u001b[1;32m    249\u001b[0m         \u001b[0mp\u001b[0m\u001b[0;34m,\u001b[0m \u001b[0ms\u001b[0m\u001b[0;34m,\u001b[0m \u001b[0mr\u001b[0m\u001b[0;34m,\u001b[0m \u001b[0mt\u001b[0m \u001b[0;34m=\u001b[0m \u001b[0mtransitions\u001b[0m\u001b[0;34m[\u001b[0m\u001b[0mi\u001b[0m\u001b[0;34m]\u001b[0m\u001b[0;34m\u001b[0m\u001b[0;34m\u001b[0m\u001b[0m\n",
            "\u001b[0;31mKeyError\u001b[0m: -1"
          ]
        }
      ]
    },
    {
      "cell_type": "markdown",
      "id": "0984621a-97e6-477e-9c88-9b10c9795a3c",
      "metadata": {
        "id": "0984621a-97e6-477e-9c88-9b10c9795a3c"
      },
      "source": [
        "## Viz"
      ]
    },
    {
      "cell_type": "code",
      "source": [
        "show_video_of_model(\"lake\", env_2d, smart_random_policy, max_steps=10000)"
      ],
      "metadata": {
        "colab": {
          "base_uri": "https://localhost:8080/"
        },
        "id": "oDUVvRTn8PR4",
        "outputId": "7d68befb-0a6d-40bd-f562-6116c28a4c05"
      },
      "id": "oDUVvRTn8PR4",
      "execution_count": null,
      "outputs": [
        {
          "output_type": "stream",
          "name": "stderr",
          "text": [
            "/usr/local/lib/python3.10/dist-packages/gym/wrappers/monitoring/video_recorder.py:101: DeprecationWarning: \u001b[33mWARN: <class 'gym.wrappers.monitoring.video_recorder.VideoRecorder'> is marked as deprecated and will be removed in the future.\u001b[0m\n",
            "  logger.deprecation(\n",
            "  1%|          | 66/10000 [00:00<00:58, 169.49it/s]\n"
          ]
        }
      ]
    },
    {
      "cell_type": "code",
      "source": [
        "show_video(\"lake\")"
      ],
      "metadata": {
        "colab": {
          "base_uri": "https://localhost:8080/",
          "height": 479
        },
        "id": "1diaZrra8SE4",
        "outputId": "f555679a-6e71-4b90-e7e4-2841f4c1a98f"
      },
      "id": "1diaZrra8SE4",
      "execution_count": null,
      "outputs": [
        {
          "output_type": "stream",
          "name": "stderr",
          "text": [
            "/usr/local/lib/python3.10/dist-packages/ipykernel/ipkernel.py:283: DeprecationWarning: `should_run_async` will not call `transform_cell` automatically in the future. Please pass the result to `transformed_cell` argument and any exception that happen during thetransform in `preprocessing_exc_tuple` in IPython 7.17 and above.\n",
            "  and should_run_async(code)\n"
          ]
        },
        {
          "output_type": "display_data",
          "data": {
            "text/plain": [
              "<IPython.core.display.HTML object>"
            ],
            "text/html": [
              "<video alt=\"test\" autoplay\n",
              "                loop controls style=\"height: 400px;\">\n",
              "                <source src=\"data:video/mp4;base64,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\" type=\"video/mp4\" />\n",
              "             </video>"
            ]
          },
          "metadata": {}
        }
      ]
    },
    {
      "cell_type": "code",
      "execution_count": null,
      "id": "885a33f0-8b1f-44d7-855b-ecf335ce03ae",
      "metadata": {
        "colab": {
          "base_uri": "https://localhost:8080/"
        },
        "collapsed": true,
        "id": "885a33f0-8b1f-44d7-855b-ecf335ce03ae",
        "jupyter": {
          "outputs_hidden": true
        },
        "outputId": "e2cb9901-d212-4bc2-d20e-3ce47b910a92",
        "tags": []
      },
      "outputs": [
        {
          "output_type": "stream",
          "name": "stderr",
          "text": [
            "/usr/local/lib/python3.10/dist-packages/gym/wrappers/monitoring/video_recorder.py:101: DeprecationWarning: \u001b[33mWARN: <class 'gym.wrappers.monitoring.video_recorder.VideoRecorder'> is marked as deprecated and will be removed in the future.\u001b[0m\n",
            "  logger.deprecation(\n",
            "  0%|          | 5/10000 [00:00<06:46, 24.59it/s]\n"
          ]
        }
      ],
      "source": [
        "show_video_of_model(\"lake\", env_2d, smart_goal_oriented_policy, max_steps=10000)"
      ]
    },
    {
      "cell_type": "code",
      "execution_count": null,
      "id": "def9e124-e63a-4c2f-b4cb-efa77a919f33",
      "metadata": {
        "colab": {
          "base_uri": "https://localhost:8080/",
          "height": 422
        },
        "id": "def9e124-e63a-4c2f-b4cb-efa77a919f33",
        "outputId": "9154b18a-80d7-41d4-bcc9-b39b832b78bc",
        "tags": []
      },
      "outputs": [
        {
          "output_type": "display_data",
          "data": {
            "text/plain": [
              "<IPython.core.display.HTML object>"
            ],
            "text/html": [
              "<video alt=\"test\" autoplay\n",
              "                loop controls style=\"height: 400px;\">\n",
              "                <source src=\"data:video/mp4;base64,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\" type=\"video/mp4\" />\n",
              "             </video>"
            ]
          },
          "metadata": {}
        }
      ],
      "source": [
        "show_video(\"lake\")"
      ]
    },
    {
      "cell_type": "code",
      "execution_count": null,
      "id": "a904b1ad-97b8-40a9-bb31-0f4752386ba8",
      "metadata": {
        "id": "a904b1ad-97b8-40a9-bb31-0f4752386ba8"
      },
      "outputs": [],
      "source": []
    },
    {
      "cell_type": "code",
      "execution_count": null,
      "id": "3cc251a7-1313-4ef0-9618-da27bb91b168",
      "metadata": {
        "id": "3cc251a7-1313-4ef0-9618-da27bb91b168"
      },
      "outputs": [],
      "source": []
    }
  ],
  "metadata": {
    "colab": {
      "provenance": [],
      "gpuType": "T4"
    },
    "kernelspec": {
      "display_name": "Python 3",
      "name": "python3"
    },
    "language_info": {
      "codemirror_mode": {
        "name": "ipython",
        "version": 3
      },
      "file_extension": ".py",
      "mimetype": "text/x-python",
      "name": "python",
      "nbconvert_exporter": "python",
      "pygments_lexer": "ipython3",
      "version": "3.11.4"
    },
    "accelerator": "GPU"
  },
  "nbformat": 4,
  "nbformat_minor": 5
}