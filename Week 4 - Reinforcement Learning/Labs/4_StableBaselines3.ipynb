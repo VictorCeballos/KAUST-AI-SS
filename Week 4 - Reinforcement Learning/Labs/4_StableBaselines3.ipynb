{
  "cells": [
    {
      "cell_type": "markdown",
      "metadata": {
        "id": "wMxVhiXG3vso"
      },
      "source": [
        "This notebook has been inspired from [StableBaselines3 RL Colab Notebooks](https://github.com/Stable-Baselines-Team/rl-colab-notebooks)"
      ]
    },
    {
      "cell_type": "markdown",
      "metadata": {
        "id": "2_MCROADMSxC"
      },
      "source": [
        "#Part 1: Stable Baselines 3"
      ]
    },
    {
      "cell_type": "markdown",
      "metadata": {
        "id": "RlcxGq-iMWVP"
      },
      "source": [
        "__[Stable Baselines3 (SB3)](https://stable-baselines3.readthedocs.io/en/master/)__ is a set of reliable implementations of reinforcement learning algorithms in PyTorch.\n",
        "\n",
        "In this notebook, you will learn the basics for using stable baselines3 library."
      ]
    },
    {
      "cell_type": "code",
      "execution_count": 1,
      "metadata": {
        "colab": {
          "base_uri": "https://localhost:8080/"
        },
        "collapsed": true,
        "id": "WoxurKQLOOQq",
        "outputId": "8309ad18-8e2c-491d-e689-d1bd7eae5da6"
      },
      "outputs": [
        {
          "output_type": "stream",
          "name": "stdout",
          "text": [
            "\u001b[2K     \u001b[90m━━━━━━━━━━━━━━━━━━━━━━━━━━━━━━━━━━━━━━━━\u001b[0m \u001b[32m1.9/1.9 MB\u001b[0m \u001b[31m23.7 MB/s\u001b[0m eta \u001b[36m0:00:00\u001b[0m\n",
            "\u001b[2K     \u001b[90m━━━━━━━━━━━━━━━━━━━━━━━━━━━━━━━━━━━━━━━━\u001b[0m \u001b[32m374.4/374.4 kB\u001b[0m \u001b[31m4.6 MB/s\u001b[0m eta \u001b[36m0:00:00\u001b[0m\n",
            "\u001b[?25h  Preparing metadata (setup.py) ... \u001b[?25l\u001b[?25hdone\n",
            "\u001b[2K     \u001b[90m━━━━━━━━━━━━━━━━━━━━━━━━━━━━━━━━━━━━━━━━\u001b[0m \u001b[32m18.3/18.3 MB\u001b[0m \u001b[31m26.8 MB/s\u001b[0m eta \u001b[36m0:00:00\u001b[0m\n",
            "\u001b[?25h  Building wheel for box2d-py (setup.py) ... \u001b[?25l\u001b[?25hdone\n",
            "Collecting stable-baselines3[extra]\n",
            "  Downloading stable_baselines3-2.3.2-py3-none-any.whl (182 kB)\n",
            "\u001b[2K     \u001b[90m━━━━━━━━━━━━━━━━━━━━━━━━━━━━━━━━━━━━━━━━\u001b[0m \u001b[32m182.3/182.3 kB\u001b[0m \u001b[31m4.9 MB/s\u001b[0m eta \u001b[36m0:00:00\u001b[0m\n",
            "\u001b[?25hCollecting gymnasium<0.30,>=0.28.1 (from stable-baselines3[extra])\n",
            "  Downloading gymnasium-0.29.1-py3-none-any.whl (953 kB)\n",
            "\u001b[2K     \u001b[90m━━━━━━━━━━━━━━━━━━━━━━━━━━━━━━━━━━━━━━━━\u001b[0m \u001b[32m953.9/953.9 kB\u001b[0m \u001b[31m42.4 MB/s\u001b[0m eta \u001b[36m0:00:00\u001b[0m\n",
            "\u001b[?25hRequirement already satisfied: numpy>=1.20 in /usr/local/lib/python3.10/dist-packages (from stable-baselines3[extra]) (1.25.2)\n",
            "Requirement already satisfied: torch>=1.13 in /usr/local/lib/python3.10/dist-packages (from stable-baselines3[extra]) (2.3.1+cu121)\n",
            "Requirement already satisfied: cloudpickle in /usr/local/lib/python3.10/dist-packages (from stable-baselines3[extra]) (2.2.1)\n",
            "Requirement already satisfied: pandas in /usr/local/lib/python3.10/dist-packages (from stable-baselines3[extra]) (2.0.3)\n",
            "Requirement already satisfied: matplotlib in /usr/local/lib/python3.10/dist-packages (from stable-baselines3[extra]) (3.7.1)\n",
            "Requirement already satisfied: opencv-python in /usr/local/lib/python3.10/dist-packages (from stable-baselines3[extra]) (4.8.0.76)\n",
            "Requirement already satisfied: pygame in /usr/local/lib/python3.10/dist-packages (from stable-baselines3[extra]) (2.1.0)\n",
            "Requirement already satisfied: tensorboard>=2.9.1 in /usr/local/lib/python3.10/dist-packages (from stable-baselines3[extra]) (2.15.2)\n",
            "Requirement already satisfied: psutil in /usr/local/lib/python3.10/dist-packages (from stable-baselines3[extra]) (5.9.5)\n",
            "Requirement already satisfied: tqdm in /usr/local/lib/python3.10/dist-packages (from stable-baselines3[extra]) (4.66.4)\n",
            "Requirement already satisfied: rich in /usr/local/lib/python3.10/dist-packages (from stable-baselines3[extra]) (13.7.1)\n",
            "Collecting shimmy[atari]~=1.3.0 (from stable-baselines3[extra])\n",
            "  Downloading Shimmy-1.3.0-py3-none-any.whl (37 kB)\n",
            "Requirement already satisfied: pillow in /usr/local/lib/python3.10/dist-packages (from stable-baselines3[extra]) (9.4.0)\n",
            "Collecting autorom[accept-rom-license]~=0.6.1 (from stable-baselines3[extra])\n",
            "  Downloading AutoROM-0.6.1-py3-none-any.whl (9.4 kB)\n",
            "Requirement already satisfied: click in /usr/local/lib/python3.10/dist-packages (from autorom[accept-rom-license]~=0.6.1->stable-baselines3[extra]) (8.1.7)\n",
            "Requirement already satisfied: requests in /usr/local/lib/python3.10/dist-packages (from autorom[accept-rom-license]~=0.6.1->stable-baselines3[extra]) (2.31.0)\n",
            "Collecting AutoROM.accept-rom-license (from autorom[accept-rom-license]~=0.6.1->stable-baselines3[extra])\n",
            "  Downloading AutoROM.accept-rom-license-0.6.1.tar.gz (434 kB)\n",
            "\u001b[2K     \u001b[90m━━━━━━━━━━━━━━━━━━━━━━━━━━━━━━━━━━━━━━━━\u001b[0m \u001b[32m434.7/434.7 kB\u001b[0m \u001b[31m42.2 MB/s\u001b[0m eta \u001b[36m0:00:00\u001b[0m\n",
            "\u001b[?25h  Installing build dependencies ... \u001b[?25l\u001b[?25hdone\n",
            "  Getting requirements to build wheel ... \u001b[?25l\u001b[?25hdone\n",
            "  Preparing metadata (pyproject.toml) ... \u001b[?25l\u001b[?25hdone\n",
            "Requirement already satisfied: typing-extensions>=4.3.0 in /usr/local/lib/python3.10/dist-packages (from gymnasium<0.30,>=0.28.1->stable-baselines3[extra]) (4.12.2)\n",
            "Collecting farama-notifications>=0.0.1 (from gymnasium<0.30,>=0.28.1->stable-baselines3[extra])\n",
            "  Using cached Farama_Notifications-0.0.4-py3-none-any.whl (2.5 kB)\n",
            "Collecting ale-py~=0.8.1 (from shimmy[atari]~=1.3.0->stable-baselines3[extra])\n",
            "  Downloading ale_py-0.8.1-cp310-cp310-manylinux_2_17_x86_64.manylinux2014_x86_64.whl (1.7 MB)\n",
            "\u001b[2K     \u001b[90m━━━━━━━━━━━━━━━━━━━━━━━━━━━━━━━━━━━━━━━━\u001b[0m \u001b[32m1.7/1.7 MB\u001b[0m \u001b[31m58.1 MB/s\u001b[0m eta \u001b[36m0:00:00\u001b[0m\n",
            "\u001b[?25hRequirement already satisfied: absl-py>=0.4 in /usr/local/lib/python3.10/dist-packages (from tensorboard>=2.9.1->stable-baselines3[extra]) (1.4.0)\n",
            "Requirement already satisfied: grpcio>=1.48.2 in /usr/local/lib/python3.10/dist-packages (from tensorboard>=2.9.1->stable-baselines3[extra]) (1.64.1)\n",
            "Requirement already satisfied: google-auth<3,>=1.6.3 in /usr/local/lib/python3.10/dist-packages (from tensorboard>=2.9.1->stable-baselines3[extra]) (2.27.0)\n",
            "Requirement already satisfied: google-auth-oauthlib<2,>=0.5 in /usr/local/lib/python3.10/dist-packages (from tensorboard>=2.9.1->stable-baselines3[extra]) (1.2.1)\n",
            "Requirement already satisfied: markdown>=2.6.8 in /usr/local/lib/python3.10/dist-packages (from tensorboard>=2.9.1->stable-baselines3[extra]) (3.6)\n",
            "Requirement already satisfied: protobuf!=4.24.0,>=3.19.6 in /usr/local/lib/python3.10/dist-packages (from tensorboard>=2.9.1->stable-baselines3[extra]) (3.20.3)\n",
            "Requirement already satisfied: setuptools>=41.0.0 in /usr/local/lib/python3.10/dist-packages (from tensorboard>=2.9.1->stable-baselines3[extra]) (67.7.2)\n",
            "Requirement already satisfied: six>1.9 in /usr/local/lib/python3.10/dist-packages (from tensorboard>=2.9.1->stable-baselines3[extra]) (1.16.0)\n",
            "Requirement already satisfied: tensorboard-data-server<0.8.0,>=0.7.0 in /usr/local/lib/python3.10/dist-packages (from tensorboard>=2.9.1->stable-baselines3[extra]) (0.7.2)\n",
            "Requirement already satisfied: werkzeug>=1.0.1 in /usr/local/lib/python3.10/dist-packages (from tensorboard>=2.9.1->stable-baselines3[extra]) (3.0.3)\n",
            "Requirement already satisfied: filelock in /usr/local/lib/python3.10/dist-packages (from torch>=1.13->stable-baselines3[extra]) (3.15.4)\n",
            "Requirement already satisfied: sympy in /usr/local/lib/python3.10/dist-packages (from torch>=1.13->stable-baselines3[extra]) (1.13.0)\n",
            "Requirement already satisfied: networkx in /usr/local/lib/python3.10/dist-packages (from torch>=1.13->stable-baselines3[extra]) (3.3)\n",
            "Requirement already satisfied: jinja2 in /usr/local/lib/python3.10/dist-packages (from torch>=1.13->stable-baselines3[extra]) (3.1.4)\n",
            "Requirement already satisfied: fsspec in /usr/local/lib/python3.10/dist-packages (from torch>=1.13->stable-baselines3[extra]) (2023.6.0)\n",
            "Collecting nvidia-cuda-nvrtc-cu12==12.1.105 (from torch>=1.13->stable-baselines3[extra])\n",
            "  Using cached nvidia_cuda_nvrtc_cu12-12.1.105-py3-none-manylinux1_x86_64.whl (23.7 MB)\n",
            "Collecting nvidia-cuda-runtime-cu12==12.1.105 (from torch>=1.13->stable-baselines3[extra])\n",
            "  Using cached nvidia_cuda_runtime_cu12-12.1.105-py3-none-manylinux1_x86_64.whl (823 kB)\n",
            "Collecting nvidia-cuda-cupti-cu12==12.1.105 (from torch>=1.13->stable-baselines3[extra])\n",
            "  Using cached nvidia_cuda_cupti_cu12-12.1.105-py3-none-manylinux1_x86_64.whl (14.1 MB)\n",
            "Collecting nvidia-cudnn-cu12==8.9.2.26 (from torch>=1.13->stable-baselines3[extra])\n",
            "  Using cached nvidia_cudnn_cu12-8.9.2.26-py3-none-manylinux1_x86_64.whl (731.7 MB)\n",
            "Collecting nvidia-cublas-cu12==12.1.3.1 (from torch>=1.13->stable-baselines3[extra])\n",
            "  Using cached nvidia_cublas_cu12-12.1.3.1-py3-none-manylinux1_x86_64.whl (410.6 MB)\n",
            "Collecting nvidia-cufft-cu12==11.0.2.54 (from torch>=1.13->stable-baselines3[extra])\n",
            "  Using cached nvidia_cufft_cu12-11.0.2.54-py3-none-manylinux1_x86_64.whl (121.6 MB)\n",
            "Collecting nvidia-curand-cu12==10.3.2.106 (from torch>=1.13->stable-baselines3[extra])\n",
            "  Using cached nvidia_curand_cu12-10.3.2.106-py3-none-manylinux1_x86_64.whl (56.5 MB)\n",
            "Collecting nvidia-cusolver-cu12==11.4.5.107 (from torch>=1.13->stable-baselines3[extra])\n",
            "  Using cached nvidia_cusolver_cu12-11.4.5.107-py3-none-manylinux1_x86_64.whl (124.2 MB)\n",
            "Collecting nvidia-cusparse-cu12==12.1.0.106 (from torch>=1.13->stable-baselines3[extra])\n",
            "  Using cached nvidia_cusparse_cu12-12.1.0.106-py3-none-manylinux1_x86_64.whl (196.0 MB)\n",
            "Collecting nvidia-nccl-cu12==2.20.5 (from torch>=1.13->stable-baselines3[extra])\n",
            "  Using cached nvidia_nccl_cu12-2.20.5-py3-none-manylinux2014_x86_64.whl (176.2 MB)\n",
            "Collecting nvidia-nvtx-cu12==12.1.105 (from torch>=1.13->stable-baselines3[extra])\n",
            "  Using cached nvidia_nvtx_cu12-12.1.105-py3-none-manylinux1_x86_64.whl (99 kB)\n",
            "Requirement already satisfied: triton==2.3.1 in /usr/local/lib/python3.10/dist-packages (from torch>=1.13->stable-baselines3[extra]) (2.3.1)\n",
            "Collecting nvidia-nvjitlink-cu12 (from nvidia-cusolver-cu12==11.4.5.107->torch>=1.13->stable-baselines3[extra])\n",
            "  Downloading nvidia_nvjitlink_cu12-12.5.82-py3-none-manylinux2014_x86_64.whl (21.3 MB)\n",
            "\u001b[2K     \u001b[90m━━━━━━━━━━━━━━━━━━━━━━━━━━━━━━━━━━━━━━━━\u001b[0m \u001b[32m21.3/21.3 MB\u001b[0m \u001b[31m71.9 MB/s\u001b[0m eta \u001b[36m0:00:00\u001b[0m\n",
            "\u001b[?25hRequirement already satisfied: contourpy>=1.0.1 in /usr/local/lib/python3.10/dist-packages (from matplotlib->stable-baselines3[extra]) (1.2.1)\n",
            "Requirement already satisfied: cycler>=0.10 in /usr/local/lib/python3.10/dist-packages (from matplotlib->stable-baselines3[extra]) (0.12.1)\n",
            "Requirement already satisfied: fonttools>=4.22.0 in /usr/local/lib/python3.10/dist-packages (from matplotlib->stable-baselines3[extra]) (4.53.1)\n",
            "Requirement already satisfied: kiwisolver>=1.0.1 in /usr/local/lib/python3.10/dist-packages (from matplotlib->stable-baselines3[extra]) (1.4.5)\n",
            "Requirement already satisfied: packaging>=20.0 in /usr/local/lib/python3.10/dist-packages (from matplotlib->stable-baselines3[extra]) (24.1)\n",
            "Requirement already satisfied: pyparsing>=2.3.1 in /usr/local/lib/python3.10/dist-packages (from matplotlib->stable-baselines3[extra]) (3.1.2)\n",
            "Requirement already satisfied: python-dateutil>=2.7 in /usr/local/lib/python3.10/dist-packages (from matplotlib->stable-baselines3[extra]) (2.8.2)\n",
            "Requirement already satisfied: pytz>=2020.1 in /usr/local/lib/python3.10/dist-packages (from pandas->stable-baselines3[extra]) (2023.4)\n",
            "Requirement already satisfied: tzdata>=2022.1 in /usr/local/lib/python3.10/dist-packages (from pandas->stable-baselines3[extra]) (2024.1)\n",
            "Requirement already satisfied: markdown-it-py>=2.2.0 in /usr/local/lib/python3.10/dist-packages (from rich->stable-baselines3[extra]) (3.0.0)\n",
            "Requirement already satisfied: pygments<3.0.0,>=2.13.0 in /usr/local/lib/python3.10/dist-packages (from rich->stable-baselines3[extra]) (2.16.1)\n",
            "Requirement already satisfied: importlib-resources in /usr/local/lib/python3.10/dist-packages (from ale-py~=0.8.1->shimmy[atari]~=1.3.0->stable-baselines3[extra]) (6.4.0)\n",
            "Requirement already satisfied: cachetools<6.0,>=2.0.0 in /usr/local/lib/python3.10/dist-packages (from google-auth<3,>=1.6.3->tensorboard>=2.9.1->stable-baselines3[extra]) (5.4.0)\n",
            "Requirement already satisfied: pyasn1-modules>=0.2.1 in /usr/local/lib/python3.10/dist-packages (from google-auth<3,>=1.6.3->tensorboard>=2.9.1->stable-baselines3[extra]) (0.4.0)\n",
            "Requirement already satisfied: rsa<5,>=3.1.4 in /usr/local/lib/python3.10/dist-packages (from google-auth<3,>=1.6.3->tensorboard>=2.9.1->stable-baselines3[extra]) (4.9)\n",
            "Requirement already satisfied: requests-oauthlib>=0.7.0 in /usr/local/lib/python3.10/dist-packages (from google-auth-oauthlib<2,>=0.5->tensorboard>=2.9.1->stable-baselines3[extra]) (1.3.1)\n",
            "Requirement already satisfied: mdurl~=0.1 in /usr/local/lib/python3.10/dist-packages (from markdown-it-py>=2.2.0->rich->stable-baselines3[extra]) (0.1.2)\n",
            "Requirement already satisfied: charset-normalizer<4,>=2 in /usr/local/lib/python3.10/dist-packages (from requests->autorom[accept-rom-license]~=0.6.1->stable-baselines3[extra]) (3.3.2)\n",
            "Requirement already satisfied: idna<4,>=2.5 in /usr/local/lib/python3.10/dist-packages (from requests->autorom[accept-rom-license]~=0.6.1->stable-baselines3[extra]) (3.7)\n",
            "Requirement already satisfied: urllib3<3,>=1.21.1 in /usr/local/lib/python3.10/dist-packages (from requests->autorom[accept-rom-license]~=0.6.1->stable-baselines3[extra]) (2.0.7)\n",
            "Requirement already satisfied: certifi>=2017.4.17 in /usr/local/lib/python3.10/dist-packages (from requests->autorom[accept-rom-license]~=0.6.1->stable-baselines3[extra]) (2024.7.4)\n",
            "Requirement already satisfied: MarkupSafe>=2.1.1 in /usr/local/lib/python3.10/dist-packages (from werkzeug>=1.0.1->tensorboard>=2.9.1->stable-baselines3[extra]) (2.1.5)\n",
            "Requirement already satisfied: mpmath<1.4,>=1.1.0 in /usr/local/lib/python3.10/dist-packages (from sympy->torch>=1.13->stable-baselines3[extra]) (1.3.0)\n",
            "Requirement already satisfied: pyasn1<0.7.0,>=0.4.6 in /usr/local/lib/python3.10/dist-packages (from pyasn1-modules>=0.2.1->google-auth<3,>=1.6.3->tensorboard>=2.9.1->stable-baselines3[extra]) (0.6.0)\n",
            "Requirement already satisfied: oauthlib>=3.0.0 in /usr/local/lib/python3.10/dist-packages (from requests-oauthlib>=0.7.0->google-auth-oauthlib<2,>=0.5->tensorboard>=2.9.1->stable-baselines3[extra]) (3.2.2)\n",
            "Building wheels for collected packages: AutoROM.accept-rom-license\n",
            "  Building wheel for AutoROM.accept-rom-license (pyproject.toml) ... \u001b[?25l\u001b[?25hdone\n",
            "  Created wheel for AutoROM.accept-rom-license: filename=AutoROM.accept_rom_license-0.6.1-py3-none-any.whl size=446664 sha256=286fb3fb5fe00bb2b8880ade65caa356f87ed9a808c67a5c7206b7ca7d9d13aa\n",
            "  Stored in directory: /root/.cache/pip/wheels/6b/1b/ef/a43ff1a2f1736d5711faa1ba4c1f61be1131b8899e6a057811\n",
            "Successfully built AutoROM.accept-rom-license\n",
            "Installing collected packages: farama-notifications, nvidia-nvtx-cu12, nvidia-nvjitlink-cu12, nvidia-nccl-cu12, nvidia-curand-cu12, nvidia-cufft-cu12, nvidia-cuda-runtime-cu12, nvidia-cuda-nvrtc-cu12, nvidia-cuda-cupti-cu12, nvidia-cublas-cu12, gymnasium, ale-py, shimmy, nvidia-cusparse-cu12, nvidia-cudnn-cu12, AutoROM.accept-rom-license, autorom, nvidia-cusolver-cu12, stable-baselines3\n",
            "Successfully installed AutoROM.accept-rom-license-0.6.1 ale-py-0.8.1 autorom-0.6.1 farama-notifications-0.0.4 gymnasium-0.29.1 nvidia-cublas-cu12-12.1.3.1 nvidia-cuda-cupti-cu12-12.1.105 nvidia-cuda-nvrtc-cu12-12.1.105 nvidia-cuda-runtime-cu12-12.1.105 nvidia-cudnn-cu12-8.9.2.26 nvidia-cufft-cu12-11.0.2.54 nvidia-curand-cu12-10.3.2.106 nvidia-cusolver-cu12-11.4.5.107 nvidia-cusparse-cu12-12.1.0.106 nvidia-nccl-cu12-2.20.5 nvidia-nvjitlink-cu12-12.5.82 nvidia-nvtx-cu12-12.1.105 shimmy-1.3.0 stable-baselines3-2.3.2\n"
          ]
        }
      ],
      "source": [
        "# Install SWIG, a tool used to connect C/C++ code with Python. It's often used in RL environments to enable efficient communication between Python and low-level implementations of algorithms\n",
        "!pip install -q swig\n",
        "\n",
        "# Install the gym library with the box2d environment, used for 2D physics-based simulation tasks\n",
        "!pip install -q gym[box2d]\n",
        "\n",
        "# Install stable-baselines3 with extra dependencies (needed for various environments and features in the library), a set of RL algorithms implemented in PyTorch\n",
        "!pip install stable-baselines3[extra]"
      ]
    },
    {
      "cell_type": "markdown",
      "metadata": {
        "id": "GpZ4KXeOOAfs"
      },
      "source": [
        "## Imports"
      ]
    },
    {
      "cell_type": "markdown",
      "metadata": {
        "id": "gcX8hEcaUpR0"
      },
      "source": [
        "Stable-Baselines works on environments that follow the __[gym interface](https://stable-baselines.readthedocs.io/en/master/guide/custom_env.html)__.\n"
      ]
    },
    {
      "cell_type": "code",
      "execution_count": 2,
      "metadata": {
        "id": "BIedd7Pz9sOs"
      },
      "outputs": [],
      "source": [
        "# Import the gymnasium library as gym, which provides various environments for developing and testing RL algorithms\n",
        "import gymnasium as gym\n",
        "import numpy as np"
      ]
    },
    {
      "cell_type": "markdown",
      "metadata": {
        "id": "Ae32CtgzTG3R"
      },
      "source": [
        "The first thing you need to import is the RL model (in our case __[PPO](https://stable-baselines3.readthedocs.io/en/master/modules/ppo.html)__)."
      ]
    },
    {
      "cell_type": "code",
      "execution_count": 11,
      "metadata": {
        "id": "R7tKaBFrTR0a"
      },
      "outputs": [],
      "source": [
        "# Import PPO (Proximal Policy Optimization) algorithm from stable-baselines3. PPO is a policy-gradient method and DQN is a value-based method\n",
        "from stable_baselines3 import PPO"
      ]
    },
    {
      "cell_type": "markdown",
      "metadata": {
        "id": "-0_8OQbOTTNT"
      },
      "source": [
        "The next thing you need to import is the __[policy class](https://stable-baselines.readthedocs.io/en/master/modules/policies.html)__ that will be used to create the networks (for the policy/value functions)."
      ]
    },
    {
      "cell_type": "code",
      "execution_count": 12,
      "metadata": {
        "id": "ROUJr675TT01"
      },
      "outputs": [],
      "source": [
        "# Import the MlpPolicy (Multi-Layer Perceptron) policy classe. MlpPolicy is a policy class that uses MLP for function approximation. CnnPolicy is a policy class that uses CNN for function approximation, typically used for image-based inputs\n",
        "from stable_baselines3.dqn import MlpPolicy\n",
        "\n",
        "# Import make_vec_env utility function to create vectorized environments for parallel execution of multiple environment instances. This can speed up training by allowing multiple agents to interact with their environments simultaneously\n",
        "from stable_baselines3.common.env_util import make_vec_env"
      ]
    },
    {
      "cell_type": "markdown",
      "metadata": {
        "id": "W5oyYTZHStJA"
      },
      "source": [
        "### Instantiate Environment"
      ]
    },
    {
      "cell_type": "markdown",
      "metadata": {
        "id": "pUS_4hP1zWRD"
      },
      "source": [
        "Let's consider the __[Lunar Lander](https://www.gymlibrary.dev/environments/box2d/lunar_lander/)__ environment."
      ]
    },
    {
      "cell_type": "code",
      "execution_count": null,
      "metadata": {
        "id": "Y9U9acl8SzW6"
      },
      "outputs": [],
      "source": [
        "# Parallel Environments: make_vec_env is used to create multiple instances of the environment to be run in parallel. This allows the agent to collect more experience in less time, leading to faster training\n",
        "vec_env = make_vec_env(\n",
        "    \"LunarLander-v2\",          # The name of the environment to create (LunarLander-v2 in this case, from OpenAI's Gym)\n",
        "    n_envs=4,                  # Number of parallel environments to create\n",
        "    wrapper_class=gym.wrappers.TimeLimit,  # The wrapper class (TimeLimit wrapper) will be applied to each environment. This wrapper is used to set a maximum number of steps per episode.  A wrapper allows us to modify the behavior of an environment without altering its core implementation\n",
        "    wrapper_kwargs={\"max_episode_steps\": 500}  # Keyword (additional) arguments for the wrapper (limit episodes to 500 steps). This prevents episodes from running indefinitely and ensures consistency in episode length\n",
        ")"
      ]
    },
    {
      "cell_type": "markdown",
      "metadata": {
        "id": "7RowjXx8TSwu"
      },
      "source": [
        "### Instantiate Agent"
      ]
    },
    {
      "cell_type": "code",
      "execution_count": null,
      "metadata": {
        "colab": {
          "base_uri": "https://localhost:8080/"
        },
        "id": "o-GlOW_ZTaIm",
        "outputId": "070eb2d4-e31f-4139-a889-98c6aedd9660"
      },
      "outputs": [
        {
          "name": "stdout",
          "output_type": "stream",
          "text": [
            "Using cuda device\n"
          ]
        }
      ],
      "source": [
        "# Create the PPO model with the MLP policy. PPO is a RL algorithm known for its stability and efficiency\n",
        "model = PPO(\"MlpPolicy\", vec_env, verbose=1) # Initialize the PPO algorithm with the MLP policy (policy network will be MLP, i.e. the NN will consist of fully connected layers), using the vectorized environment created above, and set verbosity to 1 to print basic information"
      ]
    },
    {
      "cell_type": "markdown",
      "metadata": {
        "id": "jl-rKB84TiyP"
      },
      "source": [
        "### Training the Agent"
      ]
    },
    {
      "cell_type": "markdown",
      "metadata": {
        "id": "yPSUmUELUOsa"
      },
      "source": [
        "Please, check the __[documentation](https://stable-baselines3.readthedocs.io/en/v2.0.0/modules/ppo.html)__ to know what information's printed in the output"
      ]
    },
    {
      "cell_type": "code",
      "execution_count": null,
      "metadata": {
        "colab": {
          "base_uri": "https://localhost:8080/"
        },
        "collapsed": true,
        "id": "xyxAjTuOToBX",
        "outputId": "38e8ac51-ef18-4e46-a777-dc3da06f880c"
      },
      "outputs": [
        {
          "name": "stderr",
          "output_type": "stream",
          "text": [
            "/usr/local/lib/python3.10/dist-packages/ipykernel/ipkernel.py:283: DeprecationWarning: `should_run_async` will not call `transform_cell` automatically in the future. Please pass the result to `transformed_cell` argument and any exception that happen during thetransform in `preprocessing_exc_tuple` in IPython 7.17 and above.\n",
            "  and should_run_async(code)\n"
          ]
        },
        {
          "name": "stdout",
          "output_type": "stream",
          "text": [
            "---------------------------------\n",
            "| rollout/           |          |\n",
            "|    ep_len_mean     | 92.5     |\n",
            "|    ep_rew_mean     | -169     |\n",
            "| time/              |          |\n",
            "|    fps             | 1377     |\n",
            "|    iterations      | 1        |\n",
            "|    time_elapsed    | 5        |\n",
            "|    total_timesteps | 8192     |\n",
            "---------------------------------\n",
            "-----------------------------------------\n",
            "| rollout/                |             |\n",
            "|    ep_len_mean          | 90.8        |\n",
            "|    ep_rew_mean          | -138        |\n",
            "| time/                   |             |\n",
            "|    fps                  | 958         |\n",
            "|    iterations           | 2           |\n",
            "|    time_elapsed         | 17          |\n",
            "|    total_timesteps      | 16384       |\n",
            "| train/                  |             |\n",
            "|    approx_kl            | 0.006861454 |\n",
            "|    clip_fraction        | 0.0373      |\n",
            "|    clip_range           | 0.2         |\n",
            "|    entropy_loss         | -1.38       |\n",
            "|    explained_variance   | 0.000952    |\n",
            "|    learning_rate        | 0.0003      |\n",
            "|    loss                 | 599         |\n",
            "|    n_updates            | 10          |\n",
            "|    policy_gradient_loss | -0.0052     |\n",
            "|    value_loss           | 1.16e+03    |\n",
            "-----------------------------------------\n",
            "-----------------------------------------\n",
            "| rollout/                |             |\n",
            "|    ep_len_mean          | 93.5        |\n",
            "|    ep_rew_mean          | -134        |\n",
            "| time/                   |             |\n",
            "|    fps                  | 915         |\n",
            "|    iterations           | 3           |\n",
            "|    time_elapsed         | 26          |\n",
            "|    total_timesteps      | 24576       |\n",
            "| train/                  |             |\n",
            "|    approx_kl            | 0.010345379 |\n",
            "|    clip_fraction        | 0.0801      |\n",
            "|    clip_range           | 0.2         |\n",
            "|    entropy_loss         | -1.37       |\n",
            "|    explained_variance   | 0.143       |\n",
            "|    learning_rate        | 0.0003      |\n",
            "|    loss                 | 181         |\n",
            "|    n_updates            | 20          |\n",
            "|    policy_gradient_loss | -0.00771    |\n",
            "|    value_loss           | 434         |\n",
            "-----------------------------------------\n",
            "-----------------------------------------\n",
            "| rollout/                |             |\n",
            "|    ep_len_mean          | 103         |\n",
            "|    ep_rew_mean          | -122        |\n",
            "| time/                   |             |\n",
            "|    fps                  | 867         |\n",
            "|    iterations           | 4           |\n",
            "|    time_elapsed         | 37          |\n",
            "|    total_timesteps      | 32768       |\n",
            "| train/                  |             |\n",
            "|    approx_kl            | 0.009871731 |\n",
            "|    clip_fraction        | 0.0857      |\n",
            "|    clip_range           | 0.2         |\n",
            "|    entropy_loss         | -1.35       |\n",
            "|    explained_variance   | 0.217       |\n",
            "|    learning_rate        | 0.0003      |\n",
            "|    loss                 | 292         |\n",
            "|    n_updates            | 30          |\n",
            "|    policy_gradient_loss | -0.00827    |\n",
            "|    value_loss           | 548         |\n",
            "-----------------------------------------\n",
            "-----------------------------------------\n",
            "| rollout/                |             |\n",
            "|    ep_len_mean          | 110         |\n",
            "|    ep_rew_mean          | -91.5       |\n",
            "| time/                   |             |\n",
            "|    fps                  | 849         |\n",
            "|    iterations           | 5           |\n",
            "|    time_elapsed         | 48          |\n",
            "|    total_timesteps      | 40960       |\n",
            "| train/                  |             |\n",
            "|    approx_kl            | 0.010915768 |\n",
            "|    clip_fraction        | 0.101       |\n",
            "|    clip_range           | 0.2         |\n",
            "|    entropy_loss         | -1.32       |\n",
            "|    explained_variance   | 0.343       |\n",
            "|    learning_rate        | 0.0003      |\n",
            "|    loss                 | 119         |\n",
            "|    n_updates            | 40          |\n",
            "|    policy_gradient_loss | -0.0114     |\n",
            "|    value_loss           | 327         |\n",
            "-----------------------------------------\n",
            "-----------------------------------------\n",
            "| rollout/                |             |\n",
            "|    ep_len_mean          | 118         |\n",
            "|    ep_rew_mean          | -74.7       |\n",
            "| time/                   |             |\n",
            "|    fps                  | 835         |\n",
            "|    iterations           | 6           |\n",
            "|    time_elapsed         | 58          |\n",
            "|    total_timesteps      | 49152       |\n",
            "| train/                  |             |\n",
            "|    approx_kl            | 0.012087183 |\n",
            "|    clip_fraction        | 0.16        |\n",
            "|    clip_range           | 0.2         |\n",
            "|    entropy_loss         | -1.28       |\n",
            "|    explained_variance   | 0.435       |\n",
            "|    learning_rate        | 0.0003      |\n",
            "|    loss                 | 66.3        |\n",
            "|    n_updates            | 50          |\n",
            "|    policy_gradient_loss | -0.0165     |\n",
            "|    value_loss           | 191         |\n",
            "-----------------------------------------\n",
            "------------------------------------------\n",
            "| rollout/                |              |\n",
            "|    ep_len_mean          | 134          |\n",
            "|    ep_rew_mean          | -63          |\n",
            "| time/                   |              |\n",
            "|    fps                  | 823          |\n",
            "|    iterations           | 7            |\n",
            "|    time_elapsed         | 69           |\n",
            "|    total_timesteps      | 57344        |\n",
            "| train/                  |              |\n",
            "|    approx_kl            | 0.0129254535 |\n",
            "|    clip_fraction        | 0.179        |\n",
            "|    clip_range           | 0.2          |\n",
            "|    entropy_loss         | -1.21        |\n",
            "|    explained_variance   | 0.53         |\n",
            "|    learning_rate        | 0.0003       |\n",
            "|    loss                 | 68.9         |\n",
            "|    n_updates            | 60           |\n",
            "|    policy_gradient_loss | -0.0147      |\n",
            "|    value_loss           | 148          |\n",
            "------------------------------------------\n",
            "-----------------------------------------\n",
            "| rollout/                |             |\n",
            "|    ep_len_mean          | 157         |\n",
            "|    ep_rew_mean          | -45.1       |\n",
            "| time/                   |             |\n",
            "|    fps                  | 803         |\n",
            "|    iterations           | 8           |\n",
            "|    time_elapsed         | 81          |\n",
            "|    total_timesteps      | 65536       |\n",
            "| train/                  |             |\n",
            "|    approx_kl            | 0.013358933 |\n",
            "|    clip_fraction        | 0.13        |\n",
            "|    clip_range           | 0.2         |\n",
            "|    entropy_loss         | -1.14       |\n",
            "|    explained_variance   | 0.534       |\n",
            "|    learning_rate        | 0.0003      |\n",
            "|    loss                 | 85.7        |\n",
            "|    n_updates            | 70          |\n",
            "|    policy_gradient_loss | -0.00916    |\n",
            "|    value_loss           | 213         |\n",
            "-----------------------------------------\n",
            "------------------------------------------\n",
            "| rollout/                |              |\n",
            "|    ep_len_mean          | 181          |\n",
            "|    ep_rew_mean          | -45.7        |\n",
            "| time/                   |              |\n",
            "|    fps                  | 784          |\n",
            "|    iterations           | 9            |\n",
            "|    time_elapsed         | 93           |\n",
            "|    total_timesteps      | 73728        |\n",
            "| train/                  |              |\n",
            "|    approx_kl            | 0.0126178255 |\n",
            "|    clip_fraction        | 0.134        |\n",
            "|    clip_range           | 0.2          |\n",
            "|    entropy_loss         | -1.1         |\n",
            "|    explained_variance   | 0.59         |\n",
            "|    learning_rate        | 0.0003       |\n",
            "|    loss                 | 79.5         |\n",
            "|    n_updates            | 80           |\n",
            "|    policy_gradient_loss | -0.0105      |\n",
            "|    value_loss           | 136          |\n",
            "------------------------------------------\n",
            "-----------------------------------------\n",
            "| rollout/                |             |\n",
            "|    ep_len_mean          | 200         |\n",
            "|    ep_rew_mean          | -49.6       |\n",
            "| time/                   |             |\n",
            "|    fps                  | 758         |\n",
            "|    iterations           | 10          |\n",
            "|    time_elapsed         | 107         |\n",
            "|    total_timesteps      | 81920       |\n",
            "| train/                  |             |\n",
            "|    approx_kl            | 0.007772323 |\n",
            "|    clip_fraction        | 0.0763      |\n",
            "|    clip_range           | 0.2         |\n",
            "|    entropy_loss         | -1.12       |\n",
            "|    explained_variance   | 0.707       |\n",
            "|    learning_rate        | 0.0003      |\n",
            "|    loss                 | 68.8        |\n",
            "|    n_updates            | 90          |\n",
            "|    policy_gradient_loss | -0.00846    |\n",
            "|    value_loss           | 139         |\n",
            "-----------------------------------------\n",
            "------------------------------------------\n",
            "| rollout/                |              |\n",
            "|    ep_len_mean          | 208          |\n",
            "|    ep_rew_mean          | -43.2        |\n",
            "| time/                   |              |\n",
            "|    fps                  | 739          |\n",
            "|    iterations           | 11           |\n",
            "|    time_elapsed         | 121          |\n",
            "|    total_timesteps      | 90112        |\n",
            "| train/                  |              |\n",
            "|    approx_kl            | 0.0067795087 |\n",
            "|    clip_fraction        | 0.0643       |\n",
            "|    clip_range           | 0.2          |\n",
            "|    entropy_loss         | -1.13        |\n",
            "|    explained_variance   | 0.79         |\n",
            "|    learning_rate        | 0.0003       |\n",
            "|    loss                 | 38.8         |\n",
            "|    n_updates            | 100          |\n",
            "|    policy_gradient_loss | -0.00836     |\n",
            "|    value_loss           | 112          |\n",
            "------------------------------------------\n",
            "-----------------------------------------\n",
            "| rollout/                |             |\n",
            "|    ep_len_mean          | 214         |\n",
            "|    ep_rew_mean          | -42.2       |\n",
            "| time/                   |             |\n",
            "|    fps                  | 722         |\n",
            "|    iterations           | 12          |\n",
            "|    time_elapsed         | 135         |\n",
            "|    total_timesteps      | 98304       |\n",
            "| train/                  |             |\n",
            "|    approx_kl            | 0.009202458 |\n",
            "|    clip_fraction        | 0.0956      |\n",
            "|    clip_range           | 0.2         |\n",
            "|    entropy_loss         | -1.1        |\n",
            "|    explained_variance   | 0.858       |\n",
            "|    learning_rate        | 0.0003      |\n",
            "|    loss                 | 28.6        |\n",
            "|    n_updates            | 110         |\n",
            "|    policy_gradient_loss | -0.00853    |\n",
            "|    value_loss           | 61.6        |\n",
            "-----------------------------------------\n",
            "-----------------------------------------\n",
            "| rollout/                |             |\n",
            "|    ep_len_mean          | 224         |\n",
            "|    ep_rew_mean          | -41.1       |\n",
            "| time/                   |             |\n",
            "|    fps                  | 707         |\n",
            "|    iterations           | 13          |\n",
            "|    time_elapsed         | 150         |\n",
            "|    total_timesteps      | 106496      |\n",
            "| train/                  |             |\n",
            "|    approx_kl            | 0.009572662 |\n",
            "|    clip_fraction        | 0.106       |\n",
            "|    clip_range           | 0.2         |\n",
            "|    entropy_loss         | -1.1        |\n",
            "|    explained_variance   | 0.875       |\n",
            "|    learning_rate        | 0.0003      |\n",
            "|    loss                 | 11.4        |\n",
            "|    n_updates            | 120         |\n",
            "|    policy_gradient_loss | -0.00905    |\n",
            "|    value_loss           | 45.3        |\n",
            "-----------------------------------------\n"
          ]
        },
        {
          "data": {
            "text/plain": [
              "<stable_baselines3.ppo.ppo.PPO at 0x7a79208358d0>"
            ]
          },
          "execution_count": 7,
          "metadata": {},
          "output_type": "execute_result"
        }
      ],
      "source": [
        "# Train the model\n",
        "model.learn(total_timesteps=100000) # Train the PPO model on the environment for 100,000 timesteps"
      ]
    },
    {
      "cell_type": "markdown",
      "metadata": {
        "id": "tc9IjJ1JXcf_"
      },
      "source": [
        "### Explanation of the output"
      ]
    },
    {
      "cell_type": "markdown",
      "metadata": {
        "id": "q6rjZaTipUf3"
      },
      "source": [
        "#### Rollout Phase"
      ]
    },
    {
      "cell_type": "markdown",
      "metadata": {
        "id": "P3m3vTJDncV6"
      },
      "source": [
        "The \"rollout phase\" refers to the process of collecting experience data by running the agent (or policy) in the environment. During this phase, the agent interacts with the environment to generate episodes, which consist of sequences of states, actions, rewards, and next states. These episodes are used to gather information about how the agent performs given its current policy.\n",
        "\n",
        "Here's a more detailed breakdown of what happens during the rollout phase:\n",
        "\n",
        "**Initialization:**\n",
        "\n",
        "- The environment is reset to an initial state.\n",
        "- The agent's policy is initialized or updated based on the current parameters.\n",
        "\n",
        "**Interaction with the Environment:**\n",
        "\n",
        "- The agent observes the current state of the environment.\n",
        "- Based on the current state, the agent selects an action using its policy.\n",
        "- The selected action is executed in the environment.\n",
        "- The environment transitions to a new state and provides a reward based on the action taken.\n",
        "\n",
        "**Data Collection:**\n",
        "\n",
        "- The state, action, reward, and next state are recorded.\n",
        "- This process is repeated until an episode ends (e.g., when the agent reaches a terminal state or a maximum number of steps is reached).\n",
        "\n",
        "**End of Episode:**\n",
        "\n",
        "- The cumulative reward and other statistics for the episode are recorded.\n",
        "- The environment is reset, and a new episode begins.\n",
        "- This process continues for a predefined number of episodes or timesteps.\n",
        "\n",
        "**Policy Update:**\n",
        "\n",
        "- Once sufficient data is collected, it is used to update the policy.\n",
        "- Depending on the algorithm, this may involve computing gradients and updating the policy parameters to maximize the expected reward.\n",
        "\n",
        "The rollout phase is crucial for gathering the data needed to improve the agent's policy. It provides real experience from the environment, which the agent uses to learn and adapt. The quality and diversity of the data collected during the rollout phase significantly impact the effectiveness of the learning process."
      ]
    },
    {
      "cell_type": "markdown",
      "metadata": {
        "id": "9oCwH_oYpdtL"
      },
      "source": [
        "#### Clipping"
      ]
    },
    {
      "cell_type": "markdown",
      "metadata": {
        "id": "zRTPHzygpNPZ"
      },
      "source": [
        "In PPO algorithms, \"clipping\" refers to a technique used to limit the change in the policy update to prevent it from diverging too far from the current policy. This helps ensure more stable and reliable learning.\n",
        "\n",
        "Here's a detailed explanation of the clipping mechanism in PPO:\n",
        "\n",
        "\n",
        "**Background**\n",
        "\n",
        "In PPO, we aim to maximize the expected reward by adjusting the policy. This involves updating the policy parameters to increase the probability of actions that lead to higher rewards. However, if the updates are too large, the policy can change drastically, leading to instability and poor performance.\n",
        "\n",
        "\n",
        "**Clipping in PPO**\n",
        "\n",
        "To address this issue, PPO introduces a clipping mechanism that constrains the policy updates. This is done using a surrogate objective function, which includes a clipped version of the probability ratio between the new policy and the old policy. The probability ratio is defined as:\n",
        "$r(\\theta) = \\frac{\\pi_\\theta(a \\mid s)}{\\pi_{\\theta_{\\text{old}}}(a \\mid s)}$\n",
        "where:\n",
        "- $\\pi_\\theta(a \\mid s)$ is the probability of taking action $a$ in state $s$ under the new policy with parameters $\\theta$.\n",
        "- $\\pi_{\\theta_{\\text{old}}}(a \\mid s)$ is the probability of taking action $a$ in state $s$ under the old policy with parameters $\\theta_{\\text{old}}$.\n",
        "\n",
        "\n",
        "**Clipped Surrogate Objective**\n",
        "\n",
        "The clipped surrogate objective is defined as:\n",
        "$L^{\\text{CLIP}}(\\theta) = \\mathbb{E} \\left[ \\min \\left( r(\\theta) \\widehat{A}, \\text{clip}(r(\\theta), 1 - \\epsilon, 1 + \\epsilon) \\widehat{A} \\right) \\right]$\n",
        "where:\n",
        "- $\\widehat{A}$ is the advantage estimate.\n",
        "- $\\epsilon$ is a small hyperparameter (e.g., 0.2) that defines the clipping range.\n",
        "- $\\text{clip}(r(\\theta), 1 - \\epsilon, 1 + \\epsilon)$ limits $r(\\theta)$ to the range $[1 - \\epsilon, 1 + \\epsilon]$.\n",
        "\n",
        "\n",
        "**Explanation**\n",
        "\n",
        "- **Without Clipping:** The objective function would directly use $r(\\theta) \\widehat{A}$. Large updates to the policy could lead to a high variance in the training process, causing instability.\n",
        "- **With Clipping:** The objective function uses the minimum of the unclipped and clipped terms. The clipping ensures that the ratio $r(\\theta)$ does not deviate too far from $1$, thus preventing large updates to the policy.\n",
        "\n",
        "By using this clipped objective, PPO limits the extent to which the policy can change in a single update, providing a balance between exploration (trying new actions) and exploitation (sticking to known good actions).\n",
        "\n",
        "**Policy Clip Statistics**\n",
        "\n",
        "In the training output, the `clip_fraction` represents the fraction of updates where the clipping was applied. This statistic helps monitor how often the clipping mechanism is being triggered, which can provide insights into the stability and effectiveness of the learning process. And `clip_range` defines the acceptable bounds for the policy update ratio. If `clip_range` is $0.2$, then the policy update ratio $r(\\theta)$ is clipped to the range $[0.8, 1.2]$. It is designed to prevent excessively large updates to the policy, promoting stability.\n",
        "\n",
        "For example:\n",
        "- A high `clip_fraction` might indicate that the policy updates are frequently being constrained, which could suggest that the learning rate is too high or that the policy is changing too rapidly.\n",
        "- A low `clip_fraction` suggests that the policy updates are mostly within the acceptable range, indicating more stable learning.\n",
        "- A larger `clip_range` allows for more significant changes in the policy update ratio, which can lead to more aggressive updates. This can be useful in some scenarios but can also lead to instability and divergence in training if the updates are too aggressive.\n",
        "- A smaller `clip_range` provides more conservative updates, promoting stability but potentially slowing down learning if the updates are too restrictive.\n",
        "\n",
        "By keeping the policy changes within a controlled range, PPO achieves a good trade-off between improving the policy and maintaining stability during training."
      ]
    },
    {
      "cell_type": "markdown",
      "metadata": {
        "id": "i-0aAOgKz_Lr"
      },
      "source": [
        "#### Explained Variance"
      ]
    },
    {
      "cell_type": "markdown",
      "metadata": {
        "id": "uyrdpWmo0FrW"
      },
      "source": [
        "Explained Variance is a statistical measure used to quantify how well a model's predictions explain the variability of the observed data. In PPO, explained variance is used to evaluate the performance of the value function (also known as the critic).\n",
        "\n",
        "Explained variance is defined as follows:\n",
        "\n",
        "$$\\text{Explained Variance} = 1 - \\frac{\\text{Var}(V(s) - R)}{\\text{Var}(R)}$$\n",
        "\n",
        "where:\n",
        "\n",
        "- $V(s)$ is the value function's prediction of the expected return for state $s$, i.e. it is the agent's estimate of the expected return starting from state $s$ and following the current policy $\\pi$ thereafter.\n",
        "- $R$ is the actual return (sum of rewards) received, i.e. it is the total accumulated reward that the agent receives starting from a particular state until the end of the episode (lunar module either lands successfully, crashes, or the episode reaches its maximum length).\n",
        "- $\\text{Var}(V(s) - R)$ is the variance of the difference between the predicted value and the actual return.\n",
        "- $\\text{Var}(R)$ is the variance of the actual returns.\n",
        "\n",
        "**Interpretation**\n",
        "\n",
        "- **Values close to 1:** A high explained variance (close to 1) indicates that the value function predictions are closely aligned with the actual returns. This means the value function is accurately predicting the returns.\n",
        "- **Values close to 0:** An explained variance close to 0 indicates that the value function does not explain the variability in the returns any better than simply using the mean of the returns. This suggests that the value function is not performing well.\n",
        "- **Negative Values:** Negative values indicate that the predictions are worse than using the mean of the returns, which can happen if the model is overfitting or if there is a mismatch in the scale of predictions and actual returns.\n",
        "\n",
        "In summary, explained variance is a key metric for assessing the accuracy of the value function in reinforcement learning. It helps in understanding how well the value function is predicting the actual returns, which in turn affects the quality of policy updates and overall performance of the reinforcement learning algorithm.\n"
      ]
    },
    {
      "cell_type": "markdown",
      "metadata": {
        "id": "hPzcEje2tH3f"
      },
      "source": [
        "#### Example of the output with comments"
      ]
    },
    {
      "cell_type": "code",
      "execution_count": null,
      "metadata": {
        "id": "46pTKFv5XVdM"
      },
      "outputs": [],
      "source": [
        "# ---------------------------------\n",
        "# | rollout/                |      |\n",
        "# |    ep_len_mean          | 91.6 |  # Average episode length. The mean length of episodes (in timesteps) during the rollout phase\n",
        "# |    ep_rew_mean          | -165 |  # Average episode reward. The mean reward per episode\n",
        "# | time/                   |      |\n",
        "# |    fps                  | 2071 |  # Frames per second. It indicates the speed at which the environment is being simulated\n",
        "# |    iterations           | 1    |  # Number of iterations the training loop has completed\n",
        "# |    time_elapsed         | 4    |  # Time elapsed since the training started, in seconds\n",
        "# |    total_timesteps      | 10240|  # Total number of timesteps that have been processed\n",
        "# ---------------------------------\n",
        "# ---------------------------------\n",
        "# | rollout/                |      |\n",
        "# |    ep_len_mean          | 96.2 |  # Mean length of episodes has increased from 91.6 to 96.2 timesteps\n",
        "# |    ep_rew_mean          | -154 |  # Mean reward per episode has slightly improved from -165 to -154\n",
        "# | time/                   |      |\n",
        "# |    fps                  | 1183 |  # Frames per second have decreased to 1183 frames per second, indicating a slower simulation speed\n",
        "# |    iterations           | 2    |  # Number of iterations has increased to 2\n",
        "# |    time_elapsed         | 17   |  # Time elapsed has increased to 17 seconds\n",
        "# |    total_timesteps      | 20480|  # Total number of timesteps has increased to 20480\n",
        "# | train/                  |      |\n",
        "# |    approx_kl            | 0.00750589|  # Approximate KL divergence between the old and new policy distributions. It measures how much the new policy deviates from the old policy. Smaller values indicate that the policies are similar, which is desired during training to ensure stable learning\n",
        "# |    clip_fraction        | 0.0474    |  # Fraction of time the policy update was clipped. Clipping helps prevent large, destabilizing updates\n",
        "# |    clip_range           | 0.2       |  # Clipping range for the policy updates. It ensures that the policy changes are small and stable, preventing large, potentially harmful updates\n",
        "# |    entropy_loss         | -1.38     |  # Entropy loss, which measures the randomness of the policy. A higher value indicates more exploration, while lower entropy means the policy is more deterministic\n",
        "# |    explained_variance   | -0.00924  |  # Explained variance of the value function. It measures how well the value function explains the variance of the returns. Here, it's -0.00924, indicating poor performance\n",
        "# |    learning_rate        | 0.0003    |  # Learning rate used during training. It determines the step size for updating the policy and value function. Smaller learning rates lead to more gradual updates, while larger learning rates lead to faster but potentially unstable updates\n",
        "# |    loss                 | 319       |  # Total loss value: a combination of the policy loss, value loss, and entropy loss. Lower values indicate that the model is performing better according to the loss function\n",
        "# |    n_updates            | 10        |  # Number of updates that have been performed. It indicates how many times the model has been updated during training. This helps in understanding the training progress\n",
        "# |    policy_gradient_loss | -0.00618  |  # Policy gradient loss (loss from the policy gradient update). It measures the loss specifically from the policy update. Negative values indicate that the policy is improving, while positive values indicate degradation\n",
        "# |    value_loss           | 934       |  # Value function loss (loss from the value function update). It measures the accuracy of the value function in predicting rewards. Lower values indicate a more accurate value function\n",
        "# --------------------------------------"
      ]
    },
    {
      "cell_type": "markdown",
      "metadata": {
        "id": "i-I90N3Igu5v"
      },
      "source": [
        "### Evaluation"
      ]
    },
    {
      "cell_type": "code",
      "execution_count": null,
      "metadata": {
        "colab": {
          "base_uri": "https://localhost:8080/"
        },
        "id": "OHTJuOuchdOe",
        "outputId": "c3fd9afa-2bd4-487c-a97d-025ad12742c1"
      },
      "outputs": [
        {
          "name": "stdout",
          "output_type": "stream",
          "text": [
            "mean_reward:-116.88 +/- 19.38\n"
          ]
        }
      ],
      "source": [
        "# Import the evaluate_policy function from stable_baselines3 for evaluating the agent's performance\n",
        "from stable_baselines3.common.evaluation import evaluate_policy\n",
        "\n",
        "# Use a separate environement for evaluation (for more details see above)\n",
        "eval_env = make_vec_env(\"LunarLander-v2\", n_envs=1, wrapper_class=gym.wrappers.TimeLimit, wrapper_kwargs={\"max_episode_steps\":500})\n",
        "\n",
        "mean_reward, std_reward = evaluate_policy(model, eval_env, n_eval_episodes=5) # Evaluate the agent's policy over 5 episodes in the eval_env. The function returns the mean reward and the standard deviation of rewards\n",
        "\n",
        "# Print a summary of the agent's performance during the evaluation episodes\n",
        "print(f\"mean_reward:{mean_reward:.2f} +/- {std_reward:.2f}\")"
      ]
    },
    {
      "cell_type": "markdown",
      "metadata": {
        "id": "yOj_1lT8gkIL"
      },
      "source": [
        "### Saving and Loading"
      ]
    },
    {
      "cell_type": "code",
      "execution_count": null,
      "metadata": {
        "id": "KjPq6STCgjrA"
      },
      "outputs": [],
      "source": [
        "# Save the current trained model to a file named ppo_lunarlander.zip. This is useful for preserving the model so it can be loaded and used later without having to retrain it\n",
        "model.save(\"ppo_lunarlander\")\n",
        "\n",
        "# Remove the model from memory. It is included here to demonstrate that the model can be completely removed from memory and then reloaded from the saved file\n",
        "del model\n",
        "\n",
        "# Load the model from from the previously saved file ppo_lunarlander.zip. After this, the model object will be restored and can be used as before\n",
        "model = PPO.load(\"ppo_lunarlander\")"
      ]
    },
    {
      "cell_type": "markdown",
      "metadata": {
        "id": "4oDvqNXGE3-D"
      },
      "source": [
        "### Visualization"
      ]
    },
    {
      "cell_type": "code",
      "execution_count": null,
      "metadata": {
        "id": "gT7EFCqfEAYH"
      },
      "outputs": [],
      "source": [
        "# For visualization\n",
        "from gym.wrappers.monitoring import video_recorder  # Import video recording utility from gym\n",
        "from IPython.display import HTML  # Import HTML display utility from IPython\n",
        "from IPython import display  # Import display utility from IPython\n",
        "import glob  # Import glob for file pattern matching\n",
        "import base64, io, os, shutil  # Import base64 for encoding, io for file handling, os for operating system interactions, and shutil for file operations\n",
        "from stable_baselines3.common.vec_env import VecVideoRecorder, DummyVecEnv  # Import vectorized video recorder and dummy vectorized environment from stable-baselines3\n",
        "\n",
        "# Set SDL video driver to 'dummy' to avoid issues on headless servers (servers without a graphical interface)\n",
        "os.environ['SDL_VIDEODRIVER'] = 'dummy'"
      ]
    },
    {
      "cell_type": "code",
      "execution_count": null,
      "metadata": {
        "id": "GmyN1qwqFAcF"
      },
      "outputs": [],
      "source": [
        "# Remove existing 'video' directory and create a new one to store video files\n",
        "shutil.rmtree('video', ignore_errors=True)\n",
        "os.makedirs(\"video\", exist_ok=True)\n",
        "\n",
        "# Function to display the recorded video. It searches for mp4 files in the 'video' directory, reads and encodes the video in base64 format, and displays it using an HTML video tag\n",
        "def show_video():\n",
        "    mp4list = glob.glob('video/*.mp4')  # Get list of mp4 files in the 'video' directory\n",
        "    if len(mp4list) > 0:\n",
        "        mp4 = mp4list[0]  # Get the first mp4 file from the list\n",
        "        video = io.open(mp4, 'r+b').read()  # Read the video file\n",
        "        encoded = base64.b64encode(video)  # Encode the video in base64\n",
        "        display.display(HTML(data='''<video alt=\"test\" autoplay loop controls style=\"height: 400px;\">\n",
        "              <source src=\"data:video/mp4;base64,{0}\" type=\"video/mp4\" />\n",
        "            </video>'''.format(encoded.decode('ascii'))))  # Display the video in an HTML video tag\n",
        "    else:\n",
        "        print(\"Could not find video\")  # Print error message if no video found\n",
        "\n",
        "\n",
        "# Function to record a video of a RL model's performance in the LunarLander-v2 environment. It sets up the environment and video recorder, runs the model for a specified number of steps, and records the video\n",
        "def show_video_of_model():\n",
        "    \"\"\"\n",
        "    :param env_id: (str) environment ID\n",
        "    :param model: (RL model) reinforcement learning model\n",
        "    :param video_length: (int) length of the video in frames\n",
        "    :param prefix: (str) prefix for the video file name\n",
        "    :param video_folder: (str) folder to save the video\n",
        "    \"\"\"\n",
        "    video_length = 600  # Set video length to 600 frames\n",
        "    eval_env = make_vec_env(\"LunarLander-v2\", n_envs=1)  # Create a vectorized environment for LunarLander-v2\n",
        "\n",
        "    # Start the video at step=0 and record 600 steps\n",
        "    eval_env = VecVideoRecorder(\n",
        "        eval_env,\n",
        "        video_folder=\"video/\",  # Folder to save the video\n",
        "        record_video_trigger=lambda step: step == 0,  # Trigger video recording at the first step\n",
        "        video_length=video_length,  # Length of the video\n",
        "        name_prefix=\"\",  # Prefix for the video file name\n",
        "    )\n",
        "\n",
        "    obs = eval_env.reset()  # Reset the environment to start\n",
        "    for _ in range(video_length):\n",
        "        action, _ = model.predict(obs)  # Predict the action using the model\n",
        "        obs, _, _, _ = eval_env.step(action)  # Take the action in the environment and get the new observation\n",
        "\n",
        "    # Close the video recorder\n",
        "    eval_env.close()"
      ]
    },
    {
      "cell_type": "code",
      "execution_count": null,
      "metadata": {
        "colab": {
          "base_uri": "https://localhost:8080/"
        },
        "collapsed": true,
        "id": "EDnpeR1aFZNW",
        "outputId": "1de23eca-7f39-45ef-cf43-8c7b8a1baab3"
      },
      "outputs": [
        {
          "name": "stdout",
          "output_type": "stream",
          "text": [
            "Saving video to /content/video/-step-0-to-step-600.mp4\n",
            "Moviepy - Building video /content/video/-step-0-to-step-600.mp4.\n",
            "Moviepy - Writing video /content/video/-step-0-to-step-600.mp4\n",
            "\n"
          ]
        },
        {
          "name": "stderr",
          "output_type": "stream",
          "text": []
        },
        {
          "name": "stdout",
          "output_type": "stream",
          "text": [
            "Moviepy - Done !\n",
            "Moviepy - video ready /content/video/-step-0-to-step-600.mp4\n"
          ]
        }
      ],
      "source": [
        "show_video_of_model()"
      ]
    },
    {
      "cell_type": "code",
      "execution_count": null,
      "metadata": {
        "colab": {
          "base_uri": "https://localhost:8080/",
          "height": 477
        },
        "id": "i1lgvG_TFdf3",
        "outputId": "f446a772-3f69-40c3-9b21-af0e9b3a6987"
      },
      "outputs": [
        {
          "name": "stderr",
          "output_type": "stream",
          "text": [
            "/usr/local/lib/python3.10/dist-packages/ipykernel/ipkernel.py:283: DeprecationWarning: `should_run_async` will not call `transform_cell` automatically in the future. Please pass the result to `transformed_cell` argument and any exception that happen during thetransform in `preprocessing_exc_tuple` in IPython 7.17 and above.\n",
            "  and should_run_async(code)\n"
          ]
        },
        {
          "data": {
            "text/html": [
              "<video alt=\"test\" autoplay loop controls style=\"height: 400px;\">\n",
              "              <source src=\"data:video/mp4;base64,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\" type=\"video/mp4\" />\n",
              "            </video>"
            ],
            "text/plain": [
              "<IPython.core.display.HTML object>"
            ]
          },
          "metadata": {},
          "output_type": "display_data"
        }
      ],
      "source": [
        "show_video()"
      ]
    },
    {
      "cell_type": "markdown",
      "metadata": {
        "id": "wIRu7Y-OcVs7"
      },
      "source": [
        "# $\\color{limegreen}{\\text{TODO: Part 1}}$"
      ]
    },
    {
      "cell_type": "markdown",
      "metadata": {
        "id": "ZRCctkbxcY_X"
      },
      "source": [
        "### $\\color{limegreen}{\\text{Task 1 (1 point)}}$\n"
      ]
    },
    {
      "cell_type": "markdown",
      "metadata": {
        "id": "Fmtc0YX7dG2l"
      },
      "source": [
        "$\\text{As you can see, the mean reward above is negative. Can you modify one of the hyperparameters so that the mean reward becomes positive?}$"
      ]
    },
    {
      "cell_type": "markdown",
      "metadata": {
        "id": "PwSgH6WWd917"
      },
      "source": [
        "### $\\color{limegreen}{\\text{Task 2 (3 points)}}$"
      ]
    },
    {
      "cell_type": "markdown",
      "metadata": {
        "id": "94WMafE9eAXB"
      },
      "source": [
        "$\\text{Plot the training progress (reward over time) using matplotlib.}$\n",
        "<details>\n",
        "  <summary>Hint</summary>\n",
        "  PPO's method $\\textbf{learn}$ has a paramater $\\textbf{callback}$, which is called at every step with state of the algorithm.  We can build our custom callback, for example, in the following way:\n",
        "  <details>\n",
        "    <summary>Show Code</summary>\n",
        "  \n",
        "    from stable_baselines3.common.callbacks import BaseCallback\n",
        "\n",
        "    class RewardCallback(BaseCallback):\n",
        "        def __init__(self, verbose=0):\n",
        "            super(RewardCallback, self).__init__(verbose)\n",
        "            self.rewards = []\n",
        "\n",
        "        def _on_step(self) -> bool:\n",
        "            if self.locals['dones'][0]:  # Check if an episode is done\n",
        "                episode_reward = sum(self.locals['infos'][0]['episode']['r'])\n",
        "                self.rewards.append(episode_reward)\n",
        "                print(f\"Episode: {len(self.rewards)}, Reward: {episode_reward}\")\n",
        "            return True  \n",
        "  </details>\n",
        "</details>"
      ]
    },
    {
      "cell_type": "code",
      "execution_count": null,
      "metadata": {
        "id": "TFF6qWsYeZoP"
      },
      "outputs": [],
      "source": [
        "import matplotlib.pyplot as plt\n",
        "\n",
        "# Plotting\n",
        "plt.plot()\n",
        "plt.xlabel('Episode')\n",
        "plt.ylabel('Reward')\n",
        "plt.title('Training Progress')\n",
        "plt.show()"
      ]
    },
    {
      "cell_type": "markdown",
      "metadata": {
        "id": "ADF8C2Mnus96"
      },
      "source": [
        "### $\\color{limegreen}{\\text{Task 3 (3 points)}}$"
      ]
    },
    {
      "cell_type": "markdown",
      "metadata": {
        "id": "5r2TFziEuuSO"
      },
      "source": [
        "$\\text{Above we have trained our PPO model on the \"LunarLander-v2\" environment. Now, please complete the following tasks}$\n",
        "1. $\\text{Train your PPO model on the}$ __[\"MountainCar-v0\"](https://www.gymlibrary.dev/environments/classic_control/mountain_car/)__ $\\text{environment.}$\n",
        "2. $\\text{Does your car reach the flag?}$\n",
        "3. $\\text{In case your car does not reach the flag, adjust the hyperparameters until it does.}$\n",
        "<details>\n",
        "  <summary>Hint</summary>\n",
        "  Set the number of parallel environments to 16, the number of steps to run for each environment per update (n_steps) to 256, and increase the number of timesteps to 1 million.\n",
        "</details>"
      ]
    },
    {
      "cell_type": "markdown",
      "metadata": {
        "id": "o5CahNR2yEGr"
      },
      "source": [
        "### $\\color{limegreen}{\\text{Task 4 (2 points)}}$"
      ]
    },
    {
      "cell_type": "markdown",
      "metadata": {
        "id": "Q-55-5PvyG0z"
      },
      "source": [
        "1. $\\text{Replace the PPO model with the}$ __[DQN](https://stable-baselines3.readthedocs.io/en/master/modules/dqn.html)__ $\\text{model and train the agent on the same environment. Compare the results.}$\n",
        "2. $\\text{While using the DQN model, replace \"MlpPolicy\" with \"CnnPolicy\" and train the agent on the same environment. Do you observe anything unusual?}$"
      ]
    },
    {
      "cell_type": "markdown",
      "metadata": {
        "id": "4FsqT82sp5wq"
      },
      "source": [
        "### $\\color{limegreen}{\\text{Task 5 (2 points)}}$"
      ]
    },
    {
      "cell_type": "markdown",
      "metadata": {
        "id": "nrq6ifvDp9Yg"
      },
      "source": [
        "1. $\\text{Install the gym library with the Atari environment, used for training agents on}$ __[Atari 2600 games](https://en.wikipedia.org/wiki/List_of_Atari_2600_games)__. $\\text{To install the Atari environments, run the command}$ `!pip install -q gym[atari]`.\n",
        "2. $\\text{Training a RL agent on Atari games is straightforward thanks to}$ `make_atari_env` $\\text{helper function. Consider, for example, the environment}$ __[\"ALE/MsPacman-v5\"](https://www.gymlibrary.dev/environments/atari/ms_pacman/)__ $\\text{(or you can choose any other you want)}$. $\\text{Train your agent using the PPO model with \"CnnPolicy\" and provide the visualization.}$  "
      ]
    },
    {
      "cell_type": "markdown",
      "metadata": {
        "id": "hKwupU-Jgxjm"
      },
      "source": [
        "#Part 2: Gym and VecEnv Wrappers"
      ]
    },
    {
      "cell_type": "markdown",
      "metadata": {
        "id": "ds4AAfmISQIA"
      },
      "source": [
        "## Anatomy of a gym wrapper"
      ]
    },
    {
      "cell_type": "markdown",
      "metadata": {
        "id": "gnTS9e9hTzZZ"
      },
      "source": [
        "A gym wrapper follows the [gym](https://stable-baselines.readthedocs.io/en/master/guide/custom_env.html) interface: it has a `reset()` and `step()` method. A wrapper allows us to modify the behavior of an environment without altering its core implementation.\n",
        "\n",
        "Because a wrapper is *around* an environment, we can access it with `self.env`, this allow to easily interact with it without modifying the original env.\n",
        "There are many wrappers that have been predefined, for a complete list refer to [gym documentation](https://gymnasium.farama.org/api/wrappers/)"
      ]
    },
    {
      "cell_type": "code",
      "execution_count": 3,
      "metadata": {
        "id": "hYo0C0TQSL3c",
        "colab": {
          "base_uri": "https://localhost:8080/"
        },
        "outputId": "a537ba00-a1c0-4820-e92b-036e4012a246"
      },
      "outputs": [
        {
          "output_type": "stream",
          "name": "stderr",
          "text": [
            "/usr/local/lib/python3.10/dist-packages/ipykernel/ipkernel.py:283: DeprecationWarning: `should_run_async` will not call `transform_cell` automatically in the future. Please pass the result to `transformed_cell` argument and any exception that happen during thetransform in `preprocessing_exc_tuple` in IPython 7.17 and above.\n",
            "  and should_run_async(code)\n"
          ]
        }
      ],
      "source": [
        "# Define a custom wrapper class that inherits from gym.Wrapper\n",
        "class CustomWrapper(gym.Wrapper):\n",
        "    \"\"\"\n",
        "    :param env: (gym.Env) Gym environment that will be wrapped\n",
        "    \"\"\"\n",
        "    def __init__(self, env):\n",
        "        \"\"\"\n",
        "        Initialize the wrapper.\n",
        "        :param env: The environment to wrap.\n",
        "        \"\"\"\n",
        "        # Call the parent constructor, so we can access self.env later\n",
        "        super().__init__(env)\n",
        "\n",
        "    def reset(self, **kwargs):\n",
        "        \"\"\"\n",
        "        Reset the environment.\n",
        "        :param kwargs: Additional arguments for the reset method.\n",
        "        :return: Initial observation and info after reset.\n",
        "        \"\"\"\n",
        "        # Call the reset method of the wrapped environment\n",
        "        obs, info = self.env.reset(**kwargs)\n",
        "        return obs, info\n",
        "\n",
        "    def step(self, action):\n",
        "        \"\"\"\n",
        "        Step the environment with the given action.\n",
        "        :param action: (float or int) Action taken by the agent.\n",
        "        :return: Tuple containing observation, reward, terminated, truncated, and info.\n",
        "                 - obs: The next observation.\n",
        "                 - reward: The reward received from the environment.\n",
        "                 - terminated: Whether the episode has terminated.\n",
        "                 - truncated: Whether the episode was truncated (e.g., max steps reached).\n",
        "                 - info: Additional information.\n",
        "        \"\"\"\n",
        "        # Take a step in the wrapped environment\n",
        "        obs, reward, terminated, truncated, info = self.env.step(action)\n",
        "        return obs, reward, terminated, truncated, info"
      ]
    },
    {
      "cell_type": "markdown",
      "metadata": {
        "id": "4zeGuyICUN26"
      },
      "source": [
        "## First example: limit the episode length\n",
        "\n",
        "One practical use case of a wrapper is when you want to limit the number of steps by episode, for that you will need to overwrite the `done` signal when the limit is reached. It is also a good practice to pass that information in the `info` dictionary."
      ]
    },
    {
      "cell_type": "code",
      "execution_count": 4,
      "metadata": {
        "id": "Eb2U4_K6SNUx"
      },
      "outputs": [],
      "source": [
        "# Define a custom wrapper class that inherits from gym.Wrapper\n",
        "class TimeLimitWrapper(gym.Wrapper):\n",
        "    \"\"\"\n",
        "    :param env: (gym.Env) Gym environment that will be wrapped\n",
        "    :param max_steps: (int) Max number of steps per episode\n",
        "    \"\"\"\n",
        "    def __init__(self, env, max_steps=100):\n",
        "        \"\"\"\n",
        "        Initialize the wrapper.\n",
        "        :param env: The environment to wrap.\n",
        "        :param max_steps: The maximum number of steps per episode.\n",
        "        \"\"\"\n",
        "        # Call the parent constructor, so we can access self.env later\n",
        "        super(TimeLimitWrapper, self).__init__(env)\n",
        "        self.max_steps = max_steps\n",
        "        # Counter of steps per episode\n",
        "        self.current_step = 0\n",
        "\n",
        "    def reset(self, **kwargs):\n",
        "        \"\"\"\n",
        "        Reset the environment.\n",
        "        :param kwargs: Additional arguments for the reset method.\n",
        "        :return: Initial observation and info after reset.\n",
        "        \"\"\"\n",
        "        # Reset the counter\n",
        "        self.current_step = 0\n",
        "        # Call the reset method of the wrapped environment\n",
        "        return self.env.reset(**kwargs)\n",
        "\n",
        "    def step(self, action):\n",
        "        \"\"\"\n",
        "        Step the environment with the given action.\n",
        "        :param action: (float or int) Action taken by the agent.\n",
        "        :return: Tuple containing observation, reward, terminated, truncated, and info.\n",
        "                 - obs: The next observation.\n",
        "                 - reward: The reward received from the environment.\n",
        "                 - terminated: Whether the episode has terminated.\n",
        "                 - truncated: Whether the episode was truncated (e.g., max steps reached).\n",
        "                 - info: Additional information.\n",
        "        \"\"\"\n",
        "        self.current_step += 1\n",
        "        # Take a step in the wrapped environment\n",
        "        obs, reward, terminated, truncated, info = self.env.step(action)\n",
        "\n",
        "        # Overwrite the truncation signal when the number of steps reaches the maximum\n",
        "        if self.current_step >= self.max_steps:\n",
        "            truncated = True\n",
        "\n",
        "        return obs, reward, terminated, truncated, info"
      ]
    },
    {
      "cell_type": "markdown",
      "metadata": {
        "id": "oZufaUJwVM9w"
      },
      "source": [
        "#### Test the wrapper"
      ]
    },
    {
      "cell_type": "markdown",
      "source": [
        "Let's test our wrapper on the __[Pendulum](https://www.gymlibrary.dev/environments/classic_control/pendulum/)__ environment."
      ],
      "metadata": {
        "id": "lkSFqs5qMmZl"
      }
    },
    {
      "cell_type": "code",
      "execution_count": 6,
      "metadata": {
        "id": "szZ43D5PVB07",
        "colab": {
          "base_uri": "https://localhost:8080/"
        },
        "outputId": "9e4762eb-b4d3-4ff7-a548-d95b226c5b07"
      },
      "outputs": [
        {
          "output_type": "stream",
          "name": "stdout",
          "text": [
            "100 {}\n"
          ]
        }
      ],
      "source": [
        "# Import the Pendulum environment from gymnasium\n",
        "from gymnasium.envs.classic_control.pendulum import PendulumEnv\n",
        "\n",
        "# Here we create the environment directly because gym.make() already wraps environments with a default TimeLimit wrapper.\n",
        "# If we were to use gym.make(), the environment would already have this TimeLimit wrapper applied, which might conflict with or make redundant the custom TimeLimitWrapper we are trying to test.\n",
        "# By creating the environment directly, we avoid the automatic application of the default TimeLimit wrapper, allowing you to explicitly wrap the environment with your custom TimeLimitWrapper.\n",
        "env = PendulumEnv()\n",
        "\n",
        "# Wrap the environment with our custom TimeLimitWrapper\n",
        "env = TimeLimitWrapper(env, max_steps=100)\n",
        "\n",
        "# Reset the environment and get the initial observation\n",
        "obs, _ = env.reset()\n",
        "done = False\n",
        "n_steps = 0\n",
        "\n",
        "# Loop until the episode is done\n",
        "while not done:\n",
        "    # Take random actions\n",
        "    random_action = env.action_space.sample()\n",
        "    # Step the environment with the random action\n",
        "    obs, reward, terminated, truncated, info = env.step(random_action)\n",
        "    # Update the done flag if the episode is terminated or truncated\n",
        "    done = terminated or truncated\n",
        "    # Increment the step counter\n",
        "    n_steps += 1\n",
        "\n",
        "# Print the number of steps taken and the info dictionary\n",
        "print(n_steps, info)"
      ]
    },
    {
      "cell_type": "markdown",
      "metadata": {
        "id": "jkMYA63sV9aA"
      },
      "source": [
        "In practice (as we saw above), `gym` already have a wrapper for that named `TimeLimit` (`gym.wrappers.TimeLimit`) that is used by most environments."
      ]
    },
    {
      "cell_type": "markdown",
      "metadata": {
        "id": "VIIJbSyQW9R-"
      },
      "source": [
        "## Second example: normalize actions\n",
        "\n",
        "It is usually a good idea to normalize observations and actions before giving it to the agent, this prevents this [hard to debug issue](https://github.com/hill-a/stable-baselines/issues/473).\n",
        "\n",
        "In this example, we are going to normalize the action space of __[\"Pendulum-v1\"](https://www.gymlibrary.dev/environments/classic_control/pendulum/)__ so all actions lie in [-1, 1] instead of [-2, 2].\n",
        "\n",
        "Note: here we are dealing with continuous actions, hence the `gym.Box` space"
      ]
    },
    {
      "cell_type": "code",
      "execution_count": 7,
      "metadata": {
        "id": "F5E6kZfzW8vy",
        "colab": {
          "base_uri": "https://localhost:8080/"
        },
        "outputId": "afa62889-bf58-439f-a074-cf8197899c45"
      },
      "outputs": [
        {
          "output_type": "stream",
          "name": "stderr",
          "text": [
            "/usr/local/lib/python3.10/dist-packages/ipykernel/ipkernel.py:283: DeprecationWarning: `should_run_async` will not call `transform_cell` automatically in the future. Please pass the result to `transformed_cell` argument and any exception that happen during thetransform in `preprocessing_exc_tuple` in IPython 7.17 and above.\n",
            "  and should_run_async(code)\n"
          ]
        }
      ],
      "source": [
        "# Import numpy for numerical operations\n",
        "import numpy as np\n",
        "\n",
        "# Define a custom wrapper class that inherits from gym.Wrapper\n",
        "class NormalizeActionWrapper(gym.Wrapper):\n",
        "    \"\"\"\n",
        "    :param env: (gym.Env) Gym environment that will be wrapped\n",
        "    \"\"\"\n",
        "    def __init__(self, env):\n",
        "        \"\"\"\n",
        "        Initialize the wrapper.\n",
        "        :param env: The environment to wrap.\n",
        "        \"\"\"\n",
        "        # Retrieve the action space\n",
        "        action_space = env.action_space\n",
        "        assert isinstance(action_space, gym.spaces.Box), \"This wrapper only works with continuous action space (spaces.Box)\"\n",
        "\n",
        "        # Retrieve the max/min values\n",
        "        self.low, self.high = action_space.low, action_space.high\n",
        "\n",
        "        # We modify the action space, so all actions will lie in [-1, 1]\n",
        "        env.action_space = gym.spaces.Box(low=-1, high=1, shape=action_space.shape, dtype=np.float32)\n",
        "\n",
        "        # Call the parent constructor, so we can access self.env later\n",
        "        super(NormalizeActionWrapper, self).__init__(env)\n",
        "\n",
        "    def rescale_action(self, scaled_action):\n",
        "        \"\"\"\n",
        "        Rescale the action from [-1, 1] to [low, high]\n",
        "        (no need for symmetric action space)\n",
        "        :param scaled_action: (np.ndarray) The action to rescale\n",
        "        :return: (np.ndarray) The rescaled action\n",
        "        \"\"\"\n",
        "        return self.low + 0.5 * (scaled_action + 1.0) * (self.high - self.low)\n",
        "\n",
        "    def reset(self, **kwargs):\n",
        "        \"\"\"\n",
        "        Reset the environment.\n",
        "        :param kwargs: Additional arguments for the reset method.\n",
        "        :return: Initial observation and info after reset.\n",
        "        \"\"\"\n",
        "        return self.env.reset(**kwargs)\n",
        "\n",
        "    def step(self, action):\n",
        "        \"\"\"\n",
        "        Step the environment with the given action.\n",
        "        :param action: (float or int) Action taken by the agent.\n",
        "        :return: Tuple containing observation, reward, terminated, truncated, and info.\n",
        "                 - obs: The next observation.\n",
        "                 - reward: The reward received from the environment.\n",
        "                 - terminated: Whether the episode has terminated.\n",
        "                 - truncated: Whether the episode was truncated (e.g., max steps reached).\n",
        "                 - info: Additional information.\n",
        "        \"\"\"\n",
        "        # Rescale the action from [-1, 1] to the original [low, high] interval\n",
        "        rescaled_action = self.rescale_action(action)\n",
        "        # Take a step in the wrapped environment\n",
        "        obs, reward, terminated, truncated, info = self.env.step(rescaled_action)\n",
        "        return obs, reward, terminated, truncated, info"
      ]
    },
    {
      "cell_type": "markdown",
      "metadata": {
        "id": "TmJ0eahNaR6K"
      },
      "source": [
        "#### Test before rescaling actions"
      ]
    },
    {
      "cell_type": "code",
      "execution_count": 8,
      "metadata": {
        "colab": {
          "base_uri": "https://localhost:8080/"
        },
        "id": "UEnjBwisaQIx",
        "outputId": "355da933-e8f4-426d-8d78-565b776c489c"
      },
      "outputs": [
        {
          "output_type": "stream",
          "name": "stdout",
          "text": [
            "Action space lower bound: [-2.]\n",
            "Sampled action: [-0.12697212]\n",
            "Sampled action: [1.3001432]\n",
            "Sampled action: [-1.3474667]\n",
            "Sampled action: [-0.77796227]\n",
            "Sampled action: [1.4073026]\n",
            "Sampled action: [-0.42040053]\n",
            "Sampled action: [1.7825118]\n",
            "Sampled action: [1.4175887]\n",
            "Sampled action: [-1.9813699]\n",
            "Sampled action: [0.5613942]\n"
          ]
        }
      ],
      "source": [
        "# Create an instance of the Pendulum-v1 environment using gym.make()\n",
        "original_env = gym.make(\"Pendulum-v1\")\n",
        "\n",
        "# Print the lower bound of the action space\n",
        "print(\"Action space lower bound:\", original_env.action_space.low)\n",
        "\n",
        "# Sample and print 10 actions from the action space to see their values\n",
        "for _ in range(10):\n",
        "    # Sample a random action from the action space\n",
        "    action = original_env.action_space.sample()\n",
        "    # Print the sampled action\n",
        "    print(\"Sampled action:\", action)"
      ]
    },
    {
      "cell_type": "markdown",
      "metadata": {
        "id": "jvcll2L3afVd"
      },
      "source": [
        "#### Test the NormalizeAction wrapper"
      ]
    },
    {
      "cell_type": "code",
      "execution_count": 9,
      "metadata": {
        "colab": {
          "base_uri": "https://localhost:8080/"
        },
        "id": "WsCM9AUGaeBN",
        "outputId": "0330baa1-faf2-4481-93fb-30928c64ee5b"
      },
      "outputs": [
        {
          "output_type": "stream",
          "name": "stdout",
          "text": [
            "Normalized action space lower bound: [-1.]\n",
            "Sampled normalized action: [0.41116357]\n",
            "Sampled normalized action: [0.11860874]\n",
            "Sampled normalized action: [0.92284876]\n",
            "Sampled normalized action: [-0.97425205]\n",
            "Sampled normalized action: [-0.40990657]\n",
            "Sampled normalized action: [0.33467343]\n",
            "Sampled normalized action: [-0.3220679]\n",
            "Sampled normalized action: [0.08024178]\n",
            "Sampled normalized action: [0.11177742]\n",
            "Sampled normalized action: [-0.19933397]\n"
          ]
        }
      ],
      "source": [
        "# Wrap the Pendulum-v1 environment with the NormalizeActionWrapper\n",
        "env = NormalizeActionWrapper(gym.make(\"Pendulum-v1\"))\n",
        "\n",
        "# Print the lower bound of the modified action space\n",
        "print(\"Normalized action space lower bound:\", env.action_space.low)\n",
        "\n",
        "# Sample and print 10 actions from the modified action space to see their normalized values\n",
        "for _ in range(10):\n",
        "    # Sample a random action from the modified action space\n",
        "    action = env.action_space.sample()\n",
        "    # Print the sampled normalized action\n",
        "    print(\"Sampled normalized action:\", action)"
      ]
    },
    {
      "cell_type": "markdown",
      "metadata": {
        "id": "V5h5kk2mbGNs"
      },
      "source": [
        "#### Test with a RL algorithm\n",
        "\n",
        "We are going to use the Monitor wrapper of stable baselines, which allow to monitor training stats (mean episode reward, mean episode length)"
      ]
    },
    {
      "cell_type": "code",
      "execution_count": 13,
      "metadata": {
        "id": "R9FNCN8ybOVU",
        "colab": {
          "base_uri": "https://localhost:8080/"
        },
        "outputId": "b36649bd-e5ea-4159-eb0d-cb6dd8dc64d1"
      },
      "outputs": [
        {
          "output_type": "stream",
          "name": "stdout",
          "text": [
            "Using cuda device\n",
            "----------------------------------\n",
            "| rollout/           |           |\n",
            "|    ep_len_mean     | 200       |\n",
            "|    ep_rew_mean     | -1.22e+03 |\n",
            "| time/              |           |\n",
            "|    fps             | 620       |\n",
            "|    iterations      | 1         |\n",
            "|    time_elapsed    | 3         |\n",
            "|    total_timesteps | 2048      |\n",
            "----------------------------------\n"
          ]
        }
      ],
      "source": [
        "# Import the necessary modules from Stable Baselines3\n",
        "from stable_baselines3.common.monitor import Monitor\n",
        "from stable_baselines3.common.vec_env import DummyVecEnv\n",
        "\n",
        "# Wrap the Pendulum-v1 environment with the Monitor wrapper to record training statistics (like mean episode reward, mean episode length, etc.)\n",
        "env = Monitor(gym.make(\"Pendulum-v1\"))\n",
        "\n",
        "# Wrap the monitored environment with the DummyVecEnv to handle vectorized environments. This is necessary because many RL algorithms in Stable Baselines3 expect the environment to be vectorized. The DummyVecEnv makes the environment look like a vectorized environment with a single instance\n",
        "env = DummyVecEnv([lambda: env])\n",
        "\n",
        "# Create and train the PPO model with the MlpPolicy\n",
        "model = PPO(\"MlpPolicy\", env, verbose=1).learn(int(1000))"
      ]
    },
    {
      "cell_type": "markdown",
      "metadata": {
        "id": "EJFSM-Drb3Wc"
      },
      "source": [
        "With the action wrapper"
      ]
    },
    {
      "cell_type": "code",
      "execution_count": 14,
      "metadata": {
        "id": "GszFZthob2wM",
        "colab": {
          "base_uri": "https://localhost:8080/"
        },
        "outputId": "058d5110-85de-4825-f2e9-2c9be1bb0697"
      },
      "outputs": [
        {
          "output_type": "stream",
          "name": "stdout",
          "text": [
            "Using cuda device\n",
            "----------------------------------\n",
            "| rollout/           |           |\n",
            "|    ep_len_mean     | 200       |\n",
            "|    ep_rew_mean     | -1.28e+03 |\n",
            "| time/              |           |\n",
            "|    fps             | 771       |\n",
            "|    iterations      | 1         |\n",
            "|    time_elapsed    | 2         |\n",
            "|    total_timesteps | 2048      |\n",
            "----------------------------------\n"
          ]
        }
      ],
      "source": [
        "# Wrap the Pendulum-v1 environment with the Monitor wrapper to record training statistics like before\n",
        "normalized_env = Monitor(gym.make(\"Pendulum-v1\"))\n",
        "\n",
        "# Apply the NormalizeActionWrapper to the monitored environment\n",
        "normalized_env = NormalizeActionWrapper(normalized_env)\n",
        "\n",
        "# Wrap the normalized environment with the DummyVecEnv to handle vectorized environments\n",
        "normalized_env = DummyVecEnv([lambda: normalized_env])\n",
        "\n",
        "# Create and train the PPO model with the MlpPolicy on the normalized environment\n",
        "model_N = PPO(\"MlpPolicy\", normalized_env, verbose=1).learn(int(1000))"
      ]
    },
    {
      "cell_type": "markdown",
      "source": [
        "# $\\color{limegreen}{\\text{TODO: Part 2}}$"
      ],
      "metadata": {
        "id": "-_50PtFofXl4"
      }
    },
    {
      "cell_type": "markdown",
      "source": [
        "### $\\color{limegreen}{\\text{Task 6 (2 points)}}$"
      ],
      "metadata": {
        "id": "a0kJ37i2fZHg"
      }
    },
    {
      "cell_type": "markdown",
      "source": [
        "1. $\\text{Modify the}$ `CustomWrapper` $\\text{to print the total number of steps taken after each reset.}$\n",
        "2. $\\text{Implement a new method}$ `get_episode_length` $\\text{in the}$ `CustomWrapper` $\\text{to return the number of steps in the current episode.}$"
      ],
      "metadata": {
        "id": "RmguNShcfeh4"
      }
    },
    {
      "cell_type": "markdown",
      "source": [
        "### $\\color{limegreen}{\\text{Task 7 (4 points)}}$"
      ],
      "metadata": {
        "id": "2onsDCMekZwO"
      }
    },
    {
      "cell_type": "markdown",
      "source": [
        "1. $\\text{Train the PPO algorithm on the \"Pendulum-v1\" environment with and without the}$ `NormalizeActionWrapper`.\n",
        "2. $\\text{Plot the training rewards for both cases and analyze the impact of action normalization on the training performance.}$\n",
        "<details>\n",
        "  <summary>Hint</summary>\n",
        "  See Task 2.\n",
        "</details>"
      ],
      "metadata": {
        "id": "ZFWVMr-fkdou"
      }
    },
    {
      "cell_type": "markdown",
      "source": [
        "### $\\color{limegreen}{\\text{Task 8 (3 points)}}$"
      ],
      "metadata": {
        "id": "_Qwc3RGTmSaU"
      }
    },
    {
      "cell_type": "markdown",
      "source": [
        "$\\text{In the \"MountainCar-v0\" environment, we can create a custom reward function that encourages the agent to reach the flag faster. A suggestion is the following:}$"
      ],
      "metadata": {
        "id": "I6CuP3aPmUPL"
      }
    },
    {
      "cell_type": "code",
      "source": [
        "class CustomMountainCarReward(gym.Wrapper):\n",
        "    def __init__(self, env):\n",
        "        super(CustomMountainCarReward, self).__init__(env)\n",
        "\n",
        "    def step(self, action):\n",
        "        obs, reward, terminated, truncated, info = self.env.step(action)\n",
        "        position = obs[0]\n",
        "        if position >= self.env.goal_position:\n",
        "            reward = 100  # Reward for reaching the flag\n",
        "        else:\n",
        "            reward = -1  # Negative reward for each step taken\n",
        "        return obs, reward, terminated, truncated, info"
      ],
      "metadata": {
        "id": "2QpZ7OBYm_fW"
      },
      "execution_count": null,
      "outputs": []
    },
    {
      "cell_type": "markdown",
      "source": [
        "1. $\\text{Test the custom reward function and compare the performance with the original reward function.}$\n",
        "<details>\n",
        "  <summary>Hint</summary>\n",
        "  See Task 2.\n",
        "</details>\n",
        "2. $\\text{Plot and analyze the training rewards with the custom reward function.}$"
      ],
      "metadata": {
        "id": "Xr9zhF2xnG2g"
      }
    }
  ],
  "metadata": {
    "accelerator": "GPU",
    "colab": {
      "collapsed_sections": [
        "tc9IjJ1JXcf_",
        "q6rjZaTipUf3",
        "9oCwH_oYpdtL",
        "i-0aAOgKz_Lr",
        "hPzcEje2tH3f"
      ],
      "gpuType": "T4",
      "provenance": []
    },
    "kernelspec": {
      "display_name": "Python 3",
      "name": "python3"
    },
    "language_info": {
      "name": "python"
    }
  },
  "nbformat": 4,
  "nbformat_minor": 0
}