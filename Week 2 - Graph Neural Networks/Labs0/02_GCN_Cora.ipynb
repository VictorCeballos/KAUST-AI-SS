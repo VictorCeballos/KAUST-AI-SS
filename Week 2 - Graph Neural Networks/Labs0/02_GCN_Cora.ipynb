{
 "cells": [
  {
   "cell_type": "markdown",
   "metadata": {
    "id": "6fjAwlj8LCh4"
   },
   "source": [
    "This tutorial is adapted from [Dair-AI Pytorch Geometric Tutorial](https://github.com/dair-ai/GNNs-Recipe) by Elvis Saravia."
   ]
  },
  {
   "cell_type": "markdown",
   "metadata": {},
   "source": [
    "### Installing dependencies"
   ]
  },
  {
   "cell_type": "code",
   "execution_count": null,
   "metadata": {},
   "outputs": [],
   "source": [
    "import torch\n",
    "print(\"PyTorch has version {}\".format(torch.__version__))"
   ]
  },
  {
   "cell_type": "markdown",
   "metadata": {},
   "source": [
    "The installation of PyG can be a little bit tricky. Execute the cell below -- in case of issues, more information can be found on the [PyG's installation page](https://pytorch-geometric.readthedocs.io/en/latest/notes/installation.html)."
   ]
  },
  {
   "cell_type": "code",
   "execution_count": null,
   "metadata": {},
   "outputs": [],
   "source": [
    "# Install dependencies\n",
    "!pip install -q torch-scatter -f https://pytorch-geometric.com/whl/torch-1.7.0+cu101.html\n",
    "# Install torch geometric\n",
    "!pip install -q torch-geometric"
   ]
  },
  {
   "cell_type": "code",
   "execution_count": null,
   "metadata": {},
   "outputs": [],
   "source": [
    "import matplotlib.pyplot as plt\n",
    "import torch\n",
    "import torch.nn.functional as F\n",
    "from torch_geometric.nn import GCNConv\n",
    "from torch_geometric.datasets import Planetoid"
   ]
  },
  {
   "cell_type": "markdown",
   "metadata": {
    "id": "HF-jGPyhFeO6"
   },
   "source": [
    "# Loading Data"
   ]
  },
  {
   "cell_type": "markdown",
   "metadata": {
    "id": "LHvE23mwFJ-3"
   },
   "source": [
    "One of the cool things about the PyTorch Geometric library is that it contains out-of-the-box benchmark datasets that are ready to use and explore. A popular dataset is the Cora dataset that is used for supervised graph node classification.\n",
    "\n",
    "\"The Cora dataset consists of 2708 scientific publications classified into one of seven classes. The citation network consists of 5429 links. Each publication in the dataset is described by a 0/1-valued word vector indicating the absence/presence of the corresponding word from the dictionary. The dictionary consists of 1433 unique words.\" - [Papers with Code](https://paperswithcode.com/dataset/cora)."
   ]
  },
  {
   "cell_type": "markdown",
   "metadata": {
    "id": "_8ganBm_FiaQ"
   },
   "source": [
    "Let's load the Cora dataset:"
   ]
  },
  {
   "cell_type": "code",
   "execution_count": null,
   "metadata": {
    "colab": {
     "base_uri": "https://localhost:8080/"
    },
    "executionInfo": {
     "elapsed": 3465,
     "status": "ok",
     "timestamp": 1676065530226,
     "user": {
      "displayName": "Muhammad Mubashar",
      "userId": "14515435323579848862"
     },
     "user_tz": 0
    },
    "id": "K3bXwOpoE75M",
    "outputId": "288da92d-1c17-4f3b-d91f-646c5bf14b20"
   },
   "outputs": [],
   "source": [
    "dataset = Planetoid(root='tmp/Cora', name='Cora')"
   ]
  },
  {
   "cell_type": "markdown",
   "metadata": {
    "id": "rQTFnBcuFpLv"
   },
   "source": [
    "Let's check some of the properties of the Cora dataset."
   ]
  },
  {
   "cell_type": "code",
   "execution_count": null,
   "metadata": {
    "colab": {
     "base_uri": "https://localhost:8080/"
    },
    "executionInfo": {
     "elapsed": 28,
     "status": "ok",
     "timestamp": 1676065530227,
     "user": {
      "displayName": "Muhammad Mubashar",
      "userId": "14515435323579848862"
     },
     "user_tz": 0
    },
    "id": "q9jvXbRXFlGG",
    "outputId": "55bb7033-4da6-427f-e5ab-fdcd4071f328"
   },
   "outputs": [],
   "source": [
    "# number of graphs\n",
    "print(\"Number of graphs: \", len(dataset))\n",
    "\n",
    "# number of features\n",
    "print(\"Number of features: \", dataset.num_features)\n",
    "\n",
    "# number of classes\n",
    "print(\"Number of classes: \", dataset.num_classes)"
   ]
  },
  {
   "cell_type": "code",
   "execution_count": null,
   "metadata": {
    "colab": {
     "base_uri": "https://localhost:8080/"
    },
    "executionInfo": {
     "elapsed": 28,
     "status": "ok",
     "timestamp": 1676065530227,
     "user": {
      "displayName": "Muhammad Mubashar",
      "userId": "14515435323579848862"
     },
     "user_tz": 0
    },
    "id": "q9jvXbRXFlGG",
    "outputId": "55bb7033-4da6-427f-e5ab-fdcd4071f328"
   },
   "outputs": [],
   "source": [
    "print(dataset[0].edge_index)"
   ]
  },
  {
   "cell_type": "markdown",
   "metadata": {
    "id": "57SX-idAF02R"
   },
   "source": [
    "We can see that this particular graph dataset only contains one graph. Graph data can be very complex and can include multiple graphs depending on the type of data and application. Let's check more feature of the Cora dataset:"
   ]
  },
  {
   "cell_type": "code",
   "execution_count": null,
   "metadata": {
    "colab": {
     "base_uri": "https://localhost:8080/"
    },
    "executionInfo": {
     "elapsed": 22,
     "status": "ok",
     "timestamp": 1676065530227,
     "user": {
      "displayName": "Muhammad Mubashar",
      "userId": "14515435323579848862"
     },
     "user_tz": 0
    },
    "id": "8aOt8HwfFrH_",
    "outputId": "6eab2ad6-0b58-4cdf-96ff-30c94077deb9"
   },
   "outputs": [],
   "source": [
    "# select the first graph\n",
    "data = dataset[0]\n",
    "\n",
    "# number of nodes\n",
    "print(\"Number of nodes: \", data.num_nodes)\n",
    "\n",
    "# number of edges\n",
    "print(\"Number of edges: \", data.num_edges)\n",
    "\n",
    "# check if directed\n",
    "print(\"Is directed: \", data.is_directed())"
   ]
  },
  {
   "cell_type": "markdown",
   "metadata": {
    "id": "3XX2MRY4GEQS"
   },
   "source": [
    "You can sample nodes from the graph this way:"
   ]
  },
  {
   "cell_type": "code",
   "execution_count": null,
   "metadata": {
    "colab": {
     "base_uri": "https://localhost:8080/"
    },
    "executionInfo": {
     "elapsed": 20,
     "status": "ok",
     "timestamp": 1676065530228,
     "user": {
      "displayName": "Muhammad Mubashar",
      "userId": "14515435323579848862"
     },
     "user_tz": 0
    },
    "id": "qGJKbv-4GAtY",
    "outputId": "08af372e-8d31-48dc-c3ca-e4d565d91a0d"
   },
   "outputs": [],
   "source": [
    "# sample nodes from the graph\n",
    "print(\"Shape of sample nodes: \", data.x[:5].shape)"
   ]
  },
  {
   "cell_type": "markdown",
   "metadata": {
    "id": "wV1yBQSvGM9q"
   },
   "source": [
    "We extracted 5 nodes from the graph and checked its shape. You will see that each node has `1433` features."
   ]
  },
  {
   "cell_type": "markdown",
   "metadata": {
    "id": "oXMY2lU0GWQL"
   },
   "source": [
    "Another great advantage of using PyTorch Geometric to load the Cora data is that it comes pre-processed and ready to use. It also has the splits for training, validation and test which we can directly use for training a GNN.\n",
    "\n",
    "Let's check some stats for the partitions of the data:"
   ]
  },
  {
   "cell_type": "code",
   "execution_count": null,
   "metadata": {
    "colab": {
     "base_uri": "https://localhost:8080/"
    },
    "executionInfo": {
     "elapsed": 18,
     "status": "ok",
     "timestamp": 1676065530228,
     "user": {
      "displayName": "Muhammad Mubashar",
      "userId": "14515435323579848862"
     },
     "user_tz": 0
    },
    "id": "MzITbLkpGIUP",
    "outputId": "f50075b8-3dac-4167-a8c8-265a2eb06faf"
   },
   "outputs": [],
   "source": [
    "# check training nodes\n",
    "print(\"# of nodes to train on: \", data.train_mask.sum().item())\n",
    "# check test nodes\n",
    "print(\"# of nodes to test on: \", data.test_mask.sum().item())\n",
    "# check validation nodes\n",
    "print(\"# of nodes to validate on: \", data.val_mask.sum().item())"
   ]
  },
  {
   "cell_type": "markdown",
   "metadata": {
    "id": "7IGOoSfwHjeD"
   },
   "source": [
    "That information is important as it will indicate to our model which nodes to train against and which to test against, and so on."
   ]
  },
  {
   "cell_type": "code",
   "execution_count": null,
   "metadata": {
    "executionInfo": {
     "elapsed": 16,
     "status": "ok",
     "timestamp": 1676065530229,
     "user": {
      "displayName": "Muhammad Mubashar",
      "userId": "14515435323579848862"
     },
     "user_tz": 0
    },
    "id": "9tdHl4oZGw_y"
   },
   "outputs": [],
   "source": [
    "device = torch.device('cuda' if torch.cuda.is_available() else 'cpu')\n",
    "print(device)\n",
    "data = dataset[0].to(device)"
   ]
  },
  {
   "cell_type": "markdown",
   "metadata": {
    "id": "TUGNxhBOIuYe"
   },
   "source": [
    "# TO-DO: Model and Training"
   ]
  },
  {
   "cell_type": "markdown",
   "metadata": {
    "id": "v1pz24blIwnR"
   },
   "source": [
    "Finally, let's define a standard GCN to train on the Cora dataset. The aim is to train a model that gets better at predicting the class of the node."
   ]
  },
  {
   "cell_type": "markdown",
   "metadata": {
    "id": "dhdMehneI2bn"
   },
   "source": [
    "Use the built-in `GCNConv` module.\n",
    "\n",
    "The model below should have two `GCNConv` layers. The first layer is to be followed by a non-linearity `ReLU` and `Dropout`. The result should be fed to the second layer on top of which you should apply `Softmax` to get distribution over the number of classes. You can experiment with the number of channels in between layers."
   ]
  },
  {
   "cell_type": "code",
   "execution_count": null,
   "metadata": {
    "executionInfo": {
     "elapsed": 5,
     "status": "ok",
     "timestamp": 1676065530617,
     "user": {
      "displayName": "Muhammad Mubashar",
      "userId": "14515435323579848862"
     },
     "user_tz": 0
    },
    "id": "q0AiwyWrJGhj"
   },
   "outputs": [],
   "source": [
    "class GCN(torch.nn.Module):\n",
    "    \n",
    "    def __init__(self, num_features, num_classes):\n",
    "        super().__init__()\n",
    "\n",
    "    def forward(self, x, edge_index):\n",
    "        return None"
   ]
  },
  {
   "cell_type": "code",
   "execution_count": null,
   "metadata": {},
   "outputs": [],
   "source": [
    "model = None"
   ]
  },
  {
   "cell_type": "markdown",
   "metadata": {
    "id": "Mfob8LS2KezY"
   },
   "source": [
    "Define an optimizer:"
   ]
  },
  {
   "cell_type": "code",
   "execution_count": null,
   "metadata": {
    "executionInfo": {
     "elapsed": 5,
     "status": "ok",
     "timestamp": 1676065530618,
     "user": {
      "displayName": "Muhammad Mubashar",
      "userId": "14515435323579848862"
     },
     "user_tz": 0
    },
    "id": "GSZL4HS5Kd55"
   },
   "outputs": [],
   "source": [
    "optimizer = None"
   ]
  },
  {
   "cell_type": "markdown",
   "metadata": {},
   "source": [
    "Define a loss function:"
   ]
  },
  {
   "cell_type": "code",
   "execution_count": null,
   "metadata": {},
   "outputs": [],
   "source": [
    "loss_fn = None"
   ]
  },
  {
   "cell_type": "markdown",
   "metadata": {
    "id": "26W7sxVsKrGM"
   },
   "source": [
    "Train the model on the training nodes for 200 epochs:"
   ]
  },
  {
   "cell_type": "code",
   "execution_count": null,
   "metadata": {
    "colab": {
     "base_uri": "https://localhost:8080/"
    },
    "executionInfo": {
     "elapsed": 8158,
     "status": "ok",
     "timestamp": 1676065538771,
     "user": {
      "displayName": "Muhammad Mubashar",
      "userId": "14515435323579848862"
     },
     "user_tz": 0
    },
    "id": "m39ZbE6RKyim",
    "outputId": "07c3ae73-29d7-4f98-ef2b-3c30a49ef74b"
   },
   "outputs": [],
   "source": [
    "# train the model\n",
    "model.train()\n",
    "losses = []\n",
    "accuracies = []\n",
    "\n",
    "for epoch in range(200):\n",
    "    \n",
    "    optimizer.zero_grad()\n",
    "    out = model(data.x, data.edge_index)\n",
    "\n",
    "    loss = None\n",
    "    losses.append(loss.item())\n",
    "\n",
    "    acc = None\n",
    "    accuracies.append(acc)\n",
    "\n",
    "    loss.backward()\n",
    "    optimizer.step()\n",
    "    \n",
    "    if (epoch+1) % 10 == 0:\n",
    "        print('Epoch: {}, Loss: {:.4f}, Training Acc: {:.4f}'.format(epoch+1, loss.item(), acc))\n"
   ]
  },
  {
   "cell_type": "code",
   "execution_count": null,
   "metadata": {
    "colab": {
     "base_uri": "https://localhost:8080/",
     "height": 265
    },
    "executionInfo": {
     "elapsed": 801,
     "status": "ok",
     "timestamp": 1676065539567,
     "user": {
      "displayName": "Muhammad Mubashar",
      "userId": "14515435323579848862"
     },
     "user_tz": 0
    },
    "id": "bUtwTwemLJGs",
    "outputId": "1f96c974-2782-40d8-a562-e00aba8ea8cb"
   },
   "outputs": [],
   "source": [
    "# plot the loss and accuracy\n",
    "plt.plot(losses)\n",
    "plt.plot(accuracies)\n",
    "plt.legend(['Loss', 'Accuracy'])\n",
    "plt.show()"
   ]
  },
  {
   "cell_type": "markdown",
   "metadata": {
    "id": "30cq1fmqK-my"
   },
   "source": [
    "You should aim for 100% accuracy on the training data, and ~80% on the test data."
   ]
  },
  {
   "cell_type": "code",
   "execution_count": null,
   "metadata": {
    "colab": {
     "base_uri": "https://localhost:8080/"
    },
    "executionInfo": {
     "elapsed": 13,
     "status": "ok",
     "timestamp": 1676065539568,
     "user": {
      "displayName": "Muhammad Mubashar",
      "userId": "14515435323579848862"
     },
     "user_tz": 0
    },
    "id": "_6Q354OSLVkG",
    "outputId": "448ace46-8516-4709-a454-9f41e85b907e"
   },
   "outputs": [],
   "source": [
    "# evaluate the model on test set\n",
    "model.eval()\n",
    "pred = model(data.x, data.edge_index).argmax(dim=1)\n",
    "correct = (pred[data.test_mask] == data.y[data.test_mask]).sum()\n",
    "acc = correct / data.test_mask.sum()\n",
    "print(f'Accuracy: {acc:.4f}')"
   ]
  },
  {
   "cell_type": "code",
   "execution_count": null,
   "metadata": {
    "executionInfo": {
     "elapsed": 10,
     "status": "ok",
     "timestamp": 1676065539569,
     "user": {
      "displayName": "Muhammad Mubashar",
      "userId": "14515435323579848862"
     },
     "user_tz": 0
    },
    "id": "1sg3VdxrNPCg"
   },
   "outputs": [],
   "source": []
  }
 ],
 "metadata": {
  "colab": {
   "provenance": []
  },
  "kernelspec": {
   "display_name": "Python 3 (ipykernel)",
   "language": "python",
   "name": "python3"
  },
  "language_info": {
   "codemirror_mode": {
    "name": "ipython",
    "version": 3
   },
   "file_extension": ".py",
   "mimetype": "text/x-python",
   "name": "python",
   "nbconvert_exporter": "python",
   "pygments_lexer": "ipython3",
   "version": "3.12.2"
  }
 },
 "nbformat": 4,
 "nbformat_minor": 4
}
