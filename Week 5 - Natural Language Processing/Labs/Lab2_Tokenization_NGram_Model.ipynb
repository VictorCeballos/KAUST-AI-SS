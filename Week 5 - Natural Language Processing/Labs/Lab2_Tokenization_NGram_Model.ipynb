{
 "cells": [
  {
   "cell_type": "markdown",
   "id": "07d3e583-1a6b-417e-89e9-6cd264af6b4f",
   "metadata": {
    "id": "07d3e583-1a6b-417e-89e9-6cd264af6b4f"
   },
   "source": [
    "# Introduction"
   ]
  },
  {
   "cell_type": "code",
   "execution_count": null,
   "id": "OJ_QNH5IMFQq",
   "metadata": {
    "id": "OJ_QNH5IMFQq"
   },
   "outputs": [],
   "source": [
    "!pip install torchdata\n",
    "!pip install portalocker>=2.0.0"
   ]
  },
  {
   "cell_type": "code",
   "execution_count": null,
   "id": "e958863f-55a9-4178-8070-9f5a292cb04e",
   "metadata": {
    "id": "e958863f-55a9-4178-8070-9f5a292cb04e"
   },
   "outputs": [],
   "source": [
    "import string\n",
    "import random\n",
    "from collections import defaultdict\n",
    "\n",
    "from sklearn.linear_model import LogisticRegression\n",
    "from sklearn.svm import SVC\n",
    "from sklearn.feature_extraction.text import TfidfVectorizer\n",
    "from sklearn.metrics import accuracy_score\n",
    "\n",
    "import torch\n",
    "import torchdata\n",
    "import torchtext\n",
    "torchtext.disable_torchtext_deprecation_warning()\n",
    "from torchtext.datasets import IMDB\n",
    "\n",
    "import nltk\n",
    "from nltk.util import ngrams as build_ngrams\n",
    "from nltk.tokenize import word_tokenize\n",
    "\n",
    "import spacy\n",
    "\n",
    "from tqdm import tqdm"
   ]
  },
  {
   "cell_type": "markdown",
   "id": "13ecefbb-a737-4ff7-8446-8f859decd5e1",
   "metadata": {
    "id": "13ecefbb-a737-4ff7-8446-8f859decd5e1"
   },
   "source": [
    "# Data"
   ]
  },
  {
   "cell_type": "markdown",
   "id": "8b17413c-7353-42b1-98c9-c83552b5ddec",
   "metadata": {
    "id": "8b17413c-7353-42b1-98c9-c83552b5ddec"
   },
   "source": [
    "We'll use the IMDB movies review dataset"
   ]
  },
  {
   "cell_type": "code",
   "execution_count": null,
   "id": "4c88e64b-2e28-46c8-a9d6-524991ab6094",
   "metadata": {
    "id": "4c88e64b-2e28-46c8-a9d6-524991ab6094"
   },
   "outputs": [],
   "source": [
    "train_data, test_data = IMDB(split=('train', 'test'))\n",
    "\n",
    "train_data = list(tqdm(train_data, total=25000))\n",
    "test_data = list(tqdm(test_data, total=25000))"
   ]
  },
  {
   "cell_type": "code",
   "execution_count": null,
   "id": "873c361b-3dd3-428d-90df-b1b067f7aeeb",
   "metadata": {
    "id": "873c361b-3dd3-428d-90df-b1b067f7aeeb"
   },
   "outputs": [],
   "source": [
    "y_train, X_train = zip(*train_data)\n",
    "y_test, X_test = zip(*test_data)\n",
    "print(len(X_train))\n",
    "print(len(X_test))"
   ]
  },
  {
   "cell_type": "code",
   "execution_count": null,
   "id": "VH0nSTy4TuO6",
   "metadata": {
    "id": "VH0nSTy4TuO6"
   },
   "outputs": [],
   "source": [
    "for id in range(3):\n",
    "    print(X_train[id])\n",
    "    print()"
   ]
  },
  {
   "cell_type": "code",
   "execution_count": null,
   "id": "Z7IPNmn7UQT7",
   "metadata": {
    "id": "Z7IPNmn7UQT7"
   },
   "outputs": [],
   "source": []
  },
  {
   "cell_type": "markdown",
   "id": "26007213-88db-4f06-9012-eb95937783e4",
   "metadata": {
    "id": "26007213-88db-4f06-9012-eb95937783e4"
   },
   "source": [
    "# Recap: SVM Classifier"
   ]
  },
  {
   "cell_type": "markdown",
   "id": "2b272ebb-de56-4b55-bf3a-242b15b590d6",
   "metadata": {
    "id": "2b272ebb-de56-4b55-bf3a-242b15b590d6"
   },
   "source": [
    "We first recap how to make a text sentiment classifier."
   ]
  },
  {
   "cell_type": "markdown",
   "id": "95af2e2e-4482-471a-847a-66b8c5cf29c8",
   "metadata": {
    "id": "95af2e2e-4482-471a-847a-66b8c5cf29c8"
   },
   "source": [
    "## Training the model\n",
    "\n",
    "We will use SVC (support vector classifier) for training. The labels are:\n",
    "\n",
    "```\n",
    "1 - Negative\n",
    "2 - Positive\n",
    "```\n",
    "We will use TF-IDF to convert our text to numerical form.\n",
    "\n",
    "**TF-IDF (Term Frequency - Inverse Document Frequence)**\n",
    "\n",
    "TF-IDF statistical measure that evaluates how relevant a word is to a document in a collection of documents. TF-IDF is computed as follows:\n",
    "\n",
    "$$ \\text{tf-idf}(t, d, D) = \\text{tf}(t,d) * \\text{idf}(t,D) $$\n",
    "\n",
    "*Term Frequency:* $\\text{tf}(t,d)$\n",
    "\n",
    "The simplest choice is to use the frequency of a term (word) in a document.\n",
    "\n",
    "*Inverse Document Frequency:* $\\text{idf}(t,D)$\n",
    "\n",
    "It measures how much information the word provides, i.e., if it's common or rare across all documents. It is the **logarthmic scaled** of inverse fraction of the document that contain word. Definition is as per [Wiki](https://en.wikipedia.org/wiki/Tf%E2%80%93idf).\n",
    "\n",
    "TF-IDF identifies which words are auto occuring (stop words) and assigns them a very low or zero value so we don't need to manually remove them.\n",
    "\n",
    "Lastly, the Sklearn API accepts strings and we don't have to tokenize the text ourselves."
   ]
  },
  {
   "cell_type": "code",
   "execution_count": null,
   "id": "dd725461-7334-4496-ad8b-b16fba07e95a",
   "metadata": {
    "id": "dd725461-7334-4496-ad8b-b16fba07e95a"
   },
   "outputs": [],
   "source": [
    "# Vectorize the text data\n",
    "vectorizer = TfidfVectorizer(max_features=5000)\n",
    "X_train = vectorizer.fit_transform(X_train)\n",
    "X_test = vectorizer.transform(X_test)"
   ]
  },
  {
   "cell_type": "code",
   "execution_count": null,
   "id": "f81bc6c2-5890-45d8-b848-2fdbde696a18",
   "metadata": {
    "id": "f81bc6c2-5890-45d8-b848-2fdbde696a18"
   },
   "outputs": [],
   "source": [
    "# Train the SVM classifier\n",
    "clf = SVC(kernel='linear')\n",
    "_ = clf.fit(X_train, y_train)  # SVC takes some time to train"
   ]
  },
  {
   "cell_type": "code",
   "execution_count": null,
   "id": "d6f88879-633f-4567-8b5d-50e4d033aea2",
   "metadata": {
    "id": "d6f88879-633f-4567-8b5d-50e4d033aea2"
   },
   "outputs": [],
   "source": [
    "# Make predictions on the test data\n",
    "y_pred = clf.predict(X_test)"
   ]
  },
  {
   "cell_type": "code",
   "execution_count": null,
   "id": "5ffb1a02-e4be-4c6f-bf46-8a87fe301b11",
   "metadata": {
    "id": "5ffb1a02-e4be-4c6f-bf46-8a87fe301b11"
   },
   "outputs": [],
   "source": [
    "# Evaluate the classifier\n",
    "accuracy = accuracy_score(y_test, y_pred)\n",
    "print(\"Accuracy:\", accuracy)"
   ]
  },
  {
   "cell_type": "code",
   "execution_count": null,
   "id": "0a2748c1-0b99-4734-8e64-7a74c92b3061",
   "metadata": {
    "id": "0a2748c1-0b99-4734-8e64-7a74c92b3061"
   },
   "outputs": [],
   "source": [
    "sentences = [\"I was bored during this movie\", \"The movie was fun\"]\n",
    "sentence_vectors = vectorizer.transform(sentences)\n",
    "clf.predict(sentence_vectors)  # 1 is neg. 2 is pos"
   ]
  },
  {
   "cell_type": "code",
   "execution_count": null,
   "id": "cca07256-2e87-47c9-a25d-8742730dcd87",
   "metadata": {
    "id": "cca07256-2e87-47c9-a25d-8742730dcd87"
   },
   "outputs": [],
   "source": []
  },
  {
   "cell_type": "markdown",
   "id": "b255d45c-2ac8-4a57-8415-af862702d19a",
   "metadata": {
    "id": "b255d45c-2ac8-4a57-8415-af862702d19a"
   },
   "source": [
    "# Tokenization"
   ]
  },
  {
   "cell_type": "markdown",
   "id": "cf3ad369-5d49-4c9c-8fbf-0240c4baeefd",
   "metadata": {
    "id": "cf3ad369-5d49-4c9c-8fbf-0240c4baeefd"
   },
   "source": [
    "Now we'll take a look at how we can process text to be fed to models. Specifically, we'll take a look at:\n",
    "\n",
    "1. Removing stop words from the text\n",
    "2. Tokenizing the text\n",
    "3. Converting the text to numerical form to be used by models"
   ]
  },
  {
   "cell_type": "markdown",
   "id": "eb579182-eec8-412f-a7da-bdb087bca4ed",
   "metadata": {
    "id": "eb579182-eec8-412f-a7da-bdb087bca4ed"
   },
   "source": [
    "## Custom text processing functions\n",
    "\n",
    "First, we will take a look at how we can manually write functions for tokenization, etc.\n",
    "\n",
    "In the comments, you'll also find some of the limitations of the function (which are intentionally not taken care of for now)"
   ]
  },
  {
   "cell_type": "code",
   "execution_count": null,
   "id": "8a8bd286-4f62-48b3-a383-ebf41f9a6bfd",
   "metadata": {
    "id": "8a8bd286-4f62-48b3-a383-ebf41f9a6bfd"
   },
   "outputs": [],
   "source": [
    "# Define a function to remove punctuation.\n",
    "# This is often needed because when tokenizing, punctuation can be a problem\n",
    "# for example, we want only one token for the word \"close\" but if \"close,\" and \"close.\" also exist in text corpus\n",
    "# we will have 3 tokens just representing the word close (\"close\"|\"close,\"|\"close.\")\n",
    "def remove_punctuation(text):\n",
    "    return text.translate(str.maketrans('', '', string.punctuation))"
   ]
  },
  {
   "cell_type": "code",
   "execution_count": null,
   "id": "0c4e2ebf-6615-4cd7-95a9-c7f7dd14334f",
   "metadata": {
    "id": "0c4e2ebf-6615-4cd7-95a9-c7f7dd14334f"
   },
   "outputs": [],
   "source": [
    "# Define a function to remove stop words\n",
    "def remove_stopwords(text):\n",
    "\n",
    "    # The list could be ever expanding. Not to mention, if we dont remove punctuation beforehand, this function will not work properly.\n",
    "    # This is also made to only work with lower case words so we need to lower our text.\n",
    "    stopwords = set([\n",
    "        \"i\", \"me\", \"my\", \"myself\", \"we\", \"our\", \"ours\", \"ourselves\", \"you\", \"your\", \"yours\", \"yourself\",\n",
    "        \"yourselves\", \"he\", \"him\", \"his\", \"himself\", \"she\", \"her\", \"hers\", \"herself\", \"it\", \"its\", \"itself\",\n",
    "        \"they\", \"them\", \"their\", \"theirs\", \"themselves\", \"what\", \"which\", \"who\", \"whom\", \"this\", \"that\", \"these\",\n",
    "        \"those\", \"am\", \"is\", \"are\", \"was\", \"were\", \"be\", \"been\", \"being\", \"have\", \"has\", \"had\", \"having\", \"do\",\n",
    "        \"does\", \"did\", \"doing\", \"a\", \"an\", \"the\", \"and\", \"but\", \"if\", \"or\", \"because\", \"as\", \"until\", \"while\",\n",
    "        \"of\", \"at\", \"by\", \"for\", \"with\", \"about\", \"against\", \"between\", \"into\", \"through\", \"during\", \"before\",\n",
    "        \"after\", \"above\", \"below\", \"to\", \"from\", \"up\", \"down\", \"in\", \"out\", \"on\", \"off\", \"over\", \"under\", \"again\",\n",
    "        \"further\", \"then\", \"once\", \"here\", \"there\", \"when\", \"where\", \"why\", \"how\", \"all\", \"any\", \"both\", \"each\",\n",
    "        \"few\", \"more\", \"most\", \"other\", \"some\", \"such\", \"no\", \"nor\", \"not\", \"only\", \"own\", \"same\", \"so\", \"than\",\n",
    "        \"too\", \"very\", \"s\", \"t\", \"can\", \"will\", \"just\", \"don\", \"should\", \"now\"\n",
    "    ])\n",
    "\n",
    "    return ' '.join(word for word in text.split() if word.lower() not in stopwords)"
   ]
  },
  {
   "cell_type": "code",
   "execution_count": null,
   "id": "cc037a9a-d648-4d81-b538-281a01663acb",
   "metadata": {
    "id": "cc037a9a-d648-4d81-b538-281a01663acb"
   },
   "outputs": [],
   "source": [
    "# Tokenize the text. For now we will just use split over white space.\n",
    "def tokenize(text):\n",
    "    return text.split()"
   ]
  },
  {
   "cell_type": "markdown",
   "id": "2438f998-9912-4e37-9eed-a7cc282c6542",
   "metadata": {
    "id": "2438f998-9912-4e37-9eed-a7cc282c6542"
   },
   "source": [
    "To save time, we will use a small part of the dataset"
   ]
  },
  {
   "cell_type": "code",
   "execution_count": null,
   "id": "380cbd2b-e74b-4121-bd9a-7d3ec244049c",
   "metadata": {
    "id": "380cbd2b-e74b-4121-bd9a-7d3ec244049c"
   },
   "outputs": [],
   "source": [
    "n_samples = 100\n",
    "data = []\n",
    "\n",
    "for record in tqdm(train_data, total=n_samples):\n",
    "\n",
    "    data.append(record[1])  # [0] is the sentiment label. we dont need that.\n",
    "\n",
    "    if len(data) >= n_samples:\n",
    "        break"
   ]
  },
  {
   "cell_type": "code",
   "execution_count": null,
   "id": "831d0e23-aedb-49d1-bed1-33d7369b77c7",
   "metadata": {
    "id": "831d0e23-aedb-49d1-bed1-33d7369b77c7"
   },
   "outputs": [],
   "source": [
    "# Create vocabulary from training data\n",
    "vocab = set()\n",
    "for text in tqdm(data, desc='Creating Vocab'):\n",
    "    text = text.lower()\n",
    "    text = remove_punctuation(text)\n",
    "    text = remove_stopwords(text)\n",
    "    tokens = tokenize(text)\n",
    "    vocab.update(tokens)"
   ]
  },
  {
   "cell_type": "code",
   "execution_count": null,
   "id": "7d82d522-40c3-4b9e-a91f-fb74f2ee08fc",
   "metadata": {
    "id": "7d82d522-40c3-4b9e-a91f-fb74f2ee08fc"
   },
   "outputs": [],
   "source": [
    "# Create word to index mapping. This will be used to convert words to numerical form so it can be fed to models\n",
    "# each word will be converted to the integer value stored against it in the dict, which comes from it's index hence word_to_idx\n",
    "word_to_idx = {word: idx for idx, word in tqdm(enumerate(vocab), desc='Building Word 2 Idx')}"
   ]
  },
  {
   "cell_type": "code",
   "execution_count": null,
   "id": "8d2ffe18-2853-448e-b3b5-3c9aefb9c850",
   "metadata": {
    "id": "8d2ffe18-2853-448e-b3b5-3c9aefb9c850"
   },
   "outputs": [],
   "source": [
    "# Print the first few words and their indices\n",
    "print(\"Word to Index Mapping:\")\n",
    "for word in list(vocab)[:10]:\n",
    "    print(f\"{word}: {word_to_idx[word]}\")"
   ]
  },
  {
   "cell_type": "code",
   "execution_count": null,
   "id": "61d80f7b-9cf2-42fe-b2d5-ea2b0495f7ca",
   "metadata": {
    "id": "61d80f7b-9cf2-42fe-b2d5-ea2b0495f7ca"
   },
   "outputs": [],
   "source": [
    "# Lets take a look at an example\n",
    "test_idx = 10\n",
    "\n",
    "text = data[test_idx]\n",
    "\n",
    "processed_text = remove_punctuation(text.lower())\n",
    "processed_text = remove_stopwords(processed_text)\n",
    "tokens = tokenize(processed_text)\n",
    "\n",
    "idxs = [word_to_idx[token] for token in tokens]\n",
    "\n",
    "print('Original Text:')\n",
    "print(text)\n",
    "print('-'*30)\n",
    "print('Tokens:')\n",
    "print(tokens)\n",
    "print('-'*30)\n",
    "print('Numerical form (Idxs)')\n",
    "print(idxs)"
   ]
  },
  {
   "cell_type": "markdown",
   "id": "1b281fe7-d2b4-40e6-b643-5c0c94ec8801",
   "metadata": {
    "id": "1b281fe7-d2b4-40e6-b643-5c0c94ec8801"
   },
   "source": [
    "## Using Spacy\n",
    "\n",
    "As we saw, doing this manually has quite a few limitations.\n",
    "\n",
    "One that hasn't been mentioned above is that we did a very basic implementation for English, but if we want to work with multiple languages, we need to make these functionalities for them as well, which can be challenging if the developer has limited understanding of the other language.\n",
    "\n",
    "We CAN work around them but that adds a lot of needless development overhead. Which is why it's better to use a library to take care of things like this.\n",
    "\n",
    "The 2 most popular libraries are Spacy and NLTK. Here we will use Spacy."
   ]
  },
  {
   "cell_type": "code",
   "execution_count": null,
   "id": "4836d6b5-9ad0-4865-9468-297cefa1ebcc",
   "metadata": {
    "id": "4836d6b5-9ad0-4865-9468-297cefa1ebcc"
   },
   "outputs": [],
   "source": [
    "# We need to download the english data and tokenizer for spacy\n",
    "nlp = spacy.load(\"en_core_web_sm\")"
   ]
  },
  {
   "cell_type": "code",
   "execution_count": null,
   "id": "fd280e72-4005-4ca8-93d0-235896e78c36",
   "metadata": {
    "id": "fd280e72-4005-4ca8-93d0-235896e78c36"
   },
   "outputs": [],
   "source": [
    "# Define a function to remove stop words using spaCy\n",
    "def remove_stopwords_sp(text):  # _sp to keep it seperate from our own implementation.\n",
    "    doc = nlp(text)\n",
    "    return ' '.join(token.text for token in doc if not token.is_stop)"
   ]
  },
  {
   "cell_type": "code",
   "execution_count": null,
   "id": "7a43089e-af06-4271-8714-155589a838b4",
   "metadata": {
    "id": "7a43089e-af06-4271-8714-155589a838b4"
   },
   "outputs": [],
   "source": [
    "# Tokenize the text using spaCy\n",
    "def tokenize_sp(text):\n",
    "    doc = nlp(text)\n",
    "    return [token.text for token in doc]"
   ]
  },
  {
   "cell_type": "code",
   "execution_count": null,
   "id": "151ecc17-b6e9-4904-b23b-13d7e9960057",
   "metadata": {
    "id": "151ecc17-b6e9-4904-b23b-13d7e9960057"
   },
   "outputs": [],
   "source": [
    "# Create vocabulary from training data\n",
    "vocab = set()\n",
    "for text in tqdm(data, desc='Creating Vocab'):\n",
    "    text = remove_stopwords_sp(text.lower())  # .lower to maintain similarity with our custom implementation\n",
    "    tokens = tokenize_sp(text)\n",
    "    vocab.update(tokens)"
   ]
  },
  {
   "cell_type": "code",
   "execution_count": null,
   "id": "ad2d64d6-5ee8-4eb9-89fe-18e5377da8c7",
   "metadata": {
    "id": "ad2d64d6-5ee8-4eb9-89fe-18e5377da8c7"
   },
   "outputs": [],
   "source": [
    "# Create word to index mapping\n",
    "word_to_idx = {word: idx for idx, word in tqdm(enumerate(vocab), desc='Building Word 2 Idx')}"
   ]
  },
  {
   "cell_type": "code",
   "execution_count": null,
   "id": "6cba1e10-1982-4f71-9fbf-c09d3faeff02",
   "metadata": {
    "id": "6cba1e10-1982-4f71-9fbf-c09d3faeff02"
   },
   "outputs": [],
   "source": [
    "# Print the first few words and their indices\n",
    "print(\"Word to Index Mapping:\")\n",
    "for word in list(vocab)[:10]:\n",
    "    print(f\"{word}: {word_to_idx[word]}\")"
   ]
  },
  {
   "cell_type": "code",
   "execution_count": null,
   "id": "1130aee4-0c90-4562-99d2-e233b7a02bad",
   "metadata": {
    "id": "1130aee4-0c90-4562-99d2-e233b7a02bad"
   },
   "outputs": [],
   "source": [
    "# Lets take a look at an example\n",
    "test_idx = 10\n",
    "\n",
    "text = data[test_idx]\n",
    "\n",
    "processed_text = remove_stopwords_sp(text.lower())\n",
    "tokens = tokenize_sp(processed_text)\n",
    "\n",
    "idxs = [word_to_idx[token] for token in tokens]\n",
    "\n",
    "print('Original Text:')\n",
    "print(text)\n",
    "print('-'*30)\n",
    "print('Tokens:')\n",
    "print(tokens)\n",
    "print('-'*30)\n",
    "print('Numerical form (Idxs)')\n",
    "print(idxs)"
   ]
  },
  {
   "cell_type": "markdown",
   "id": "a0e0adbc-d347-4444-bce5-159abaf55036",
   "metadata": {
    "id": "a0e0adbc-d347-4444-bce5-159abaf55036"
   },
   "source": [
    "**Something to notice:** As seen from the examples below, we don't have to remove punctuation. Spacy makes a seperate token for punctuation marks. This lets our data contain punctuation and, in theory, should be able to give our model understanding of these punctuation marks."
   ]
  },
  {
   "cell_type": "code",
   "execution_count": null,
   "id": "eb59311d-12ab-42e6-8c27-4924c8a483f0",
   "metadata": {
    "id": "eb59311d-12ab-42e6-8c27-4924c8a483f0"
   },
   "outputs": [],
   "source": [
    "tokenize(\"Hi, I Love Machine Learning and I want to be a pro at it.\")"
   ]
  },
  {
   "cell_type": "code",
   "execution_count": null,
   "id": "d145e094-7b10-4056-a94b-ba53db69e04f",
   "metadata": {
    "id": "d145e094-7b10-4056-a94b-ba53db69e04f"
   },
   "outputs": [],
   "source": [
    "tokenize_sp(\"Hi, I Love Machine Learning and I want to be a pro at it.\")  # different tokens for punctuation marks"
   ]
  },
  {
   "cell_type": "code",
   "execution_count": null,
   "id": "139f7e6f-3bd6-4f71-9763-f11d4d148494",
   "metadata": {
    "id": "139f7e6f-3bd6-4f71-9763-f11d4d148494"
   },
   "outputs": [],
   "source": []
  },
  {
   "cell_type": "markdown",
   "id": "2e443c59-cdf2-4992-9d29-5bc4628043ec",
   "metadata": {
    "id": "2e443c59-cdf2-4992-9d29-5bc4628043ec"
   },
   "source": [
    "# N-Gram Language Model"
   ]
  },
  {
   "cell_type": "markdown",
   "id": "7224140c-a67a-4a77-b70f-2283fe29156c",
   "metadata": {
    "id": "7224140c-a67a-4a77-b70f-2283fe29156c"
   },
   "source": [
    "Now we will build an N-gram language model."
   ]
  },
  {
   "cell_type": "markdown",
   "id": "9T01HOtzU5E-",
   "metadata": {
    "id": "9T01HOtzU5E-"
   },
   "source": [
    "How can we compute probabilities of entire sequences of words like $P(w_1,w_2,...,w_n)$? One thing we can do is decompose this probability using the chain rule of probability:"
   ]
  },
  {
   "cell_type": "markdown",
   "id": "A6f-1yprU5Hn",
   "metadata": {
    "id": "A6f-1yprU5Hn"
   },
   "source": [
    "![image.jpg](data:image/jpeg;base64,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)"
   ]
  },
  {
   "cell_type": "markdown",
   "id": "T7UTulRmU5KV",
   "metadata": {
    "id": "T7UTulRmU5KV"
   },
   "source": [
    "The chain rule shows the link between computing the joint probability of a\n",
    "sequence and computing the conditional probability of a word given previous words. But using the chain rule doesn't really seem to help us! We don't know any way to compute the exact probability of a word given a long sequence of preceding words.\n",
    "\n",
    "The intuition of the n-gram model is that instead of computing the probability of a word given its entire history, we can approximate the history by just the last few words.\n",
    "\n",
    "Let's see a general equation for this n-gram approximation to the conditional\n",
    "probability of the next word in a sequence. We'll use $N$ here to mean the n-gram size. We approximate the probability of a word given its entire context as follows:"
   ]
  },
  {
   "cell_type": "markdown",
   "id": "pSUNxFxmU5NA",
   "metadata": {
    "id": "pSUNxFxmU5NA"
   },
   "source": [
    "![image.jpg](data:image/jpeg;base64,/9j/4AAQSkZJRgABAQEAYABgAAD/4QBwRXhpZgAATU0AKgAAAAgABgExAAIAAAAKAAAAVgMBAAUAAAABAAAAYAMDAAEAAAABAAAAAFEQAAEAAAABAQAAAFERAAQAAAABAAAOw1ESAAQAAAABAAAOwwAAAABHcmVlbnNob3QAAAGGoAAAsY//2wBDAAIBAQIBAQICAgICAgICAwUDAwMDAwYEBAMFBwYHBwcGBwcICQsJCAgKCAcHCg0KCgsMDAwMBwkODw0MDgsMDAz/2wBDAQICAgMDAwYDAwYMCAcIDAwMDAwMDAwMDAwMDAwMDAwMDAwMDAwMDAwMDAwMDAwMDAwMDAwMDAwMDAwMDAwMDAz/wAARCABNAjUDASIAAhEBAxEB/8QAHwAAAQUBAQEBAQEAAAAAAAAAAAECAwQFBgcICQoL/8QAtRAAAgEDAwIEAwUFBAQAAAF9AQIDAAQRBRIhMUEGE1FhByJxFDKBkaEII0KxwRVS0fAkM2JyggkKFhcYGRolJicoKSo0NTY3ODk6Q0RFRkdISUpTVFVWV1hZWmNkZWZnaGlqc3R1dnd4eXqDhIWGh4iJipKTlJWWl5iZmqKjpKWmp6ipqrKztLW2t7i5usLDxMXGx8jJytLT1NXW19jZ2uHi4+Tl5ufo6erx8vP09fb3+Pn6/8QAHwEAAwEBAQEBAQEBAQAAAAAAAAECAwQFBgcICQoL/8QAtREAAgECBAQDBAcFBAQAAQJ3AAECAxEEBSExBhJBUQdhcRMiMoEIFEKRobHBCSMzUvAVYnLRChYkNOEl8RcYGRomJygpKjU2Nzg5OkNERUZHSElKU1RVVldYWVpjZGVmZ2hpanN0dXZ3eHl6goOEhYaHiImKkpOUlZaXmJmaoqOkpaanqKmqsrO0tba3uLm6wsPExcbHyMnK0tPU1dbX2Nna4uPk5ebn6Onq8vP09fb3+Pn6/9oADAMBAAIRAxEAPwD9/KKKKACiiigAooooAKKKKACiiigAooooAKKKKACiiigAooooAKKKKACiiigAooooAKKKKACiiigAooooAKKKKACiiigAooooAKKKKACiiigAooooAKKKKACiiigAooooAKKKKACiiigAooooAKKKKACiiigAooooAKKKKACiiigAooooAKKKKACiiigAooooAKKKKACiivD/APgpAng2w/Yj+JWueO7WS50Hwp4fvtabyryazmjkgt5GQxyxOjq+eAVYHLVjiK3sqUqr+ym/uNKNP2lRU11dvvPcKK/Cf/g18/YGt/21/wBj/wAZ/E742a18RfFy6xr7aR4dWXxvrNn9kgt41M0qG3uoyS8sm3cSSPJOMZOer/Zv/as+Jn/BOr/g4n/4ZNj+IXjT4lfBnxtbxy6bY+K9Tk1jUPDby2DXaCK6lJl2I8bJtZipjcEgsN1djotVo4d/FJXXa/LzW9WvK19G0c/tL0pVltHfvZOzfon87bJn7S6tq1roOlXN9fXMFnZWcTT3FxPII4oI1BZnZjwqgAkk8ACuP/Z8+Pmj/tL/AA3h8XeHbPWIfDuoTSLpd5f232YaxbqcLeQIWL/Z5OTG0iozqAwXays3y7/wUt8aTftHftR/B39k/T5pF0z4iGfxb8QWhcq3/CNaeyk2bY5CXt0Y4G9Y1kXo1fatjYw6ZZQ21tDHb29uixRRRqFSNFGAqgcAAAAAVjT1g6j2baXydm/vvFealfozSeklDra7+ey9bavycbdSWiiigAooooAK87+GH7Tfh74s/HL4lfD7TIdUj1z4VzadBrElxCi28rX1r9qh8lg5ZgI+G3KuG4GRzXolfH/7EX/KUH9tH/sI+EP/AEyUo6z5f7rf4xX6sq2lz7AooopkhRRRQAUUUUAFFFFABRRRQAUUUUAcD8S/2jfD/wAH/iZ4R8N+Io9S0xPG87WOlaxJCv8AZcl+OUsXlDZjuJVDGMOoWTYVVi+EPfVwP7UX7POh/tW/AHxR8P8AxArjT/Elk9us8Z2zWE4+aC5ibqssMqpIjDkMimvHP+CRf7WWuftV/skqnjVo/wDhZXw11q98CeMwox5mp6fJ5Tz47edH5U3pmQgcCin73NHqtfWN7P8A8BbSf+KPW7CelpLZ6ejtdfek35NPukfUNFFc78Ufi/4T+B3hKbxB418UeHfB+g27BZdS1vUodPtIyegaWZlQE47mk2lqwSb2Oiorkfg7+0B4D/aH8Pyat8P/ABt4R8c6VE/lveeH9Yt9Tt0b+6XhdlB9ia66qaa0YXvsFFU9L8R6frd7qFtZX1neXGkzi1vooJ1kezmMaSiOQA5RzHJG+1sHa6noQTcpAFFfj7/weBeM9J+DP7HPg/XNFvda0P4oeJPEsGmaZqOk6vdWNx9jiimknVlikVZFy0Y+ZTguMYr2r9n/AP4IjeGJ/wDgnv4NtNa8XfF3w38ZH8LQXl94x0z4ha1b39lqskAld9n2ryCscjbdhjxtTseazVT9zUrS2puz7v3ebTbpv5lyjacKf86b9LO2vz/A/RiuK+P/AO0B4Z/Zo+G1x4o8VXU0NjHNFaW1vbQtcXmp3czBILS2hX5pp5XIVEXkk9gCR+bX/Bq7/wAFNfif+3h8DviT4S+K2sTeLdc+FWpWltZ+Ip0H2nULa4EwWOZgAJJEaBjvPzMrjcSRk++fBjxMP29v+Crfj/Xrr/Svh9+yuy+FvD1uTugu/FF1Dv1C+I6GS2gZLZM/d86YjBauipTaqRpp6Nc1+0bJ39dVFb2k1fS5nGVoylJaxfLb+9e1vzk/7qfXQ+1NC1KTWNEs7yaxutNmuoEme0utnn2rMoJjfy2ZN65wdrMuQcEjmrVFFQ9XdDW2oUUUUgCquuavD4f0W8v7jd9nsYHuJNoy21FLHA9cCrVYPxT/AOSY+JP+wXc/+imrnxVR06E6kd0m/uRth4KdWMHs2l+Jhfsw/tDaH+1l+z54P+JXhmHUrfQPG2mRarYxahEsV1HFIMhZFRnUMO4VmHua7uvlr/giR/yiU/Z9/wCxMsv/AEGvqWvQxdNU686cdk2vuZy0ZOVOMn1SCiiiuc0CiiigAooooAKKKKACiiigAooooAKKKKACiiigAooooAKKKKAOe+K/xCX4UfDvVvEj6Prmvw6PAbmax0e3W5vpYwRvMURZfMKrltikuwUhFdiqmX4Z/EzQfjL8P9H8VeF9Vs9c8Pa9ape2F9avuiuYnGQw7j0IOCCCCAQRW5XxB8AvFn/DFX/BV7xZ8Cv+Pf4f/G3SJ/iP4Lg6RaXqscgTWLKIdAkpKXYUcKzynHzUQ1n7N9U7eqTbX/gKbT6WtrzKxLSHOulr+jaSfybS9HfS2v2/RRRQAUUUUAFFFFABX5c/8Hcn7T5+Bn/BKW88JWdx5WrfFfXLTQURT87WsZ+1XBHt+5jQ/wDXX3r9Rq/Bf/gvP40039vf/gv1+y/+zeuo20+g+Eb60n12LzQUW4up1uJ4W7b/ALJbRAA85lx3rGdH29Wlhf8An5OK+V7v5WVvmbU6nsoTxH8kW/nsred2n8j6r/4Jw6d+1l+xX/wT2+G/wr8E/sv+CZrjR9FR11vV/ihFb20txcFriS4mtY7MzAl5WJiDZHTecZPU/wDBNr/gi74q+EX7ani39qf9ojxhofjz48eLPMS1t9Cgkj0TwxE8YiKW5lAkkYQqIVJVQibh85YtX6JogjQKoCqowAOwpa7KlbmrSrr4ndX7J7pdNdtEckKdqSpPbS/m1+O+u/qfnn+zHet8Rv8Ag49/aW1G6Jkb4f8Aw38OeHLHcc+THdN9tkA9MvzX3h8SPh7ZfFLwfd6JqF1rlla3gw02j6xd6TeRkdClxayRyp/wFhnvkV8Hfs9WTfCr/g5I/aA027/dL8UPhfoXiTTy3HniylFlKB64brX6G1zwipYSkn2lf19pO/8A5Nc3qSaxE2v7v/puB+Uf/Btv8f8AXvBvw4/av8H/ABS8ca3rrfBb4j6gbvWvEmqS3lxBZiN0Z5JpmZto+xyOcnqWNdX/AMEx/wBvD4h/tN/8Fo/2k/DPjKK+0PQdL8IaDf8AhXw9O7KdO09v30cssZ4W5lW9R5RjKkiMkiMV84/8E7P2efF3xf8A+C2/7aXgMWv2f4Nv8QLPxN4wmOR/askElxcWmljsY55pxNL/AHo7UoRiU12PxN+Jfib9mr/g6M+Ikfgzw1ceJvFXxX+Edla6JZBGFmt4JbeNbm7kUfurWFLWSSRuu1Nq5dkU3h5SlLDVJ689KyXmqO/q3FpXtbV6qSaMRFL6xTjoozvfydWOnok7vfoujT+tPhV+z/4k07/guj8S/Hmi/ELxdqfgWTwBY23iLw5dX8k2l6brMsqi2igjJ2IwtbczMoG5PtIOdswFfbVea/Aj4Dy/s9/BefR7HVY9W8Vag0+qavr2pQljrGrTDdLdzIrA7C+0LGrARxIkakKi4+Ev2Q/+Ctfx0/aw/Zc+MPjGx034S2t54J1LWG0/Wms79NCsNH09ZALu4Tz2luJ7mWKYRwo8QSOJndh8iyxKpGnT9n0pxb+XNd/JOWl7PlXkxxg6k+dfbkl8+Wy+9Ru99XbsfpvXx/8AsRf8pQf20f8AsI+EP/TJXef8Eqf2ovGH7af/AAT5+GHxS8eaPpeh+KPGelm/u7XTkkjtcedIsckayMzKskao+CzY39TXB/sRf8pQf20f+wj4Q/8ATJWk6cqeIlTluoyX3SgRSqKdPnjs7Hyv/wAFB9Q8R/sf/wDBwH+x/quj+NPiAfA/xTm1DR9S0LUfFWoahpf2xw0JeOC4mdIs/a4PkQKoMSkAV03/AAcBf8FHfGH7Psnw18M/D24mstHsfiT4btPHmtW8xja2Espu4NMRh/FJHbmWYZG2J4Qcic1x/wDwdA2/inQvjb+xP4o8C6J/wkXjTRfiYU0bTixVb65Y2skcLMMlVZoQGPZcntWf/wAHDf7MNx+z/wD8EJYvtl+dc8X6F430rxb4k1orh9W1a4nZbq5x1CmSfai/wRJGg4UVnh5qFGm6m0KyXqnOnJL0Sk7/APbq1TZrUp89WSjvOl9zSmr+raXrq90j6x/4LsfAzXv2gv2MdN0TwZ468V+BfiC3i7SR4Uk0LUJLSTUtQknEQgl8shmhWJ5p2wfkFv5h4QivY/2zf21fDf8AwTy/Zs1Hx140sPGniSy8N6d9ou/7B0SW+mlCBVaSR1AhgBYglppEXk4JxiuV/ZGs9b/at8V6T8cvF+mX2i6RDp32b4feH7+Ix3FjazIon1a5jPKXV0PlRSN0NvgHa80qjD/4Lu/8oev2hv8AsTrv/wBlrPGc+Gw9S2j1k/KySS8nZa/c1dNiwfLiKtK+2i+93fqtdPm07NHvn7Mvxvtv2l/2dfAvxEs7GfS7PxzoNlr0NnM4kktUuYEmWNmHBZQ4BI4yK7ivAf8AglL/AMoyP2ff+yd6F/6QQ1Y/ZV0v9oSy+K3xkk+L2p+Arzwjca6rfDaPRIZBc2um4kyt7lV3PzB0JO4S87Sld2Mpxp4mpShtFyt8mlb11v6JnLhZupQhUlu0vxV7+n+aPdqK/Ov9jz/gpx8cf2qPi78fvB9jpnwrvLj4c+JZ/DOg6tb2l9b6XbR2m8XmpagWnkd0DmKOKCLy2ldZfnCI8kfrX/BHz9vbxX+2t/wT6sPi58VofCfh26l1TUrT7fpwkstLu7S2uXgS6AnkcxqxRh8zkZXPGcDnp+/HmW3KpfKVrfn+fWMrbTvF8r35nH5q/wDk/wDhmr/XVFef/wDDWXwr/wCil/D/AP8AChtP/jlWNL/ad+Guualb2dj8QvA95eXUixQQQa9aySTOxwqqoclmJ4AHJo30QEnx++O2k/s5fC/VfFmtWPiTUrHSbaW5kttD0e41S8kWNGdtscKsRwp+ZyqDuwrif+Ce/wC2zof/AAUS/ZO8N/F7w3pGqaHofimW8FnaaiUN0kcF3NbhpAhKqzeVu2hmxuxk4zXaftKoJP2c/HwYZH/COahxn/p2kr45/wCDYRlf/giV8HCqlV/4mvVt2f8AiaXee3rRR951b/ZULf8Abznf/wBJQVvdjTa+05J/JJ/qfflfnd/wSzvW8D/8FfP29/A8PyacfEHh7xTDEPurNe6ezTsB/tFUJr9Ea/PL/glHYHx//wAFVP29PiJCpfTZvFui+ELeYfdebTbApcKD6q0iA/UUUP8AeH29nK//AIFTt+Ngq/wP+3o29fev/wCS8x+htfGfxc/4JreGf2xP2zfGHxD/AGiNDs/FngLwPDZ6Z8PdA1e8WTQ7eI2yTX2pTWwfY8z3EjQ/vxwlsCFwVavsyvh39o3/AIJvR/8ABTz9rrxYvx2Him6+CPw7+w2HhPwdbajPpul+JbuS2S4utTumhZJJ9jyrbxgMFQwy9SWFTZ86stdd9l5+vRet9LXVRa5Wn+HXVafq/JddnR+KP/BD/wCFt9qdv8Rv2YdcP7N3xOtYybHX/AoT+xdTUciC+04H7Lc25I5UBTnklsAVza/tf/8ABRH4Zwf8Ibqn7Jvw9+I3iJf9Ht/HeifES20zw/dY4FxLYzr9pT+8yBlJyQoHAqxr3/BDD/hkbU5PGH7FfjrVPgX4rj/eXPhfU7261rwZ4nx/yzu7ad5JImPQTRNuQE7VBORWX/gr1+0t8O4v+EV8ZfsJ/F3VPiNF/o63HhO9gvvCmoydBKuoHIt4nODiQMyA4Ykg01JW5U3/AIX/AO2vX7k0+rXUVn8TS9f8/wDgpron0Pp3/gnz+zp4q/Z8+EeszfETxFpvij4peOtcn8T+Mb7TUMdhHfzRxRrbWyN8ywQW8VvEm75mWMMcFsV7xXgH/BO74MfED4afCzxF4j+LDaXH8TPih4hm8V+INP0yUzWOiO8MFtb2EUn/AC0EFtbQIX6M4cjIIJ931bVrXQdKub69uIbSzs4mnnnlcJHDGoLMzMeAoAJJPQCrrSUUuayslttGyWiezUdr7NK5FPW9ru7evV3b1t572tpe1j8E/wDgvvrniD9uv/gvh+z/APAfwhoMHjZvhraw61e6FNqQ0+C+mdvt9xDJOUcRBrS1gXeUbHmdOa++v2kfEv7dv7Vvwv1bwH4M+Enwt+A6eIrWTT7zxZrXj869c2FvIpSRrW3tbRds20kKzsQCc4BAI+F/+DdbWrX9v7/guJ+1V+0jczx3UOnCS00NXfLpBeXLRW7qOuFtLIJn/ppX7xVnTor6lSp1F8ac2n0c29NLPZLqaVKj+t1JQfwWin/hS17attnyn/wSS/4JXeD/APgkZ+y03gnw/fzeItc1Sc6p4j16eEQyatd7Ao2pk+XCijaibmxliSSxNeQ/8G0lw3iz/gn74k8b3JMmpfEb4leJfEN7K3LSyPemPJP+7EBX6ETxCeB4z0dSp/Gvz3/4NsLd/A/7Efjr4d3f7vVPhd8UvEvhy8hPDRst35ykj0KzAitqdSU69SU9/Z6einTT/wDbbGcoKFGKj/Ov/SKn/BNr/g4v+GGsa1/wS2+KXjHwr4s8eeE/FXgvS49Rtp9A8T6hpsM0CXEZuI5oIJlhmVoWk5kRiMDBGK1/gz+3pq2k/wDBHP4PfEDTIF8UfEzxt4JsLbQdPnlJOq6stgWlklblvKiEM08zdQkT9WIB9d/4Kp+Gk8Yf8E0Pj9p0i7xcfD/W8DHVlsZmX9QK+L/+Daf4F+LPiD/wT/8Ah/8AED4j2vk2+meF7jwl4C018kWulSXEklzfsD0lu5NiA9oLWLBw7Z47TdLE06faEvwqqy821FeWsrOzOhyjGVGpPXWat3/hvXySu/wuro9c/wCDfn4+69+2L/wR58KeJPG3iLVNQ8Raxca7baxqzXRS6EjahdEyLJ/AVSRduOEwMYAArpv+CFnwU8UfA39iG6sPEHjbxJ4+0rVPF2sal4T1XXbp7i9m0Frjy7F2ZyTtlSI3CgHGLkEAZxXwZ/wboWnij49fsS+JP2ebK01XSfBvhn4g6wvjnXtjQpPpxaIro9o/GZrlxKJmX/VQBhkPNGR+mf8AwU4/aX1r9gn9gTxt8S/BsPhOC4+H+mrcW1jrFrM9lcKCsUVsiwSRsrM7RouDgZxjuOzE1KcL4mOinCOi7NKTdvXSPW3NpZxbxpU5yl9Wbu1OX33cUvmtX/27rul9FVg/FP8A5Jj4k/7Bdz/6Kavzd/aa/wCCsP7Rnwh/YQ+FvxX0bw18L5NS8QaxomgapaX1nfH/AISTU76QLcW2mRLODDDAd8YnmklMrRSFUCBXk/SD4nMzfCvxCXXax0q5LAHOD5LVx5lTccLWv05ov1UU/utJG2DmnXpW68svk3b80z5p/wCCOvhe28a/8EcfgTpd5JqMNre+CbKOR7DUJ9PuVG3PyTwOksZ46o4PvXy1/wAEJviN4m+Gv/BR39uL4O+LvGnivxRp/gnxJa6po9z4m1u41O4tbFjcAZnuHZ8CE22STztya+tv+CJH/KJT9n3/ALEyy/8AQa/OvT/gP40+Lf8Awc0ftNfD/wAPxy2PgHx54c0Wbx9qcbMjxaULaylktYyOkl46G3JyCIpJ2HK5HpYi/wDas4L7SqryumpJvyVrvra9tzlp2eBTf2XB+dvhaXm72+497/Zj/wCCi/jT9or/AIODbzwldSXWm/Cq8+Ek+p+CrDzGVdVhe/gI1SROBunWF2jzyIPK6FnFezePvgF4i1f/AILteAfHXhn4geLf7D0r4fX/APwm3hY6hI2jwxsxg00iEHask0z3EmCDn7AWBHf5U/4KFeOrj9kn/g5Q+Afibw74U1DxJeeJvhVfeHNM0PSotrX1yrXi28OcbYog5h3yN8sUas54Wv0z/ZY+A998F/Bd/eeJNSh174g+MLs6x4p1aNCsV1eMoVYYVPKWsEapDCh5CRgnLs7Hlo29lSqR2j7RebbnVjr58suZ9tFZJq2lZtVJwe8uR26JcsH911ZdXq9bO/qFFfnn+zD/AMFL/jd+0N+198fvhdYaR8MdXb4a6wnhzQL6ztb21tfPRd97e6g7TyHybfdFEIYlV5pZNoZVDyR+lf8ABHj9vbxp+2t+yB4k+IHxUj8G6TJoHi7V9Dg1bRo5bHStSsbOQILwLcSyNGpbzBkyEYTPHNFP348y25VP/t1tK/8A5Mvv7ppOonGTi+kuX52b/R/d5q/2FRXn/wDw1l8K/wDopfw//wDChtP/AI5Utl+1J8MtTvIbe2+I3gS4uLhxHFFHr9o7yMTgKoEmSSeABRvohD/2jfjPL+z18G9d8ZJ4V8QeMLfw7aS393p+iyWi3hgijaSR0+1TQxttVSdu/cewNcJ/wTs/4KDeBP8Agpr+zJpvxU+Hqata6LfXdxYTWOqxxRX+n3EL7WjmWOSRASpRxtc5WRT3wOc/4KxeIbib9ka48CabNJDrPxl1rTvh7ZlDh1TUbhYrtx/1zshdSZ7bK+O/2D9It/8AglN/wXL+KH7PMca6X8Lv2h9OXx94DgA2W9pqMSsLy0jHRcqkx2josMI7ijD+9UlGWzuov+9FKck/WDuvNWv0HW92mprday/wt8qa9JaPyPtr4aft6j4mftn+LvgrB8L/AIiWGqeB7O21DV9euW0s6Nbw3Qc2pDx3jTM0ojfCCLeApLBRzX0ATgV8q/8ABL2JPHWifF740XTLn4u+PNRvrK4kOP8AiUacRpdjz/cMdm8w7fvye9ez3f7WHwt+zyr/AMLK8AbtpGP+EhtPT/rpUyly0ovrypv1avZ+a2fmmNr95JdLtfc7X9HuvJo7Hwj4w0nx/wCGrPWdC1Ow1nSNQj821vbK4W4t7lP7yOpKsOOoNWNa1eHQNJuL64Fw0NrGZXEED3EpA5wscYZ3b0VQSTwATXyL/wAEpP2mPhv4e/4J2fCey1D4geCLG8t9EVZYLjXbWKWI+Y/DKzgg/Wvrbw14o0zxnokGpaPqNjq2m3QJhu7O4SeCYAkHa6kqcEEcHqK0qR5ZNLoTddT55/Yw/wCCnHhP9uH9oj4xfD7wz4b8YaLdfBm4srPVLjxBYHTpLue5884jt3/eoqiEHMoRjv8AugDJ+lK/M3/gkH/ymb/4KHf9jJ4f/wDSa5r68/aJ0z9oS7/ak+EM3wz1LwFa/CW3ubk/ES31eKRtTuYSq+SLQqpAI+buvzbd2VyKmHvQov8AnjFt9E5Ru2/IJ6Va0ekJNL0VtPU92or4a/4KBf8ABSD4hfso/wDBQD4H/C/w/b+C9U8N/Epbu/1iKTTbq41yztLTywUt9lwkTS3UriCHchw7DIPUS/s/ft2/GzxV/wAFdvEHwH8aaH8O4/Ctn8PY/GjjQxdS3/hyaW7EMNndXMj+VcOyEsTHDGOm3IBLFL95bl+05Jf9uJt/+kv7vNXKnuXv0UW/+3mkvxa+TufcFFcTrX7S/wAOPDerXGn6j8QPBNhfWchintrnXLWKaBwcFWVnBVgeoIzVX/hrL4V/9FL+H/8A4UNp/wDHKN9UB3l5dJY2ks0m7y4ULttUs2AMnAGSfoBk181fs/f8FRPCH7SX7dnjv4D6H4Z8babrnw70OLWtT1DXdLfS45hLJGsaQwTATkFZA290QegYHNfRfhzxNpvjHRLfUtI1Cx1TTbtS0F3ZzrPBMASCVdSVYZBHB6ivzd/ZR/5WhP2ov+yZ6D/Kzop64iNOWzU/vUG1+KHL+DKa3XL+Mop/gz9MK/O7/gsnet8O/wDgoB+wV41tf3d5D8Tbnwy8g4LW+o2gikQ+xC9K/RGvzy/4K9WDfFH/AIKPfsG+A7Ueddr8QL/xfOi9Y7fTbNZGc+gy2M+tFP8A3ijb+eH3cy5vly81/K4P+FUv/JP/ANJdvxtbzP0NooooEFFFFABRRRQBHc20d7bSQzRxzQzKUdHXcrqRggg8EEdq8Lm/4JY/sw3GoteSfs4/Ad7xpPNM7eANJMhfOd27yM5zznrXvFFFtbhd2sVdE0Sy8M6Na6dptna6fp9hClvbWttEsUNvEgCqiIoAVVAAAAAAGKtUUUNt6sNtEfGP/BT34X6h8JPjF8J/2qPDdjdahffBa4uNP8X2VnCZbjUvCt8Al6yovLtaMFulUdRHJ3xX2B4Y8T6f418N6frGkXttqWlarbx3dnd28gkhuYZFDJIjDhlZSCCOoNXJY1mjZHVWRgVZWGQQexrk/gp8C/DP7PHg+Tw74QsX0nQTeTXtvpyzvJbaeZW3vHboxIhh3lmWJMIhYhVUcAhpFwe17ryvuvS/vLzcr3urEtWpddn522fqtvNJbW1ueB/hN4a+Gmq+Ir7QdE0/SbzxbqR1fWZ7eILJqV2Y0iM0p6s2yNFyegUVHafBvwrYfFu+8ew6DpqeM9S0yHRbjWfJH2uSyikeWO339RGHkdsDGSRnOBjpqKO3lovJWtb7tPTQN7367/ff89fXU8V/4KOfEHxV8Lv2EfivrXgfw/4g8UeMoPDV3DoemaJYTX19c3s0Zhh8uGJWdtryK52g4VSegJr4J+Of7Hviz9gj/g2PuvhV4F8KeINW8e+JNBsbPxFBpGmzXuofatTuIRqUrRRK0r+XHJJFwCQqKOgr9YKKzdNOM4v7fLfzUW3y+kubX0XVGkajUoS/lcmvVpWfqraerPL/ANjHRD4T/Zp8I6Hb+G73wrovh/TLbSdFsb4GO++wW8McUMlxCVBgkcIW8o5ZFK79r7kXw/8AYi/5Sg/to/8AYR8If+mSvsCuL8B/s/eFvhr8WPHXjbR7GS38RfEaWym164a4d1umtLf7PBhGJVNsfHygZ6nJrepUc60qsuqf3txd/wAHfz2RjSioU1TXS34Gl4u+E3hrx74r8N65rWiafqer+D7qW90S6uIg8mmTyQtC8kRP3WMbsueuGNM+LHwd8LfHbwe3h/xloOm+JNDa6tr1rG/hE1u81vMk8LMh4bbJGjYOQdvIIyK6Wio/zv8APv66IoANowOAOgr5E/4LoS6hr3/BL34weEdB8M+NPFvibxl4dn0zSdN8OeG7/WZ7id2QAMLWKQRjnO6QqMA8nFfXdFZV6Sq03TezVn8zSjUdOaqLo0/uPnb/AIJQajcR/wDBPH4OaHqOh+KvDut+FvBmkaTqmn6/oF7o9za3MNpHHJHsuooy21kYbkyvTnkVj+Dv+CgPij4i6P8AtJJH8E/iZ4fvPgfJc2miNeaZLMfHsiQTvG+nRom6Xc8SAKm/KzxHOWKj6horbGSeInUm3bnUtujbTuvTVJefkZYWMaMIQtfltv1S6P10+7zPyo/Zi/Zh8ffsDf8ABuX8RNQ0/wAI+JL747/ETw3qnibW7CLTpW1k6lqW5VRodvmiS3hlUmPGVZJOASa+sP8Aglp8GLHRP+Cbnw9+HeteA5tP8K6P4bsdMXT/ABLp+y41ciFHuZ7mxmQGFXuWlKpKN5A3Mq5Ar6noq5TTlUaWkuVJdEocySXopW9F9yV7Ru9YuTv3cuVt/er/ADPKv+GE/gh/0Rv4Vf8AhJWH/wAaqzov7Fvwd8N6va6hp/wm+Gdhf2Mqz29zbeF7GKa3kU5V0dYgVYEAgg5BFemUVmm1qit9GeZ/tieMY/Bn7M3jeVtM8SaxPeaHfWltZ6Hod5rF5cTPbSBEWG1jkk+Y4GSoUEjJGa+U/wDg210TXPhb/wAEp/h38P8Axd4R8deC/GHhf+0RqOm+I/C+oaO8PmajcSpta5hRJNySI3yM3XnGDj74oop+45v+ZRX/AIDzW/8ASnf5BU9+MF/K2/vSX6Hl37Zf7S9j+yX+zt4g8ZXFvLqWpW8QtND0qBDJc65qkx8uzsoUHLySzMigDoCScAEjhv8Aglv+x7ffsW/skaboPiC4W/8AHnia+uvFnjK9Ugi61m/k8+5wR1VCREp7rED3r1rxZ8CPC/jv4qeG/GWs6e2pa34PSYaKbiZ3t9OkmG2S4jhz5fnlMoJSpdUZ1UgOwPYUU/dUn1enolrb5uzfpHtdktbLotfV7fgrper8rFFFFABRRRQAVzfxW+DfhD47+D5vDvjjwr4b8ZeH7h1kl0zXdMh1GzkZc4ZoplZCRk4JHGa6SihpPRgm1seO/Db/AIJ4fs//AAa8X2niDwf8DPg74U1+wbfbalo/gzTbG8t29UlihV1PuCK9ioop3drBbqFfEfhzwr/w7+/4Kq+JNSmDW3wv/asNtKlztxb6P4wtYjH5Lnon2+2G5CfvTQFerLn7crmvi/8AB7w18fPhzqfhPxdpNtrfh/V4wlzazZXJDBkdGUho5EYK6SIQ6MqspBANJXjNTXmmu6e6/JrtJJtO1h6OLg+v4NbP9H3Taur3NPxh4R03x/4S1TQdas4dQ0fWrSWxvrWUZjuYJUKSRt7MrEH607wp4V03wL4X03RNGsbXS9I0e2jsrKztoxHDawxqESNFHCqqgAAdAKl0DR18PaFZafHNdXEdjAlust1M008oRQoZ3b5nY4yWPJOSat09E3b/AIe17fm/vYtWlf8Aq9r/AJL7kcz8J/g34V+BPhNtC8HaDpnhzSGu7i/e1sYRHG9xPK0s0rf3neR2Ysckk18X/wDBef4LeMf2v/h38GvgX4b8P+J9R8P/ABN+IWn/APCZ6rp1hPNaaLotmftE73MyKUg3sI9hdl3MmBk197UVPKnKLe0XF278rTS9NLehXM0pW3akr/4k1f11v6n5x/8ABVPwRrFz+2z+xZ4L0P4b+Lte+GXgfWb7xPNB4f0eW4s4r7T7RY9JtZJFXyrZBI/+smZI1XJJAU196eOZbyf4MaxJqENvbX76LM1zDBKZoopTA29UcqpZQ2QGKqSBnA6V1FV9V0yHWtMuLO5TzLe7iaGVMkbkYEEZHPIJ6VliISnhp0d3Lmd33kra/JJekV1veqMowrQqWsoqKsuybf5tv5vpa3zF/wAESP8AlEp+z7/2Jll/6DX0J4c+E/hvwh478ReKNM0XT7LxF4uNudZ1GKIC41H7PH5UAkbqRGmQo6DJ7k5pfAX4H+HP2avgz4a8A+EbOTT/AAz4SsI9N023kned4oYxhQXclmPuTmuuruxVVVK86kdm2/k3c56MXGmoPol+BzN/8G/Cuq/FnT/Hl1oOmXHjHSdOm0iy1eSENdWlpK6ySwxsfuq7IpOOTj0q58R/FcvgT4ea9rcGn3+rTaPp9xex2NjbvcXV60cbOIoo0BZ5HI2qqgkkgAE1tUVyVIuUHCLto7eV7vT5tv1NoySlzSV9r+dtPyVvQ/Ln/gnj+z38Qv2LP+CInxg+JN14N8SN+0J8VrDxB451TSm06ZdZXULgT/ZLYwMvmho1Kv5W3cGkfjJr37/gi18Gl8H/APBLv4d/D7XPAd9peg2fhy3gu7XxLp7QXOs3VwrT6g01jOgaOH7RK6L5o3SAM2wJsZ/siiteZXnZaSUEl2UOZJeekrfLuRq+Vt6pybfdys2/vWnq0eVf8MJ/BD/ojfwq/wDCSsP/AI1U2n/sSfBfSb+G6tfhF8MLW6tpFlhmi8K2KSROpyrKwiyCCAQRyDXp9FSm1qhnxb8f/iRd/FH/AIK1fBXwvP4L+JjeCfhpY6tr8/iBfBWrSaHNr1xEllZwfbFtzB+7t5ryQy7/AC1LqN4IIHn/APwcXfsXeNfj5+zt4I+KHwhS8j+MnwT8SW+q6BNZR77mS3uJEguYwADuAJilIPG2Fx3NfolRUSpqUIxl9l3v3fNf8vd/wpLzLjUam5LZq1vK1n+Lb9W/Q4P9nD4Gad+z7+zd4L+HdrHHPp3hPQbXRcOoZbgRQrG7MD13kMTnqWNYd3+wr8Efs8jf8Kc+Fe7aTn/hE7D0/wCuVesUEZFXiJOq5Se8r/iZU48kVBbI+Kf+CVn7Gnwf8V/8E8vhTqOqfCn4balqF3oqvPdXXhmymmmbzHGWdoyWPuTX11oXhrQfhB4IFjoei2eiaFpMTyRafo+m7Y4VyXYRW8CZJJJO1FJJPAJNWPBHgfR/hr4TsdB8P6ZY6NoulxeTaWVnCIYLZOu1FXgDk9K1KqpLmba6ladT8w/+CS8mueG/+CtH7aHiTXPAHxW8N+Hfijr+kz+F9U1nwHrGn2WrR28dxFK4mmtlSNQzKQZCuQwI74+x/wBoj9snWPgX+1H8IfhzY/Cfx54y0/4oXNzb3vifSLYyaZ4UESqQ9220gBtxPzFMKpI3Eba91oqY6Rpw6QSXqoqy9POwS1nUn1m2/Rv+up+ffwY/Zw8RftCf8F8fit8aPGXhPxBpvhT4O+FtP8GeAbrVdNmtrXVLi4V5728tGkULMsZeWLzEyv7wc5FZf/BMWy8aat/wVA/a48beI/h74s07UPE3jOLQYNV1jT5tPsLbQNMtTDaPaTSJtumuJWDbIiVCKXdlzGsn6MUUUf3fLb7MZR+cpKUperd/lJrYKnv8395xfyirJfk/VJnm3iH9jX4QeLdcu9U1b4U/DbU9S1CVp7q7u/DNlNPcyMcs7u0ZZmJ5JJJJqn/wwn8EP+iN/Cr/AMJKw/8AjVeq0ULTRAZXhfwlovw08KQaVoWk6fomi6bG32ew02zWCCBcliI4o1AGSScKOST3Nfmp+ypqWtWv/BxN8fviBefD/wCLmm+BPGHgrStC0bxBe/D7W7bT767g+yCVBK9qFVQVf532qdhIOOT+oFFENKyrPopL/wACTT/B/eEtabprrb8Gpfml8hHcRoWYhVUZJPQCvib9kfwl/wANof8ABRPxp+01OryeB/B+lP8ADn4aO6/u9TiWbzNU1aLPWOWcfZ4nHDpAzDIYGvrn4r/DDSfjR8O9V8K68t6+i65D9mvorW8ltJJ4SRvi8yJlcK6gqwVhlWYdDWn4Y8Mab4K8OWGj6PYWel6TpdulpZ2dpCsMFrCihUjRFACqqgAADAAohpPn6pNL5ppv/wABbS/xN7pBLWHJ3av6Jppfek/lbVNl6iiigAooooAKKKKACiiigAooooAKKKKACiiigAooooAKKKKACiiigAooooAKKKKACiiigAooooAKKKKACiiigAooooAKKKKACiiigAooooAKKKKACiiigAooooAKKKKACiiigAooooAKKKKACiiigAooooAKKKKACiiigAooooAKKKKACiiigAooooAKKKKACiiigAooooA//9k=)"
   ]
  },
  {
   "cell_type": "markdown",
   "id": "5JX_ySrQW82q",
   "metadata": {
    "id": "5JX_ySrQW82q"
   },
   "source": [
    "For more details, see e.g. this [source](https://web.stanford.edu/~jurafsky/slp3/3.pdf)."
   ]
  },
  {
   "cell_type": "markdown",
   "id": "5e2c5147-d112-447e-a84d-fc2fbe0164a9",
   "metadata": {
    "id": "5e2c5147-d112-447e-a84d-fc2fbe0164a9"
   },
   "source": [
    "We first need to tokenize the data"
   ]
  },
  {
   "cell_type": "code",
   "execution_count": null,
   "id": "4e5e6f17-8930-4c9c-9792-922b7409481f",
   "metadata": {
    "id": "4e5e6f17-8930-4c9c-9792-922b7409481f"
   },
   "outputs": [],
   "source": [
    "tokenized_data = []\n",
    "for text in tqdm(train_data, desc='Tokenizing training data'):\n",
    "    tokens = tokenize_sp(text[1])\n",
    "    tokenized_data.append(tokens)"
   ]
  },
  {
   "cell_type": "code",
   "execution_count": null,
   "id": "3b998ece-e21c-406e-b058-7b9b57a20e35",
   "metadata": {
    "id": "3b998ece-e21c-406e-b058-7b9b57a20e35"
   },
   "outputs": [],
   "source": [
    "sos_token = '<SOS>'  # start of sentence token. Appending this at the start will make the selection of first token also probabilistic based according to corpus\n",
    "eos_token = '<EOS>'"
   ]
  },
  {
   "cell_type": "markdown",
   "id": "5a0b85a1-4e8e-4100-80f9-749d098b4971",
   "metadata": {
    "id": "5a0b85a1-4e8e-4100-80f9-749d098b4971"
   },
   "source": [
    "Let's build the model"
   ]
  },
  {
   "cell_type": "code",
   "execution_count": null,
   "id": "734c6f4a-df56-45d0-b9a2-6ee21a78200c",
   "metadata": {
    "id": "734c6f4a-df56-45d0-b9a2-6ee21a78200c"
   },
   "outputs": [],
   "source": [
    "class NGramLanguageModel():\n",
    "\n",
    "    def __init__(self, n):\n",
    "\n",
    "        self.n = n\n",
    "        self.word_freqs = defaultdict(dict) # 1 to n-1 grams: {dict of possible words: frequency}\n",
    "\n",
    "    def train(self, sentences):\n",
    "\n",
    "        for sentence in tqdm(sentences, desc='Processing Sentences'):\n",
    "\n",
    "            for gram_size in range(2, self.n+1):  # 2 because we need to make key(gram[:-1]) val(gram[-1]) pairs and need at least 2.\n",
    "\n",
    "                ngrams = build_ngrams([sos_token]+sentence+[eos_token], gram_size)  # need to manually append eos_token at the end of sentences\n",
    "\n",
    "                for ngram in ngrams:\n",
    "\n",
    "                    pass  # TO-DO: fill in self.word_freqs dictionary\n",
    "\n",
    "    def generate_sentence(self, starting_state=None, max_length=50):\n",
    "\n",
    "        generated_sentence = []\n",
    "\n",
    "        if starting_state is None:\n",
    "            generated_sentence = [sos_token]\n",
    "        elif isinstance(starting_state, str):\n",
    "            generated_sentence = starting_state.split()\n",
    "\n",
    "        if generated_sentence[0] != sos_token:\n",
    "            generated_sentence = [sos_token]+generated_sentence\n",
    "\n",
    "        max_key_len = self.n-1\n",
    "\n",
    "        if tuple(generated_sentence[-1:]) not in self.word_freqs:  # python automatically takes care of the case if the max_key_len is bigger than total list size\n",
    "            raise ValueError('Invalid starting state')\n",
    "\n",
    "        while len(generated_sentence) <= max_length:\n",
    "\n",
    "            # TO-DO: add next word to generated_sentence based on frequencies computed above\n",
    "            next_word = None\n",
    "            generated_sentence.append(next_word)\n",
    "\n",
    "            if next_word == eos_token:\n",
    "                break\n",
    "\n",
    "        return generated_sentence\n"
   ]
  },
  {
   "cell_type": "code",
   "execution_count": null,
   "id": "37cbd54d-41fa-4ec6-a0eb-a2b80f5b578b",
   "metadata": {
    "id": "37cbd54d-41fa-4ec6-a0eb-a2b80f5b578b"
   },
   "outputs": [],
   "source": [
    "model = NGramLanguageModel(n=5)  # The bigger the value of n, the better (but bigger) the model."
   ]
  },
  {
   "cell_type": "code",
   "execution_count": null,
   "id": "0a3190a0-7b64-4f78-bc89-aa5bc23dbc03",
   "metadata": {
    "id": "0a3190a0-7b64-4f78-bc89-aa5bc23dbc03"
   },
   "outputs": [],
   "source": [
    "model.train(tokenized_data)"
   ]
  },
  {
   "cell_type": "markdown",
   "id": "75a3a25b-a5c3-4179-92e1-76f09696b4fc",
   "metadata": {
    "id": "75a3a25b-a5c3-4179-92e1-76f09696b4fc"
   },
   "source": [
    "Let's see the results:"
   ]
  },
  {
   "cell_type": "code",
   "execution_count": null,
   "id": "31dc3af6-9273-40dd-a7a9-04782611f32f",
   "metadata": {
    "id": "31dc3af6-9273-40dd-a7a9-04782611f32f"
   },
   "outputs": [],
   "source": [
    "# 5 completely random sentences\n",
    "for _ in range(5):\n",
    "    sentence_tokens = model.generate_sentence()\n",
    "    print(' '.join(sentence_tokens))  # skip SOS and EOS tokens\n",
    "    print('-'*20)"
   ]
  },
  {
   "cell_type": "code",
   "execution_count": null,
   "id": "ab9d2c3a-e6fe-4fbe-8beb-1731ca7e1d9b",
   "metadata": {
    "id": "ab9d2c3a-e6fe-4fbe-8beb-1731ca7e1d9b"
   },
   "outputs": [],
   "source": [
    "model.generate_sentence(starting_state='I felt like')"
   ]
  },
  {
   "cell_type": "code",
   "execution_count": null,
   "id": "6ffccc64-fccc-460c-9f40-d327f2b59a2a",
   "metadata": {
    "id": "6ffccc64-fccc-460c-9f40-d327f2b59a2a"
   },
   "outputs": [],
   "source": []
  }
 ],
 "metadata": {
  "colab": {
   "provenance": []
  },
  "kernelspec": {
   "display_name": "Python 3 (ipykernel)",
   "language": "python",
   "name": "python3"
  },
  "language_info": {
   "codemirror_mode": {
    "name": "ipython",
    "version": 3
   },
   "file_extension": ".py",
   "mimetype": "text/x-python",
   "name": "python",
   "nbconvert_exporter": "python",
   "pygments_lexer": "ipython3",
   "version": "3.12.2"
  }
 },
 "nbformat": 4,
 "nbformat_minor": 5
}
