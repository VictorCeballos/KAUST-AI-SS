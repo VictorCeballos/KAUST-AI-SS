{
  "cells": [
    {
      "cell_type": "code",
      "execution_count": 46,
      "metadata": {
        "id": "gfQivLg1DqHQ"
      },
      "outputs": [],
      "source": [
        "import torch\n",
        "import torch.nn as nn\n",
        "import torch.optim as optim\n",
        "import torchvision.transforms as transforms\n",
        "import torchvision.models as models\n",
        "import os\n",
        "import numpy as np\n",
        "import cv2\n",
        "from sklearn.preprocessing import LabelEncoder\n",
        "import matplotlib.pyplot as plt"
      ]
    },
    {
      "cell_type": "code",
      "execution_count": 3,
      "metadata": {
        "colab": {
          "base_uri": "https://localhost:8080/",
          "height": 376
        },
        "id": "HQu_gcEREEsh",
        "outputId": "f70ef3ac-3d9d-4dd7-f303-42bbf647cd81"
      },
      "outputs": [],
      "source": [
        "# Define the file path to your dataset\n",
        "data_dir = './action_youtube'\n",
        "\n",
        "# Define the number of frames to extract from each video\n",
        "num_frames = 15"
      ]
    },
    {
      "cell_type": "code",
      "execution_count": 4,
      "metadata": {
        "id": "sF7oOUHDEFo5"
      },
      "outputs": [],
      "source": [
        "transform = transforms.Compose([\n",
        "    transforms.ToPILImage(),\n",
        "    transforms.Resize((224, 224)),\n",
        "    transforms.ToTensor(),\n",
        "    transforms.Normalize(mean=[0.485, 0.456, 0.406], std=[0.229, 0.224, 0.225])\n",
        "])"
      ]
    },
    {
      "cell_type": "code",
      "execution_count": 49,
      "metadata": {},
      "outputs": [
        {
          "name": "stdout",
          "output_type": "stream",
          "text": [
            "cpu\n"
          ]
        }
      ],
      "source": [
        "device = torch.device(\"cuda\" if torch.cuda.is_available() else \"cpu\")\n",
        "print(device)"
      ]
    },
    {
      "cell_type": "code",
      "execution_count": 50,
      "metadata": {
        "id": "TAH1-wW1EKd5"
      },
      "outputs": [
        {
          "name": "stderr",
          "output_type": "stream",
          "text": [
            "c:\\Users\\Lenovo\\anaconda3\\envs\\week1_cv\\lib\\site-packages\\torchvision\\models\\_utils.py:208: UserWarning: The parameter 'pretrained' is deprecated since 0.13 and may be removed in the future, please use 'weights' instead.\n",
            "  warnings.warn(\n",
            "c:\\Users\\Lenovo\\anaconda3\\envs\\week1_cv\\lib\\site-packages\\torchvision\\models\\_utils.py:223: UserWarning: Arguments other than a weight enum or `None` for 'weights' are deprecated since 0.13 and may be removed in the future. The current behavior is equivalent to passing `weights=ResNet18_Weights.IMAGENET1K_V1`. You can also use `weights=ResNet18_Weights.DEFAULT` to get the most up-to-date weights.\n",
            "  warnings.warn(msg)\n"
          ]
        }
      ],
      "source": [
        "resnet = models.resnet18(pretrained=True).to(device)"
      ]
    },
    {
      "cell_type": "code",
      "execution_count": 51,
      "metadata": {
        "id": "GzkNIx2MESZP"
      },
      "outputs": [],
      "source": [
        "resnet_feat = torch.nn.Sequential(*list(resnet.children())[:-1])"
      ]
    },
    {
      "cell_type": "code",
      "execution_count": 52,
      "metadata": {
        "colab": {
          "base_uri": "https://localhost:8080/",
          "height": 231
        },
        "id": "BWfDYmxLEUMi",
        "outputId": "7c70832d-cef6-4498-eb7c-cbfb8d4d6948"
      },
      "outputs": [
        {
          "name": "stdout",
          "output_type": "stream",
          "text": [
            "./action_youtube_mini\\basketball\n",
            "./action_youtube_mini\\biking\n",
            "./action_youtube_mini\\diving\n",
            "./action_youtube_mini\\golf_swing\n",
            "./action_youtube_mini\\horse_riding\n",
            "./action_youtube_mini\\soccer_juggling\n",
            "./action_youtube_mini\\swing\n",
            "./action_youtube_mini\\tennis_swing\n",
            "./action_youtube_mini\\trampoline_jumping\n",
            "./action_youtube_mini\\volleyball_spiking\n",
            "./action_youtube_mini\\walking\n"
          ]
        }
      ],
      "source": [
        "# Create an empty list to store the features and labels\n",
        "samples = []\n",
        "\n",
        "resnet.eval()\n",
        "# Loop over the videos in the dataset folder\n",
        "for label in os.listdir(data_dir):\n",
        "    label_dir = os.path.join(data_dir, label)\n",
        "    print(label_dir)\n",
        "    for sub_dir in os.listdir(label_dir):\n",
        "        if sub_dir == 'Annotation':\n",
        "            continue\n",
        "        video_dir = os.path.join(label_dir, sub_dir)\n",
        "        for video_file in os.listdir(video_dir):\n",
        "            video_path = os.path.join(video_dir, video_file)\n",
        "            cap = cv2.VideoCapture(video_path)\n",
        "            frame_count = 0\n",
        "            frames = []\n",
        "            while True:\n",
        "                ret, frame = cap.read()\n",
        "                if ret:\n",
        "                    frame_count += 1\n",
        "                    frame = cv2.cvtColor(frame, cv2.COLOR_BGR2RGB)\n",
        "                    frame = transform(frame).to(device)\n",
        "                    frames.append(frame)\n",
        "                    if frame_count == num_frames:\n",
        "                        break\n",
        "                else:\n",
        "                    break\n",
        "            cap.release()\n",
        "            if len(frames) == num_frames:\n",
        "                # Stack the frames into a tensor of shape (num_frames, 3, 224, 224)\n",
        "                frames_tensor = torch.stack(frames, dim=0)\n",
        "                # Extract the features using the pre-trained ResNet50 model\n",
        "                with torch.no_grad():\n",
        "                    features_tensor = resnet_feat(frames_tensor)\n",
        "                    # print(features_tensor.shape)\n",
        "                # Flatten the features tensor\n",
        "                features_tensor = torch.flatten(features_tensor, start_dim=1)\n",
        "                # Convert the features tensor to a numpy array\n",
        "                features = features_tensor.cpu().numpy()\n",
        "                # Append the features and label to the samples list\n",
        "                samples.append((features, label))\n",
        "\n",
        "# Shuffle the samples list\n",
        "np.random.shuffle(samples)"
      ]
    },
    {
      "cell_type": "code",
      "execution_count": 53,
      "metadata": {
        "id": "EdgMLHjJEshl"
      },
      "outputs": [],
      "source": [
        "# Split the samples into training and testing sets\n",
        "split_idx = int(0.8 * len(samples))\n",
        "train_samples = samples[:split_idx]\n",
        "test_samples = samples[split_idx:]"
      ]
    },
    {
      "cell_type": "code",
      "execution_count": 54,
      "metadata": {
        "id": "6KYoxywrE5_z"
      },
      "outputs": [],
      "source": [
        "# Separate the features and labels into separate arrays for training and testing sets\n",
        "train_features, train_labels = zip(*train_samples)\n",
        "test_features, test_labels = zip(*test_samples)"
      ]
    },
    {
      "cell_type": "code",
      "execution_count": 55,
      "metadata": {
        "id": "2fHCMnr9E8qa"
      },
      "outputs": [],
      "source": [
        "# Convert the labels to numerical labels using a LabelEncoder\n",
        "le = LabelEncoder()\n",
        "train_numerical_labels = le.fit_transform(train_labels)\n",
        "test_numerical_labels = le.fit_transform(test_labels)\n",
        "# Convert the features and labels arrays to numpy arrays\n",
        "# Convert the features and labels arrays to numpy arrays\n",
        "train_features = np.array(train_features)\n",
        "train_labels = train_numerical_labels\n",
        "test_features = np.array(test_features)\n",
        "test_labels = test_numerical_labels"
      ]
    },
    {
      "cell_type": "code",
      "execution_count": 56,
      "metadata": {
        "id": "F_Nm18pfE_8p"
      },
      "outputs": [
        {
          "name": "stdout",
          "output_type": "stream",
          "text": [
            "Train Features shape: (1319, 15, 512)\n",
            "Train Labels shape: (1319,)\n",
            "Test Features shape: (330, 15, 512)\n",
            "Test Labels shape: (330,)\n"
          ]
        }
      ],
      "source": [
        "# Print the shapes of the features and labels arrays\n",
        "print(\"Train Features shape:\", train_features.shape)\n",
        "print(\"Train Labels shape:\", train_labels.shape)\n",
        "print(\"Test Features shape:\", test_features.shape)\n",
        "print(\"Test Labels shape:\", test_labels.shape)"
      ]
    },
    {
      "cell_type": "code",
      "execution_count": 57,
      "metadata": {
        "id": "8MLUWBeDFBdi"
      },
      "outputs": [],
      "source": [
        "# Save the features and labels to numpy arrays\n",
        "np.save('train_features.npy', train_features)\n",
        "np.save('train_labels.npy', train_labels)\n",
        "np.save('test_features.npy', test_features)\n",
        "np.save('test_labels.npy', test_labels)"
      ]
    },
    {
      "cell_type": "code",
      "execution_count": 58,
      "metadata": {
        "id": "ZStJVdi6Ffda"
      },
      "outputs": [],
      "source": [
        "# Define the LSTM model\n",
        "class LSTMClassifier(nn.Module):\n",
        "    def __init__(self, input_size, hidden_size, num_classes):\n",
        "        super().__init__()\n",
        "        self.hidden_size = hidden_size\n",
        "        self.lstm = nn.LSTM(input_size, hidden_size, batch_first=True)\n",
        "        self.fc = nn.Linear(hidden_size, num_classes)\n",
        "\n",
        "    def forward(self, x):\n",
        "        # Initialize hidden state and cell state with zeros\n",
        "        h0 = torch.zeros(1, x.size(0), self.hidden_size).to(x.device)\n",
        "        c0 = torch.zeros(1, x.size(0), self.hidden_size).to(x.device)\n",
        "        # Forward propagate LSTM\n",
        "        out, _ = self.lstm(x, (h0, c0))\n",
        "        # Decode the hidden state of the last time step\n",
        "        out = self.fc(out[:, -1, :])\n",
        "        out = nn.functional.softmax(out, dim=1)\n",
        "        return out"
      ]
    },
    {
      "cell_type": "code",
      "execution_count": 59,
      "metadata": {
        "id": "Rt7HvQc-HKTJ"
      },
      "outputs": [],
      "source": [
        "class MultiLayerBiLSTMClassifier(nn.Module):\n",
        "    def __init__(self, input_size, hidden_size, num_layers, num_classes):\n",
        "        super().__init__()\n",
        "        self.hidden_size = hidden_size\n",
        "        self.num_layers = num_layers\n",
        "        self.lstm = nn.LSTM(input_size, hidden_size, num_layers=num_layers, batch_first=True, bidirectional=True)\n",
        "        self.fc = nn.Linear(hidden_size*2, num_classes) # *2 to account for bidirectional LSTM\n",
        "\n",
        "    def forward(self, x):\n",
        "        # Initialize hidden state and cell state with zeros\n",
        "        h0 = torch.zeros(2*self.num_layers, x.size(0), self.hidden_size).to(x.device) # *2 to account for bidirectional LSTM\n",
        "        c0 = torch.zeros(2*self.num_layers, x.size(0), self.hidden_size).to(x.device) # *2 to account for bidirectional LSTM\n",
        "        # Forward propagate bidirectional LSTM\n",
        "        out, _ = self.lstm(x, (h0, c0))\n",
        "        # Decode the hidden state of the last time step\n",
        "        out = self.fc(out[:, -1, :])\n",
        "        out = nn.functional.softmax(out, dim=1)\n",
        "        return out"
      ]
    },
    {
      "cell_type": "code",
      "execution_count": 60,
      "metadata": {
        "id": "GQCy_xemHPO8"
      },
      "outputs": [],
      "source": [
        "# Load the features and labels from numpy arrays\n",
        "train_features = torch.from_numpy(np.load('train_features.npy')).float()\n",
        "train_labels = torch.from_numpy(np.load('train_labels.npy'))#.long()\n",
        "idx = np.random.permutation(len(train_features))\n",
        "train_features, train_labels = train_features[idx], train_labels[idx]\n",
        "\n",
        "test_features = torch.from_numpy(np.load('test_features.npy')).float()\n",
        "test_labels = torch.from_numpy(np.load('test_labels.npy'))#.long()"
      ]
    },
    {
      "cell_type": "code",
      "execution_count": 61,
      "metadata": {},
      "outputs": [],
      "source": [
        "# Define the LSTM parameters\n",
        "input_size = train_features.shape[-1]\n",
        "hidden_size = 128\n",
        "num_classes = len(np.unique(train_labels))\n",
        "num_frames = 15"
      ]
    },
    {
      "cell_type": "code",
      "execution_count": 71,
      "metadata": {
        "id": "apriDhFeHYC5"
      },
      "outputs": [],
      "source": [
        "# Define the training parameters\n",
        "lr = 0.0001\n",
        "num_epochs = 10\n",
        "train_losses = []\n",
        "train_accuracies = []\n",
        "test_losses = []\n",
        "test_accuracies = []"
      ]
    },
    {
      "cell_type": "code",
      "execution_count": 72,
      "metadata": {},
      "outputs": [],
      "source": [
        "# Instantiate the LSTM model\n",
        "model = LSTMClassifier(input_size, hidden_size, num_classes).to(device)\n",
        "model = MultiLayerBiLSTMClassifier(input_size, hidden_size, 2, num_classes).to(device)"
      ]
    },
    {
      "cell_type": "code",
      "execution_count": 73,
      "metadata": {
        "id": "2BXYeDngHUb8"
      },
      "outputs": [],
      "source": [
        "# Define the loss function and optimizer\n",
        "criterion = nn.CrossEntropyLoss()\n",
        "optimizer = optim.Adam(model.parameters(), lr=lr)"
      ]
    },
    {
      "cell_type": "code",
      "execution_count": 74,
      "metadata": {
        "id": "SrK8dglQHVa0"
      },
      "outputs": [
        {
          "name": "stdout",
          "output_type": "stream",
          "text": [
            "Train Loss: 2.3950, Train Accuracy: 14.77%  Test Loss: 2.3930, Test Accuracy: 22.73%\n",
            "Train Loss: 2.3637, Train Accuracy: 34.09%  Test Loss: 2.3663, Test Accuracy: 31.82%\n",
            "Train Loss: 2.2290, Train Accuracy: 61.36%  Test Loss: 2.2884, Test Accuracy: 36.36%\n",
            "Train Loss: 2.0573, Train Accuracy: 70.45%  Test Loss: 2.2247, Test Accuracy: 36.36%\n",
            "Train Loss: 1.9192, Train Accuracy: 78.41%  Test Loss: 2.1711, Test Accuracy: 45.45%\n",
            "Train Loss: 1.8179, Train Accuracy: 85.23%  Test Loss: 2.1466, Test Accuracy: 50.00%\n",
            "Train Loss: 1.7500, Train Accuracy: 90.91%  Test Loss: 2.1111, Test Accuracy: 54.55%\n",
            "Train Loss: 1.6902, Train Accuracy: 93.18%  Test Loss: 2.1029, Test Accuracy: 54.55%\n",
            "Train Loss: 1.6478, Train Accuracy: 96.59%  Test Loss: 2.0701, Test Accuracy: 59.09%\n",
            "Train Loss: 1.6183, Train Accuracy: 97.73%  Test Loss: 2.0453, Test Accuracy: 54.55%\n"
          ]
        }
      ],
      "source": [
        "# Train the LSTM model\n",
        "for epoch in range(num_epochs):\n",
        "    # Training\n",
        "    model.train()\n",
        "    train_loss = 0.0\n",
        "    train_total = 0\n",
        "    train_correct = 0\n",
        "    for i in range(0, len(train_features), num_frames):\n",
        "        # Get a batch of 15 frames features and labels\n",
        "        batch_features = train_features[i].to(device)\n",
        "        batch_labels = train_labels[i].to(device)\n",
        "        # Zero the parameter gradients\n",
        "        optimizer.zero_grad()\n",
        "        # Forward + backward + optimize\n",
        "        outputs = model(batch_features.unsqueeze(0))\n",
        "        loss = criterion(outputs, batch_labels.unsqueeze(0))\n",
        "        loss.backward()\n",
        "        optimizer.step()\n",
        "        # Accumulate training loss and accuracy\n",
        "        train_loss += loss.item()\n",
        "        _, predicted = torch.max(outputs, 1)\n",
        "        train_total += 1\n",
        "        train_correct += (predicted == batch_labels).sum().item()\n",
        "    train_loss /= train_total\n",
        "    train_accuracy = 100 * train_correct / train_total\n",
        "    train_losses.append(train_loss)\n",
        "    train_accuracies.append(train_accuracy)\n",
        "\n",
        "    # Testing\n",
        "    model.eval()\n",
        "    test_loss = 0.0\n",
        "    test_total = 0\n",
        "    test_correct = 0\n",
        "    with torch.no_grad():\n",
        "        for i in range(0, len(test_features), num_frames):\n",
        "            # Get a batch of 15 frames features and labels\n",
        "            batch_features = test_features[i].to(device)\n",
        "            batch_labels = test_labels[i].to(device)\n",
        "            # Forward\n",
        "            outputs = model(batch_features.unsqueeze(0))\n",
        "            loss = criterion(outputs, batch_labels.unsqueeze(0))\n",
        "            # Accumulate testing loss and accuracy\n",
        "            test_loss += loss.item()\n",
        "            _, predicted = torch.max(outputs, 1)\n",
        "            test_total += 1\n",
        "            if predicted == batch_labels:\n",
        "                test_correct += 1\n",
        "            # Calculate testing accuracy\n",
        "        test_accuracy = test_correct / test_total\n",
        "        test_loss /= test_total\n",
        "        test_accuracy = 100* test_correct / test_total\n",
        "        test_losses.append(test_loss)\n",
        "        test_accuracies.append(test_accuracy)\n",
        "        # Print testing loss and accuracy\n",
        "        print('Train Loss: {:.4f}, Train Accuracy: {:.2f}%  Test Loss: {:.4f}, Test Accuracy: {:.2f}%'.format( train_loss, train_accuracy, test_loss, test_accuracy))\n"
      ]
    },
    {
      "cell_type": "code",
      "execution_count": 75,
      "metadata": {
        "id": "7F8BQjtsHoLr"
      },
      "outputs": [
        {
          "data": {
            "image/png": "[encoded data removed]",
            "text/plain": [
              "<Figure size 1000x500 with 2 Axes>"
            ]
          },
          "metadata": {},
          "output_type": "display_data"
        }
      ],
      "source": [
        "# Plot training and testing losses and accuracies\n",
        "plt.figure(figsize=(10, 5))\n",
        "plt.subplot(1, 2, 1)\n",
        "plt.plot(train_losses, label='Training Loss')\n",
        "plt.plot(test_losses, label='Testing Loss')\n",
        "plt.xlabel('Epoch')\n",
        "plt.ylabel('Loss')\n",
        "plt.legend()\n",
        "plt.subplot(1, 2, 2)\n",
        "plt.plot(train_accuracies, label='Training Accuracy')\n",
        "plt.plot(test_accuracies, label='Testing Accuracy')\n",
        "plt.xlabel('Epoch')\n",
        "plt.ylabel('Accuracy')\n",
        "plt.legend()\n",
        "plt.show()"
      ]
    },
    {
      "cell_type": "code",
      "execution_count": null,
      "metadata": {},
      "outputs": [],
      "source": []
    }
  ],
  "metadata": {
    "colab": {
      "provenance": []
    },
    "kernelspec": {
      "display_name": "Python 3",
      "name": "python3"
    },
    "language_info": {
      "codemirror_mode": {
        "name": "ipython",
        "version": 3
      },
      "file_extension": ".py",
      "mimetype": "text/x-python",
      "name": "python",
      "nbconvert_exporter": "python",
      "pygments_lexer": "ipython3",
      "version": "3.10.0"
    }
  },
  "nbformat": 4,
  "nbformat_minor": 0
}
