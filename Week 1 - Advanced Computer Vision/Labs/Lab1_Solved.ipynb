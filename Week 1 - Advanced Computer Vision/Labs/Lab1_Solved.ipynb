{
  "cells": [
    {
      "cell_type": "code",
      "execution_count": 1,
      "metadata": {
        "id": "gfQivLg1DqHQ"
      },
      "outputs": [],
      "source": [
        "# Importing the required libraries\n",
        "\n",
        "import torch\n",
        "import torch.nn as nn\n",
        "import torch.optim as optim\n",
        "import torchvision.transforms as transforms\n",
        "import torchvision.models as models\n",
        "import os\n",
        "import numpy as np\n",
        "import cv2\n",
        "from sklearn.preprocessing import LabelEncoder\n",
        "import matplotlib.pyplot as plt\n",
        "import requests, zipfile, os"
      ]
    },
    {
      "cell_type": "code",
      "execution_count": 2,
      "metadata": {
        "id": "DeuXulnprp18"
      },
      "outputs": [],
      "source": [
        "dataset_url = \"https://www.crcv.ucf.edu/data/YouTube_DataSet_Annotated.zip\"\n",
        "zip_file_path = \"YouTube_DataSet_Annotated.zip\"\n",
        "extract_dir = \"YouTube_DataSet_Annotated\""
      ]
    },
    {
      "cell_type": "code",
      "execution_count": 3,
      "metadata": {
        "colab": {
          "base_uri": "https://localhost:8080/"
        },
        "id": "jOB9yCM7rp1-",
        "outputId": "4854db73-d151-4c82-ce86-8a5429adfe3f"
      },
      "outputs": [
        {
          "name": "stderr",
          "output_type": "stream",
          "text": [
            "/usr/local/lib/python3.10/dist-packages/urllib3/connectionpool.py:1100: InsecureRequestWarning: Unverified HTTPS request is being made to host 'www.crcv.ucf.edu'. Adding certificate verification is strongly advised. See: https://urllib3.readthedocs.io/en/latest/advanced-usage.html#tls-warnings\n",
            "  warnings.warn(\n"
          ]
        },
        {
          "name": "stdout",
          "output_type": "stream",
          "text": [
            "Download and extraction completed!\n"
          ]
        }
      ],
      "source": [
        "# Download dataset\n",
        "with open(zip_file_path, 'wb') as f:\n",
        "    f.write(requests.get(dataset_url, verify=False).content)\n",
        "\n",
        "# Extract contents\n",
        "with zipfile.ZipFile(zip_file_path, 'r') as zip_ref:\n",
        "    zip_ref.extractall(extract_dir)\n",
        "\n",
        "os.remove(zip_file_path)  # Remove zip file\n",
        "print(\"Download and extraction completed!\")"
      ]
    },
    {
      "cell_type": "code",
      "execution_count": 49,
      "metadata": {
        "id": "DXoruUBGspjA"
      },
      "outputs": [],
      "source": [
        "data_dir = \"YouTube_DataSet_Annotated/action_youtube_naudio\"\n",
        "\n",
        "if os.path.exists(data_dir + '/readme.txt'):\n",
        "    os.remove(os.path.join(data_dir, 'readme.txt'))"
      ]
    },
    {
      "cell_type": "code",
      "execution_count": 28,
      "metadata": {
        "id": "HQu_gcEREEsh"
      },
      "outputs": [],
      "source": [
        "# Define the number of frames to extract from each video\n",
        "num_frames = 15"
      ]
    },
    {
      "cell_type": "code",
      "execution_count": 29,
      "metadata": {
        "id": "sF7oOUHDEFo5"
      },
      "outputs": [],
      "source": [
        "transform = transforms.Compose([\n",
        "    transforms.ToPILImage(),\n",
        "    transforms.Resize((224, 224)),\n",
        "    transforms.ToTensor(),\n",
        "    transforms.Normalize(mean=[0.485, 0.456, 0.406], std=[0.229, 0.224, 0.225])\n",
        "])"
      ]
    },
    {
      "cell_type": "code",
      "execution_count": 30,
      "metadata": {
        "colab": {
          "base_uri": "https://localhost:8080/"
        },
        "id": "-FXvc-zfrp2A",
        "outputId": "9ae32c1b-ee08-42a0-f146-ef2d9a729667"
      },
      "outputs": [
        {
          "name": "stdout",
          "output_type": "stream",
          "text": [
            "cuda\n"
          ]
        }
      ],
      "source": [
        "device = torch.device(\"cuda\" if torch.cuda.is_available() else \"cpu\")\n",
        "print(device)"
      ]
    },
    {
      "cell_type": "code",
      "execution_count": 32,
      "metadata": {
        "id": "GzkNIx2MESZP"
      },
      "outputs": [],
      "source": [
        "resnet = models.resnet18(pretrained=True).to(device)\n",
        "\n",
        "resnet_feat = torch.nn.Sequential(*list(resnet.children())[:-1])"
      ]
    },
    {
      "cell_type": "code",
      "execution_count": 33,
      "metadata": {
        "colab": {
          "base_uri": "https://localhost:8080/"
        },
        "id": "BWfDYmxLEUMi",
        "outputId": "870aeb89-7703-407c-effb-e393d668783a"
      },
      "outputs": [
        {
          "name": "stdout",
          "output_type": "stream",
          "text": [
            "YouTube_DataSet_Annotated/action_youtube_naudio/soccer_juggling\n",
            "YouTube_DataSet_Annotated/action_youtube_naudio/trampoline_jumping\n",
            "YouTube_DataSet_Annotated/action_youtube_naudio/basketball\n",
            "YouTube_DataSet_Annotated/action_youtube_naudio/tennis_swing\n",
            "YouTube_DataSet_Annotated/action_youtube_naudio/walking\n",
            "YouTube_DataSet_Annotated/action_youtube_naudio/golf_swing\n",
            "YouTube_DataSet_Annotated/action_youtube_naudio/volleyball_spiking\n",
            "YouTube_DataSet_Annotated/action_youtube_naudio/biking\n",
            "YouTube_DataSet_Annotated/action_youtube_naudio/diving\n",
            "YouTube_DataSet_Annotated/action_youtube_naudio/swing\n",
            "YouTube_DataSet_Annotated/action_youtube_naudio/horse_riding\n"
          ]
        }
      ],
      "source": [
        "# Create an empty list to store the features and labels\n",
        "samples = []\n",
        "\n",
        "resnet.eval()\n",
        "# Loop over the videos in the dataset folder\n",
        "for label in os.listdir(data_dir):\n",
        "    label_dir = os.path.join(data_dir, label)\n",
        "    print(label_dir)\n",
        "    for sub_dir in os.listdir(label_dir):\n",
        "        if sub_dir == 'Annotation':\n",
        "            continue\n",
        "        video_dir = os.path.join(label_dir, sub_dir)\n",
        "        for video_file in os.listdir(video_dir):\n",
        "            video_path = os.path.join(video_dir, video_file)\n",
        "            cap = cv2.VideoCapture(video_path)\n",
        "            frame_count = 0\n",
        "            frames = []\n",
        "            while True:\n",
        "                ret, frame = cap.read()\n",
        "                if ret:\n",
        "                    frame_count += 1\n",
        "                    frame = cv2.cvtColor(frame, cv2.COLOR_BGR2RGB)\n",
        "                    frame = transform(frame).to(device)\n",
        "                    frames.append(frame)\n",
        "                    if frame_count == num_frames:\n",
        "                        break\n",
        "                else:\n",
        "                    break\n",
        "            cap.release()\n",
        "            if len(frames) == num_frames:\n",
        "                # Stack the frames into a tensor of shape (num_frames, 3, 224, 224)\n",
        "                frames_tensor = torch.stack(frames, dim=0)\n",
        "                # Extract the features using the pre-trained ResNet50 model\n",
        "                with torch.no_grad():\n",
        "                    features_tensor = resnet_feat(frames_tensor)\n",
        "                    # print(features_tensor.shape)\n",
        "                # Flatten the features tensor\n",
        "                features_tensor = torch.flatten(features_tensor, start_dim=1)\n",
        "                # Convert the features tensor to a numpy array\n",
        "                features = features_tensor.cpu().numpy()\n",
        "                # Append the features and label to the samples list\n",
        "                samples.append((features, label))\n",
        "\n",
        "# Shuffle the samples list\n",
        "np.random.shuffle(samples)"
      ]
    },
    {
      "cell_type": "code",
      "execution_count": 34,
      "metadata": {
        "id": "EdgMLHjJEshl"
      },
      "outputs": [],
      "source": [
        "# Split the samples into training and testing sets\n",
        "split_idx = int(0.8 * len(samples))\n",
        "train_samples = samples[:split_idx]\n",
        "test_samples = samples[split_idx:]"
      ]
    },
    {
      "cell_type": "code",
      "execution_count": 35,
      "metadata": {
        "id": "6KYoxywrE5_z"
      },
      "outputs": [],
      "source": [
        "# Separate the features and labels into separate arrays for training and testing sets\n",
        "train_features, train_labels = zip(*train_samples)\n",
        "test_features, test_labels = zip(*test_samples)"
      ]
    },
    {
      "cell_type": "code",
      "execution_count": 36,
      "metadata": {
        "id": "2fHCMnr9E8qa"
      },
      "outputs": [],
      "source": [
        "# Convert the labels to numerical labels using a LabelEncoder\n",
        "le = LabelEncoder()\n",
        "train_numerical_labels = le.fit_transform(train_labels)\n",
        "test_numerical_labels = le.fit_transform(test_labels)\n",
        "# Convert the features and labels arrays to numpy arrays\n",
        "# Convert the features and labels arrays to numpy arrays\n",
        "train_features = np.array(train_features)\n",
        "train_labels = train_numerical_labels\n",
        "test_features = np.array(test_features)\n",
        "test_labels = test_numerical_labels"
      ]
    },
    {
      "cell_type": "code",
      "execution_count": 37,
      "metadata": {
        "colab": {
          "base_uri": "https://localhost:8080/"
        },
        "id": "F_Nm18pfE_8p",
        "outputId": "bdbb078f-d444-4cc7-dfed-458b3ef12efd"
      },
      "outputs": [
        {
          "name": "stdout",
          "output_type": "stream",
          "text": [
            "Train Features shape: (1319, 15, 512)\n",
            "Train Labels shape: (1319,)\n",
            "Test Features shape: (330, 15, 512)\n",
            "Test Labels shape: (330,)\n"
          ]
        }
      ],
      "source": [
        "# Print the shapes of the features and labels arrays\n",
        "print(\"Train Features shape:\", train_features.shape)\n",
        "print(\"Train Labels shape:\", train_labels.shape)\n",
        "print(\"Test Features shape:\", test_features.shape)\n",
        "print(\"Test Labels shape:\", test_labels.shape)"
      ]
    },
    {
      "cell_type": "code",
      "execution_count": 38,
      "metadata": {
        "id": "8MLUWBeDFBdi"
      },
      "outputs": [],
      "source": [
        "# Save the features and labels to numpy arrays\n",
        "np.save('train_features.npy', train_features)\n",
        "np.save('train_labels.npy', train_labels)\n",
        "np.save('test_features.npy', test_features)\n",
        "np.save('test_labels.npy', test_labels)"
      ]
    },
    {
      "cell_type": "code",
      "execution_count": 39,
      "metadata": {
        "id": "ZStJVdi6Ffda"
      },
      "outputs": [],
      "source": [
        "# Define the LSTM model\n",
        "class LSTMClassifier(nn.Module):\n",
        "    def __init__(self, input_size, hidden_size, num_classes):\n",
        "        super().__init__()\n",
        "        self.hidden_size = hidden_size\n",
        "        self.lstm = nn.LSTM(input_size, hidden_size, batch_first=True)\n",
        "        self.fc = nn.Linear(hidden_size, num_classes)\n",
        "\n",
        "    def forward(self, x):\n",
        "        # Initialize hidden state and cell state with zeros\n",
        "        h0 = torch.zeros(1, x.size(0), self.hidden_size).to(x.device)\n",
        "        c0 = torch.zeros(1, x.size(0), self.hidden_size).to(x.device)\n",
        "        # Forward propagate LSTM\n",
        "        out, _ = self.lstm(x, (h0, c0))\n",
        "        # Decode the hidden state of the last time step\n",
        "        out = self.fc(out[:, -1, :])\n",
        "        out = nn.functional.softmax(out, dim=1)\n",
        "        return out"
      ]
    },
    {
      "cell_type": "code",
      "execution_count": 40,
      "metadata": {
        "id": "Rt7HvQc-HKTJ"
      },
      "outputs": [],
      "source": [
        "class MultiLayerBiLSTMClassifier(nn.Module):\n",
        "    def __init__(self, input_size, hidden_size, num_layers, num_classes):\n",
        "        super().__init__()\n",
        "        self.hidden_size = hidden_size\n",
        "        self.num_layers = num_layers\n",
        "        self.lstm = nn.LSTM(input_size, hidden_size, num_layers=num_layers, batch_first=True, bidirectional=True)\n",
        "        self.fc = nn.Linear(hidden_size*2, num_classes) # *2 to account for bidirectional LSTM\n",
        "\n",
        "    def forward(self, x):\n",
        "        # Initialize hidden state and cell state with zeros\n",
        "        h0 = torch.zeros(2*self.num_layers, x.size(0), self.hidden_size).to(x.device) # *2 to account for bidirectional LSTM\n",
        "        c0 = torch.zeros(2*self.num_layers, x.size(0), self.hidden_size).to(x.device) # *2 to account for bidirectional LSTM\n",
        "        # Forward propagate bidirectional LSTM\n",
        "        out, _ = self.lstm(x, (h0, c0))\n",
        "        # Decode the hidden state of the last time step\n",
        "        out = self.fc(out[:, -1, :])\n",
        "        out = nn.functional.softmax(out, dim=1)\n",
        "        return out"
      ]
    },
    {
      "cell_type": "code",
      "execution_count": 41,
      "metadata": {
        "id": "GQCy_xemHPO8"
      },
      "outputs": [],
      "source": [
        "# Load the features and labels from numpy arrays\n",
        "train_features = torch.from_numpy(np.load('train_features.npy')).float()\n",
        "train_labels = torch.from_numpy(np.load('train_labels.npy'))#.long()\n",
        "idx = np.random.permutation(len(train_features))\n",
        "train_features, train_labels = train_features[idx], train_labels[idx]\n",
        "\n",
        "test_features = torch.from_numpy(np.load('test_features.npy')).float()\n",
        "test_labels = torch.from_numpy(np.load('test_labels.npy'))#.long()"
      ]
    },
    {
      "cell_type": "code",
      "execution_count": 42,
      "metadata": {
        "id": "iQ3qJDVIrp2G"
      },
      "outputs": [],
      "source": [
        "# Define the LSTM parameters\n",
        "input_size = train_features.shape[-1]\n",
        "hidden_size = 128\n",
        "num_classes = len(np.unique(train_labels))\n",
        "num_frames = 15"
      ]
    },
    {
      "cell_type": "code",
      "execution_count": 43,
      "metadata": {
        "id": "apriDhFeHYC5"
      },
      "outputs": [],
      "source": [
        "# Define the training parameters\n",
        "lr = 0.0001\n",
        "num_epochs = 10\n",
        "train_losses = []\n",
        "train_accuracies = []\n",
        "test_losses = []\n",
        "test_accuracies = []"
      ]
    },
    {
      "cell_type": "code",
      "execution_count": 44,
      "metadata": {
        "id": "9ERHef_drp2H"
      },
      "outputs": [],
      "source": [
        "# Instantiate the LSTM model\n",
        "model = LSTMClassifier(input_size, hidden_size, num_classes).to(device)\n",
        "model = MultiLayerBiLSTMClassifier(input_size, hidden_size, 2, num_classes).to(device)"
      ]
    },
    {
      "cell_type": "code",
      "execution_count": 45,
      "metadata": {
        "id": "2BXYeDngHUb8"
      },
      "outputs": [],
      "source": [
        "# Define the loss function and optimizer\n",
        "criterion = nn.CrossEntropyLoss()\n",
        "optimizer = optim.Adam(model.parameters(), lr=lr)"
      ]
    },
    {
      "cell_type": "code",
      "execution_count": 46,
      "metadata": {
        "colab": {
          "base_uri": "https://localhost:8080/"
        },
        "id": "SrK8dglQHVa0",
        "outputId": "35fb019b-0fda-4667-82d1-ad720381eb78"
      },
      "outputs": [
        {
          "name": "stdout",
          "output_type": "stream",
          "text": [
            "Train Loss: 2.3959, Train Accuracy: 13.64%  Test Loss: 2.3902, Test Accuracy: 18.18%\n",
            "Train Loss: 2.3723, Train Accuracy: 35.23%  Test Loss: 2.3587, Test Accuracy: 36.36%\n",
            "Train Loss: 2.2912, Train Accuracy: 60.23%  Test Loss: 2.2512, Test Accuracy: 68.18%\n",
            "Train Loss: 2.1299, Train Accuracy: 78.41%  Test Loss: 2.1139, Test Accuracy: 72.73%\n",
            "Train Loss: 1.9507, Train Accuracy: 87.50%  Test Loss: 2.0148, Test Accuracy: 86.36%\n",
            "Train Loss: 1.8007, Train Accuracy: 97.73%  Test Loss: 1.9192, Test Accuracy: 86.36%\n",
            "Train Loss: 1.6971, Train Accuracy: 98.86%  Test Loss: 1.8647, Test Accuracy: 90.91%\n",
            "Train Loss: 1.6333, Train Accuracy: 98.86%  Test Loss: 1.8215, Test Accuracy: 90.91%\n",
            "Train Loss: 1.5990, Train Accuracy: 100.00%  Test Loss: 1.8098, Test Accuracy: 90.91%\n",
            "Train Loss: 1.5801, Train Accuracy: 100.00%  Test Loss: 1.7916, Test Accuracy: 90.91%\n"
          ]
        }
      ],
      "source": [
        "# Train the LSTM model\n",
        "for epoch in range(num_epochs):\n",
        "    # Training\n",
        "    model.train()\n",
        "    train_loss = 0.0\n",
        "    train_total = 0\n",
        "    train_correct = 0\n",
        "    for i in range(0, len(train_features), num_frames):\n",
        "        # Get a batch of 15 frames features and labels\n",
        "        batch_features = train_features[i].to(device)\n",
        "        batch_labels = train_labels[i].to(device)\n",
        "        # Zero the parameter gradients\n",
        "        optimizer.zero_grad()\n",
        "        # Forward + backward + optimize\n",
        "        outputs = model(batch_features.unsqueeze(0))\n",
        "        loss = criterion(outputs, batch_labels.unsqueeze(0))\n",
        "        loss.backward()\n",
        "        optimizer.step()\n",
        "        # Accumulate training loss and accuracy\n",
        "        train_loss += loss.item()\n",
        "        _, predicted = torch.max(outputs, 1)\n",
        "        train_total += 1\n",
        "        train_correct += (predicted == batch_labels).sum().item()\n",
        "    train_loss /= train_total\n",
        "    train_accuracy = 100 * train_correct / train_total\n",
        "    train_losses.append(train_loss)\n",
        "    train_accuracies.append(train_accuracy)\n",
        "\n",
        "    # Testing\n",
        "    model.eval()\n",
        "    test_loss = 0.0\n",
        "    test_total = 0\n",
        "    test_correct = 0\n",
        "    with torch.no_grad():\n",
        "        for i in range(0, len(test_features), num_frames):\n",
        "            # Get a batch of 15 frames features and labels\n",
        "            batch_features = test_features[i].to(device)\n",
        "            batch_labels = test_labels[i].to(device)\n",
        "            # Forward\n",
        "            outputs = model(batch_features.unsqueeze(0))\n",
        "            loss = criterion(outputs, batch_labels.unsqueeze(0))\n",
        "            # Accumulate testing loss and accuracy\n",
        "            test_loss += loss.item()\n",
        "            _, predicted = torch.max(outputs, 1)\n",
        "            test_total += 1\n",
        "            if predicted == batch_labels:\n",
        "                test_correct += 1\n",
        "            # Calculate testing accuracy\n",
        "        test_accuracy = test_correct / test_total\n",
        "        test_loss /= test_total\n",
        "        test_accuracy = 100* test_correct / test_total\n",
        "        test_losses.append(test_loss)\n",
        "        test_accuracies.append(test_accuracy)\n",
        "        # Print testing loss and accuracy\n",
        "        print('Train Loss: {:.4f}, Train Accuracy: {:.2f}%  Test Loss: {:.4f}, Test Accuracy: {:.2f}%'.format( train_loss, train_accuracy, test_loss, test_accuracy))\n"
      ]
    },
    {
      "cell_type": "code",
      "execution_count": 47,
      "metadata": {
        "colab": {
          "base_uri": "https://localhost:8080/",
          "height": 485
        },
        "id": "7F8BQjtsHoLr",
        "outputId": "59d36c1e-8286-499e-b2c9-8daa1add1ba4"
      },
      "outputs": [
        {
          "data": {
            "image/png": "[encoded data removed]",
            "text/plain": [
              "<Figure size 1000x500 with 2 Axes>"
            ]
          },
          "metadata": {},
          "output_type": "display_data"
        }
      ],
      "source": [
        "# Plot training and testing losses and accuracies\n",
        "plt.figure(figsize=(10, 5))\n",
        "plt.subplot(1, 2, 1)\n",
        "plt.plot(train_losses, label='Training Loss')\n",
        "plt.plot(test_losses, label='Testing Loss')\n",
        "plt.xlabel('Epoch')\n",
        "plt.ylabel('Loss')\n",
        "plt.legend()\n",
        "plt.subplot(1, 2, 2)\n",
        "plt.plot(train_accuracies, label='Training Accuracy')\n",
        "plt.plot(test_accuracies, label='Testing Accuracy')\n",
        "plt.xlabel('Epoch')\n",
        "plt.ylabel('Accuracy')\n",
        "plt.legend()\n",
        "plt.show()"
      ]
    },
    {
      "cell_type": "code",
      "execution_count": null,
      "metadata": {
        "id": "3tH5HOg9rp2I"
      },
      "outputs": [],
      "source": []
    }
  ],
  "metadata": {
    "accelerator": "GPU",
    "colab": {
      "gpuType": "T4",
      "provenance": []
    },
    "kernelspec": {
      "display_name": "Python 3",
      "name": "python3"
    },
    "language_info": {
      "codemirror_mode": {
        "name": "ipython",
        "version": 3
      },
      "file_extension": ".py",
      "mimetype": "text/x-python",
      "name": "python",
      "nbconvert_exporter": "python",
      "pygments_lexer": "ipython3",
      "version": "3.10.0"
    }
  },
  "nbformat": 4,
  "nbformat_minor": 0
}
