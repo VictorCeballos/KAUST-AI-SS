{
 "cells": [
  {
   "cell_type": "markdown",
   "metadata": {
    "id": "6fjAwlj8LCh4"
   },
   "source": [
    "This tutorial is adapted from [Dair-AI Pytorch Geometric Tutorial](https://github.com/dair-ai/GNNs-Recipe) by Elvis Saravia."
   ]
  },
  {
   "cell_type": "markdown",
   "metadata": {
    "id": "sjX6CPJFA52R"
   },
   "source": [
    "## Introduction to GNNs with PyTorch Geometric\n",
    "\n",
    "In this short notebook, the goal is to provide a introductory guide to get started with Graph Neural Networks using the popular library called [PyTorch Geometric](https://pytorch-geometric.readthedocs.io/en/latest/index.html). PyTorch Geometric is a PyTorch based libary hence we will be using PyTorch in this tutorial. \n",
    "\n",
    "The code used in this tutorial has been adapted from their official [examples](https://pytorch-geometric.readthedocs.io/en/latest/notes/introduction.html)."
   ]
  },
  {
   "cell_type": "code",
   "execution_count": 1,
   "metadata": {
    "colab": {
     "base_uri": "https://localhost:8080/"
    },
    "executionInfo": {
     "elapsed": 7570,
     "status": "ok",
     "timestamp": 1676064150814,
     "user": {
      "displayName": "Muhammad Mubashar",
      "userId": "14515435323579848862"
     },
     "user_tz": 0
    },
    "id": "mwTz9zaHC7YA",
    "outputId": "3d512f4a-3bf1-402a-b4b7-6ccab9c1cc64"
   },
   "outputs": [
    {
     "name": "stdout",
     "output_type": "stream",
     "text": [
      "None\n"
     ]
    }
   ],
   "source": [
    "# Find the CUDA version PyTorch was installed with\n",
    "!python -c \"import torch; print(torch.version.cuda)\""
   ]
  },
  {
   "cell_type": "code",
   "execution_count": 30,
   "metadata": {
    "colab": {
     "base_uri": "https://localhost:8080/"
    },
    "executionInfo": {
     "elapsed": 4234,
     "status": "ok",
     "timestamp": 1676064155042,
     "user": {
      "displayName": "Muhammad Mubashar",
      "userId": "14515435323579848862"
     },
     "user_tz": 0
    },
    "id": "2jo0YpV0DLDW",
    "outputId": "4dbb8e76-10f6-4b59-b842-0d2e2bf93b1e"
   },
   "outputs": [
    {
     "name": "stdout",
     "output_type": "stream",
     "text": [
      "2.0.0\n"
     ]
    }
   ],
   "source": [
    "# PyTorch version\n",
    "!python -c \"import torch; print(torch.__version__)\""
   ]
  },
  {
   "cell_type": "markdown",
   "metadata": {
    "id": "P-VLTfxzEmLu"
   },
   "source": [
    "Install the follow packages but make sure to \n",
    "\n",
    "---\n",
    "\n",
    "install the right version below. Find more instructions [here](https://pytorch-geometric.readthedocs.io/en/latest/notes/installation.html) if you get lost. "
   ]
  },
  {
   "cell_type": "code",
   "execution_count": 31,
   "metadata": {
    "colab": {
     "base_uri": "https://localhost:8080/"
    },
    "executionInfo": {
     "elapsed": 339461,
     "status": "ok",
     "timestamp": 1676064494459,
     "user": {
      "displayName": "Muhammad Mubashar",
      "userId": "14515435323579848862"
     },
     "user_tz": 0
    },
    "id": "fLbSOIkaDRe4",
    "outputId": "66416ac1-7173-47c3-e336-d26209205577"
   },
   "outputs": [
    {
     "name": "stdout",
     "output_type": "stream",
     "text": [
      "Looking in links: https://data.pyg.org/whl/torch-1.10.0+cu111.html\n",
      "Requirement already satisfied: torch-scatter in /home/fuanka/anaconda3/envs/gnn/lib/python3.10/site-packages (2.1.1+pt20cpu)\n"
     ]
    }
   ],
   "source": [
    "!pip install torch-scatter -f https://data.pyg.org/whl/torch-1.10.0+cu111.html"
   ]
  },
  {
   "cell_type": "code",
   "execution_count": 32,
   "metadata": {
    "colab": {
     "base_uri": "https://localhost:8080/"
    },
    "executionInfo": {
     "elapsed": 1013688,
     "status": "ok",
     "timestamp": 1676065508138,
     "user": {
      "displayName": "Muhammad Mubashar",
      "userId": "14515435323579848862"
     },
     "user_tz": 0
    },
    "id": "Q-wRLXE_DkZF",
    "outputId": "91b882e6-61b4-4d6d-91a9-3cb681bf3fc2"
   },
   "outputs": [
    {
     "name": "stdout",
     "output_type": "stream",
     "text": [
      "Looking in links: https://data.pyg.org/whl/torch-1.10.0+cu111.html\n",
      "Requirement already satisfied: torch-sparse in /home/fuanka/anaconda3/envs/gnn/lib/python3.10/site-packages (0.6.17+pt20cpu)\n",
      "Requirement already satisfied: scipy in /home/fuanka/anaconda3/envs/gnn/lib/python3.10/site-packages (from torch-sparse) (1.11.1)\n",
      "Requirement already satisfied: numpy<1.28.0,>=1.21.6 in /home/fuanka/anaconda3/envs/gnn/lib/python3.10/site-packages (from scipy->torch-sparse) (1.25.0)\n"
     ]
    }
   ],
   "source": [
    "!pip install torch-sparse -f https://data.pyg.org/whl/torch-1.10.0+cu111.html"
   ]
  },
  {
   "cell_type": "code",
   "execution_count": 33,
   "metadata": {
    "colab": {
     "base_uri": "https://localhost:8080/",
     "height": 696
    },
    "executionInfo": {
     "elapsed": 15387,
     "status": "ok",
     "timestamp": 1676065523511,
     "user": {
      "displayName": "Muhammad Mubashar",
      "userId": "14515435323579848862"
     },
     "user_tz": 0
    },
    "id": "lAobCDu6Dppo",
    "outputId": "c40322a4-01d5-4068-bf8d-2df95550a586"
   },
   "outputs": [
    {
     "name": "stdout",
     "output_type": "stream",
     "text": [
      "Requirement already satisfied: torch-geometric in /home/fuanka/anaconda3/envs/gnn/lib/python3.10/site-packages (2.3.1)\n",
      "Requirement already satisfied: tqdm in /home/fuanka/anaconda3/envs/gnn/lib/python3.10/site-packages (from torch-geometric) (4.65.0)\n",
      "Requirement already satisfied: numpy in /home/fuanka/anaconda3/envs/gnn/lib/python3.10/site-packages (from torch-geometric) (1.25.0)\n",
      "Requirement already satisfied: scipy in /home/fuanka/anaconda3/envs/gnn/lib/python3.10/site-packages (from torch-geometric) (1.11.1)\n",
      "Requirement already satisfied: jinja2 in /home/fuanka/anaconda3/envs/gnn/lib/python3.10/site-packages (from torch-geometric) (3.1.2)\n",
      "Requirement already satisfied: requests in /home/fuanka/anaconda3/envs/gnn/lib/python3.10/site-packages (from torch-geometric) (2.29.0)\n",
      "Requirement already satisfied: pyparsing in /home/fuanka/anaconda3/envs/gnn/lib/python3.10/site-packages (from torch-geometric) (3.0.9)\n",
      "Requirement already satisfied: scikit-learn in /home/fuanka/anaconda3/envs/gnn/lib/python3.10/site-packages (from torch-geometric) (1.3.0)\n",
      "Requirement already satisfied: psutil>=5.8.0 in /home/fuanka/anaconda3/envs/gnn/lib/python3.10/site-packages (from torch-geometric) (5.9.5)\n",
      "Requirement already satisfied: MarkupSafe>=2.0 in /home/fuanka/anaconda3/envs/gnn/lib/python3.10/site-packages (from jinja2->torch-geometric) (2.1.1)\n",
      "Requirement already satisfied: charset-normalizer<4,>=2 in /home/fuanka/anaconda3/envs/gnn/lib/python3.10/site-packages (from requests->torch-geometric) (2.0.4)\n",
      "Requirement already satisfied: idna<4,>=2.5 in /home/fuanka/anaconda3/envs/gnn/lib/python3.10/site-packages (from requests->torch-geometric) (3.4)\n",
      "Requirement already satisfied: urllib3<1.27,>=1.21.1 in /home/fuanka/anaconda3/envs/gnn/lib/python3.10/site-packages (from requests->torch-geometric) (1.26.16)\n",
      "Requirement already satisfied: certifi>=2017.4.17 in /home/fuanka/anaconda3/envs/gnn/lib/python3.10/site-packages (from requests->torch-geometric) (2023.5.7)\n",
      "Requirement already satisfied: joblib>=1.1.1 in /home/fuanka/anaconda3/envs/gnn/lib/python3.10/site-packages (from scikit-learn->torch-geometric) (1.3.1)\n",
      "Requirement already satisfied: threadpoolctl>=2.0.0 in /home/fuanka/anaconda3/envs/gnn/lib/python3.10/site-packages (from scikit-learn->torch-geometric) (3.2.0)\n"
     ]
    }
   ],
   "source": [
    "!pip install torch-geometric"
   ]
  },
  {
   "cell_type": "markdown",
   "metadata": {
    "id": "GNfiSdoUFaoF"
   },
   "source": [
    "## Getting Started"
   ]
  },
  {
   "cell_type": "markdown",
   "metadata": {
    "id": "D6LCvEr7CGF9"
   },
   "source": [
    "Import PyTorch"
   ]
  },
  {
   "cell_type": "code",
   "execution_count": 36,
   "metadata": {
    "colab": {
     "base_uri": "https://localhost:8080/"
    },
    "executionInfo": {
     "elapsed": 1945,
     "status": "ok",
     "timestamp": 1676065525444,
     "user": {
      "displayName": "Muhammad Mubashar",
      "userId": "14515435323579848862"
     },
     "user_tz": 0
    },
    "id": "pqrlyFN1AtXI",
    "outputId": "23a5c8be-34e9-4ca9-f949-fb3a9217ad08"
   },
   "outputs": [
    {
     "name": "stdout",
     "output_type": "stream",
     "text": [
      "2.0.0\n"
     ]
    }
   ],
   "source": [
    "import torch\n",
    "\n",
    "# print torch version\n",
    "print(torch.__version__)"
   ]
  },
  {
   "cell_type": "markdown",
   "metadata": {
    "id": "V0xfcmMfCFIH"
   },
   "source": [
    "The great thing about PyTorch Geometric is that it contain useful functionalities to import and load graph related data. "
   ]
  },
  {
   "cell_type": "code",
   "execution_count": 37,
   "metadata": {
    "executionInfo": {
     "elapsed": 982,
     "status": "ok",
     "timestamp": 1676065526419,
     "user": {
      "displayName": "Muhammad Mubashar",
      "userId": "14515435323579848862"
     },
     "user_tz": 0
    },
    "id": "gfIc5j5YB2_a"
   },
   "outputs": [],
   "source": [
    "from torch_geometric.data import Data"
   ]
  },
  {
   "cell_type": "markdown",
   "metadata": {
    "id": "4wuBs1NHEFqn"
   },
   "source": [
    "Now let's create an unweighted and undirected graph with three nodes and four total edges."
   ]
  },
  {
   "cell_type": "code",
   "execution_count": 38,
   "metadata": {
    "colab": {
     "base_uri": "https://localhost:8080/"
    },
    "executionInfo": {
     "elapsed": 15,
     "status": "ok",
     "timestamp": 1676065526420,
     "user": {
      "displayName": "Muhammad Mubashar",
      "userId": "14515435323579848862"
     },
     "user_tz": 0
    },
    "id": "-nLnUIObCTjK",
    "outputId": "6f3213c6-6d38-4c5b-bf19-2d757d64166d"
   },
   "outputs": [
    {
     "name": "stdout",
     "output_type": "stream",
     "text": [
      "tensor([[-1],\n",
      "        [ 0],\n",
      "        [ 1]])\n",
      "Data(x=[3, 1], edge_index=[2, 4])\n"
     ]
    }
   ],
   "source": [
    "# define edge list\n",
    "edge_index = torch.tensor([[0, 1, 1, 2], [1, 0, 2, 1]], dtype=torch.long)\n",
    "\n",
    "# define node features\n",
    "x = torch.tensor([[-1], [0], [1]])\n",
    "\n",
    "print(x)\n",
    "# create graph data object\n",
    "data = Data(x=x, edge_index=edge_index)\n",
    "print(data)"
   ]
  },
  {
   "cell_type": "markdown",
   "metadata": {
    "id": "zV7bQ6tAEQ7H"
   },
   "source": [
    "Our data object `Data` has many useful utility functions to check the properties of the graph. "
   ]
  },
  {
   "cell_type": "code",
   "execution_count": 39,
   "metadata": {
    "colab": {
     "base_uri": "https://localhost:8080/"
    },
    "executionInfo": {
     "elapsed": 13,
     "status": "ok",
     "timestamp": 1676065526420,
     "user": {
      "displayName": "Muhammad Mubashar",
      "userId": "14515435323579848862"
     },
     "user_tz": 0
    },
    "id": "idbfqPzoEOPC",
    "outputId": "750ba529-470f-4df8-d774-12edfe2116e4"
   },
   "outputs": [
    {
     "name": "stdout",
     "output_type": "stream",
     "text": [
      "4\n"
     ]
    }
   ],
   "source": [
    "# check number of edges of the graph\n",
    "print(data.num_edges)"
   ]
  },
  {
   "cell_type": "code",
   "execution_count": 40,
   "metadata": {
    "colab": {
     "base_uri": "https://localhost:8080/"
    },
    "executionInfo": {
     "elapsed": 12,
     "status": "ok",
     "timestamp": 1676065526421,
     "user": {
      "displayName": "Muhammad Mubashar",
      "userId": "14515435323579848862"
     },
     "user_tz": 0
    },
    "id": "r0lcSstME0MP",
    "outputId": "0d283b40-c804-452f-dd61-cf4d956f58c1"
   },
   "outputs": [
    {
     "name": "stdout",
     "output_type": "stream",
     "text": [
      "3\n"
     ]
    }
   ],
   "source": [
    "# check number of nodes of the graph\n",
    "print(data.num_nodes)"
   ]
  },
  {
   "cell_type": "code",
   "execution_count": 41,
   "metadata": {
    "colab": {
     "base_uri": "https://localhost:8080/"
    },
    "executionInfo": {
     "elapsed": 9,
     "status": "ok",
     "timestamp": 1676065526421,
     "user": {
      "displayName": "Muhammad Mubashar",
      "userId": "14515435323579848862"
     },
     "user_tz": 0
    },
    "id": "yiegwHTyE2AO",
    "outputId": "6fa9fd18-c966-4d16-d8e3-41631d779e3a"
   },
   "outputs": [
    {
     "name": "stdout",
     "output_type": "stream",
     "text": [
      "1\n"
     ]
    }
   ],
   "source": [
    "# check number of features of the graph\n",
    "print(data.num_features)"
   ]
  },
  {
   "cell_type": "code",
   "execution_count": 42,
   "metadata": {
    "colab": {
     "base_uri": "https://localhost:8080/"
    },
    "executionInfo": {
     "elapsed": 353,
     "status": "ok",
     "timestamp": 1676065526767,
     "user": {
      "displayName": "Muhammad Mubashar",
      "userId": "14515435323579848862"
     },
     "user_tz": 0
    },
    "id": "JNWjhaSeE3Yk",
    "outputId": "4b8a2e2a-3714-4d2f-ffaa-65b9fc849eb0"
   },
   "outputs": [
    {
     "name": "stdout",
     "output_type": "stream",
     "text": [
      "False\n"
     ]
    }
   ],
   "source": [
    "# check if graph is directed\n",
    "print(data.is_directed())"
   ]
  },
  {
   "cell_type": "markdown",
   "metadata": {
    "id": "HF-jGPyhFeO6"
   },
   "source": [
    "## Loading Data"
   ]
  },
  {
   "cell_type": "markdown",
   "metadata": {
    "id": "KBVX6mZfFBxE"
   },
   "source": [
    "Find more fun functions related to graph data [here](https://pytorch-geometric.readthedocs.io/en/latest/modules/data.html#torch_geometric.data.Data). "
   ]
  },
  {
   "cell_type": "markdown",
   "metadata": {
    "id": "LHvE23mwFJ-3"
   },
   "source": [
    "One of the cool things about the PyTorch Geometric library is that it contains out-of-the-box benchmark datasets that are ready to use and explore. A popular dataset is the Cora dataset that is used for supervised graph node classification.\n",
    "\n",
    "\"The Cora dataset consists of 2708 scientific publications classified into one of seven classes. The citation network consists of 5429 links. Each publication in the dataset is described by a 0/1-valued word vector indicating the absence/presence of the corresponding word from the dictionary. The dictionary consists of 1433 unique words.\" - [Papers with Code](https://paperswithcode.com/dataset/cora)."
   ]
  },
  {
   "cell_type": "markdown",
   "metadata": {
    "id": "_8ganBm_FiaQ"
   },
   "source": [
    "Let's load the Cora dataset:"
   ]
  },
  {
   "cell_type": "code",
   "execution_count": 43,
   "metadata": {
    "colab": {
     "base_uri": "https://localhost:8080/"
    },
    "executionInfo": {
     "elapsed": 3465,
     "status": "ok",
     "timestamp": 1676065530226,
     "user": {
      "displayName": "Muhammad Mubashar",
      "userId": "14515435323579848862"
     },
     "user_tz": 0
    },
    "id": "K3bXwOpoE75M",
    "outputId": "288da92d-1c17-4f3b-d91f-646c5bf14b20"
   },
   "outputs": [],
   "source": [
    "from torch_geometric.datasets import Planetoid\n",
    "\n",
    "dataset = Planetoid(root='tmp/Cora', name='Cora')"
   ]
  },
  {
   "cell_type": "markdown",
   "metadata": {
    "id": "rQTFnBcuFpLv"
   },
   "source": [
    "Let's check some of the properties of the Cora dataset."
   ]
  },
  {
   "cell_type": "code",
   "execution_count": 44,
   "metadata": {
    "colab": {
     "base_uri": "https://localhost:8080/"
    },
    "executionInfo": {
     "elapsed": 28,
     "status": "ok",
     "timestamp": 1676065530227,
     "user": {
      "displayName": "Muhammad Mubashar",
      "userId": "14515435323579848862"
     },
     "user_tz": 0
    },
    "id": "q9jvXbRXFlGG",
    "outputId": "55bb7033-4da6-427f-e5ab-fdcd4071f328"
   },
   "outputs": [
    {
     "name": "stdout",
     "output_type": "stream",
     "text": [
      "Number of graphs:  1\n",
      "Number of features:  1433\n",
      "Number of classes:  7\n",
      "tensor([[   0,    0,    0,  ..., 2707, 2707, 2707],\n",
      "        [ 633, 1862, 2582,  ...,  598, 1473, 2706]])\n"
     ]
    }
   ],
   "source": [
    "# number of graphs\n",
    "print(\"Number of graphs: \", len(dataset))\n",
    "\n",
    "# number of features\n",
    "print(\"Number of features: \", dataset.num_features)\n",
    "\n",
    "# number of classes\n",
    "print(\"Number of classes: \", dataset.num_classes)\n",
    "\n",
    "print(dataset[0].edge_index)"
   ]
  },
  {
   "cell_type": "markdown",
   "metadata": {
    "id": "57SX-idAF02R"
   },
   "source": [
    "We can see that this particular graph dataset only contains one graph. Graph data can be very complex and can include multiple graphs depending on the type of data and application. Let's check more feature of the Cora dataset:"
   ]
  },
  {
   "cell_type": "code",
   "execution_count": 45,
   "metadata": {
    "colab": {
     "base_uri": "https://localhost:8080/"
    },
    "executionInfo": {
     "elapsed": 22,
     "status": "ok",
     "timestamp": 1676065530227,
     "user": {
      "displayName": "Muhammad Mubashar",
      "userId": "14515435323579848862"
     },
     "user_tz": 0
    },
    "id": "8aOt8HwfFrH_",
    "outputId": "6eab2ad6-0b58-4cdf-96ff-30c94077deb9"
   },
   "outputs": [
    {
     "name": "stdout",
     "output_type": "stream",
     "text": [
      "Number of nodes:  2708\n",
      "Number of edges:  10556\n",
      "Is directed:  False\n"
     ]
    }
   ],
   "source": [
    "# select the first graph\n",
    "data = dataset[0]\n",
    "\n",
    "# number of nodes\n",
    "print(\"Number of nodes: \", data.num_nodes)\n",
    "\n",
    "# number of edges\n",
    "print(\"Number of edges: \", data.num_edges)\n",
    "\n",
    "# check if directed\n",
    "print(\"Is directed: \", data.is_directed())"
   ]
  },
  {
   "cell_type": "markdown",
   "metadata": {
    "id": "3XX2MRY4GEQS"
   },
   "source": [
    "You can sample nodes from the graph this way:"
   ]
  },
  {
   "cell_type": "code",
   "execution_count": 46,
   "metadata": {
    "colab": {
     "base_uri": "https://localhost:8080/"
    },
    "executionInfo": {
     "elapsed": 20,
     "status": "ok",
     "timestamp": 1676065530228,
     "user": {
      "displayName": "Muhammad Mubashar",
      "userId": "14515435323579848862"
     },
     "user_tz": 0
    },
    "id": "qGJKbv-4GAtY",
    "outputId": "08af372e-8d31-48dc-c3ca-e4d565d91a0d"
   },
   "outputs": [
    {
     "name": "stdout",
     "output_type": "stream",
     "text": [
      "Shape of sample nodes:  torch.Size([5, 1433])\n"
     ]
    }
   ],
   "source": [
    "# sample nodes from the graph\n",
    "print(\"Shape of sample nodes: \", data.x[:5].shape)"
   ]
  },
  {
   "cell_type": "markdown",
   "metadata": {
    "id": "wV1yBQSvGM9q"
   },
   "source": [
    "We extracted 5 nodes from the graph and checked its shape. You will see that each node has `1433` features."
   ]
  },
  {
   "cell_type": "markdown",
   "metadata": {
    "id": "oXMY2lU0GWQL"
   },
   "source": [
    "Another great advantage of using PyTorch Geometric to load the Cora data is that it comes pre-processed and ready to use. It also has the splits for training, validation and test which we can directly use for training a GNN.\n",
    "\n",
    "Let's check some stats for the partitions of the data:"
   ]
  },
  {
   "cell_type": "code",
   "execution_count": 47,
   "metadata": {
    "colab": {
     "base_uri": "https://localhost:8080/"
    },
    "executionInfo": {
     "elapsed": 18,
     "status": "ok",
     "timestamp": 1676065530228,
     "user": {
      "displayName": "Muhammad Mubashar",
      "userId": "14515435323579848862"
     },
     "user_tz": 0
    },
    "id": "MzITbLkpGIUP",
    "outputId": "f50075b8-3dac-4167-a8c8-265a2eb06faf"
   },
   "outputs": [
    {
     "name": "stdout",
     "output_type": "stream",
     "text": [
      "# of nodes to train on:  140\n",
      "# of nodes to test on:  1000\n",
      "# of nodes to validate on:  500\n"
     ]
    }
   ],
   "source": [
    "# check training nodes\n",
    "print(\"# of nodes to train on: \", data.train_mask.sum().item())\n",
    "\n",
    "# check test nodes\n",
    "print(\"# of nodes to test on: \", data.test_mask.sum().item())\n",
    "\n",
    "# check validation nodes\n",
    "print(\"# of nodes to validate on: \", data.val_mask.sum().item())"
   ]
  },
  {
   "cell_type": "markdown",
   "metadata": {
    "id": "7IGOoSfwHjeD"
   },
   "source": [
    "That information is important as it will indicate to our model which nodes to train against and which to test against, and so on.\n",
    "\n",
    "When training neural networks we train them using batches of data. PyTorch Geometric provides efficient processes to load batches of data.\n",
    "\n",
    "PyTorch Geometric contains a data loader which is a very popular feature in PyTorch to efficiently load data when training neural networks. "
   ]
  },
  {
   "cell_type": "markdown",
   "metadata": {
    "id": "_SUZUnXzH1zN"
   },
   "source": [
    "So let's try to load the data using the built in `DataLoader`:"
   ]
  },
  {
   "cell_type": "code",
   "execution_count": 48,
   "metadata": {
    "executionInfo": {
     "elapsed": 16,
     "status": "ok",
     "timestamp": 1676065530229,
     "user": {
      "displayName": "Muhammad Mubashar",
      "userId": "14515435323579848862"
     },
     "user_tz": 0
    },
    "id": "9tdHl4oZGw_y"
   },
   "outputs": [],
   "source": [
    "from torch_geometric.datasets import Planetoid\n",
    "from torch_geometric.loader import DataLoader\n",
    "device = torch.device('cuda' if torch.cuda.is_available() else 'cpu')"
   ]
  },
  {
   "cell_type": "code",
   "execution_count": 49,
   "metadata": {
    "colab": {
     "base_uri": "https://localhost:8080/"
    },
    "executionInfo": {
     "elapsed": 16,
     "status": "ok",
     "timestamp": 1676065530229,
     "user": {
      "displayName": "Muhammad Mubashar",
      "userId": "14515435323579848862"
     },
     "user_tz": 0
    },
    "id": "xtJAp4QqIMWw",
    "outputId": "c9f6bb62-78e3-4b9e-ce11-04007c1d36be"
   },
   "outputs": [
    {
     "name": "stdout",
     "output_type": "stream",
     "text": [
      "cpu\n"
     ]
    }
   ],
   "source": [
    "print(device)"
   ]
  },
  {
   "cell_type": "code",
   "execution_count": 50,
   "metadata": {
    "executionInfo": {
     "elapsed": 15,
     "status": "ok",
     "timestamp": 1676065530230,
     "user": {
      "displayName": "Muhammad Mubashar",
      "userId": "14515435323579848862"
     },
     "user_tz": 0
    },
    "id": "06xbeTJcH8C-"
   },
   "outputs": [],
   "source": [
    "dataset = Planetoid(root='tmp/Cora', name='Cora')\n",
    "data = dataset[0].to(device)"
   ]
  },
  {
   "cell_type": "markdown",
   "metadata": {
    "id": "8MH0lQsYIV0V"
   },
   "source": [
    "Print some quick statistics about the data:"
   ]
  },
  {
   "cell_type": "code",
   "execution_count": 51,
   "metadata": {
    "colab": {
     "base_uri": "https://localhost:8080/"
    },
    "executionInfo": {
     "elapsed": 401,
     "status": "ok",
     "timestamp": 1676065530617,
     "user": {
      "displayName": "Muhammad Mubashar",
      "userId": "14515435323579848862"
     },
     "user_tz": 0
    },
    "id": "gK7-K6uYH_Iu",
    "outputId": "2bb8bbf3-3833-4f47-a5e7-23360fdac987"
   },
   "outputs": [
    {
     "name": "stdout",
     "output_type": "stream",
     "text": [
      "X shape:  torch.Size([2708, 1433])\n",
      "Edge shape:  torch.Size([2, 10556])\n",
      "Y shape:  torch.Size([2708])\n"
     ]
    }
   ],
   "source": [
    "print(\"X shape: \", data.x.shape)\n",
    "print(\"Edge shape: \", data.edge_index.shape)\n",
    "print(\"Y shape: \", data.y.shape)"
   ]
  },
  {
   "cell_type": "markdown",
   "metadata": {
    "id": "TUGNxhBOIuYe"
   },
   "source": [
    "## Model and Training"
   ]
  },
  {
   "cell_type": "markdown",
   "metadata": {
    "id": "v1pz24blIwnR"
   },
   "source": [
    "Finally, let's define a standard GCN to train on the Cora dataset. The aim is to train a model that gets better at predicting the class of the node."
   ]
  },
  {
   "cell_type": "markdown",
   "metadata": {
    "id": "dhdMehneI2bn"
   },
   "source": [
    "We are using the built-in `GCNConv` model but we could easily implement your own.\n",
    "\n",
    "The model below uses two `GCNConv` layers. The first layer is followed by a non-linearity `ReLU` and `Dropout`. The result is fed to the second layer on top of which we apply `Softmax` to get distribution over the number of classes."
   ]
  },
  {
   "cell_type": "code",
   "execution_count": 52,
   "metadata": {
    "executionInfo": {
     "elapsed": 5,
     "status": "ok",
     "timestamp": 1676065530617,
     "user": {
      "displayName": "Muhammad Mubashar",
      "userId": "14515435323579848862"
     },
     "user_tz": 0
    },
    "id": "q0AiwyWrJGhj"
   },
   "outputs": [],
   "source": [
    "import torch.nn.functional as F\n",
    "from torch_geometric.nn import GCNConv\n",
    "\n",
    "class GCN(torch.nn.Module):\n",
    "    def __init__(self):\n",
    "        super().__init__()\n",
    "        \"\"\" GCNConv layers \"\"\"\n",
    "        self.conv1 = GCNConv(data.num_features, 16)\n",
    "        self.conv2 = GCNConv(16, dataset.num_classes)\n",
    "\n",
    "    def forward(self, data):\n",
    "        x, edge_index = data.x, data.edge_index\n",
    "        x = self.conv1(x, edge_index)\n",
    "        x = F.relu(x)\n",
    "        x = F.dropout(x, training=self.training)\n",
    "        x = self.conv2(x, edge_index)\n",
    "\n",
    "        return F.log_softmax(x, dim=1)"
   ]
  },
  {
   "cell_type": "markdown",
   "metadata": {
    "id": "Mfob8LS2KezY"
   },
   "source": [
    "Initial model and optimizer"
   ]
  },
  {
   "cell_type": "code",
   "execution_count": 53,
   "metadata": {
    "executionInfo": {
     "elapsed": 5,
     "status": "ok",
     "timestamp": 1676065530618,
     "user": {
      "displayName": "Muhammad Mubashar",
      "userId": "14515435323579848862"
     },
     "user_tz": 0
    },
    "id": "GSZL4HS5Kd55"
   },
   "outputs": [],
   "source": [
    "model = GCN().to(device)\n",
    "optimizer = torch.optim.Adam(model.parameters(), lr=0.01, weight_decay=5e-4)"
   ]
  },
  {
   "cell_type": "markdown",
   "metadata": {
    "id": "qpgxKMhmKitV"
   },
   "source": [
    "Define axcuracy function for evaluating performance:"
   ]
  },
  {
   "cell_type": "code",
   "execution_count": 54,
   "metadata": {
    "executionInfo": {
     "elapsed": 5,
     "status": "ok",
     "timestamp": 1676065530618,
     "user": {
      "displayName": "Muhammad Mubashar",
      "userId": "14515435323579848862"
     },
     "user_tz": 0
    },
    "id": "abnE-XTmKl92"
   },
   "outputs": [],
   "source": [
    "# useful function for computing accuracy\n",
    "def compute_accuracy(pred_y, y):\n",
    "    return (pred_y == y).sum()"
   ]
  },
  {
   "cell_type": "markdown",
   "metadata": {
    "id": "26W7sxVsKrGM"
   },
   "source": [
    "And finally we train the model on the training nodes for 200 epochs:"
   ]
  },
  {
   "cell_type": "code",
   "execution_count": 55,
   "metadata": {
    "colab": {
     "base_uri": "https://localhost:8080/"
    },
    "executionInfo": {
     "elapsed": 8158,
     "status": "ok",
     "timestamp": 1676065538771,
     "user": {
      "displayName": "Muhammad Mubashar",
      "userId": "14515435323579848862"
     },
     "user_tz": 0
    },
    "id": "m39ZbE6RKyim",
    "outputId": "07c3ae73-29d7-4f98-ef2b-3c30a49ef74b"
   },
   "outputs": [
    {
     "name": "stdout",
     "output_type": "stream",
     "text": [
      "Epoch: 10, Loss: 0.9568, Training Acc: 0.8714\n",
      "Epoch: 20, Loss: 0.2883, Training Acc: 0.9786\n",
      "Epoch: 30, Loss: 0.0989, Training Acc: 0.9857\n",
      "Epoch: 40, Loss: 0.0835, Training Acc: 0.9929\n",
      "Epoch: 50, Loss: 0.0533, Training Acc: 1.0000\n",
      "Epoch: 60, Loss: 0.0482, Training Acc: 0.9929\n",
      "Epoch: 70, Loss: 0.0524, Training Acc: 0.9857\n",
      "Epoch: 80, Loss: 0.0268, Training Acc: 1.0000\n",
      "Epoch: 90, Loss: 0.0412, Training Acc: 1.0000\n",
      "Epoch: 100, Loss: 0.0402, Training Acc: 1.0000\n",
      "Epoch: 110, Loss: 0.0298, Training Acc: 1.0000\n",
      "Epoch: 120, Loss: 0.0350, Training Acc: 1.0000\n",
      "Epoch: 130, Loss: 0.0563, Training Acc: 0.9857\n",
      "Epoch: 140, Loss: 0.0309, Training Acc: 0.9929\n",
      "Epoch: 150, Loss: 0.0314, Training Acc: 1.0000\n",
      "Epoch: 160, Loss: 0.0246, Training Acc: 1.0000\n",
      "Epoch: 170, Loss: 0.0416, Training Acc: 0.9929\n",
      "Epoch: 180, Loss: 0.0380, Training Acc: 1.0000\n",
      "Epoch: 190, Loss: 0.0335, Training Acc: 1.0000\n",
      "Epoch: 200, Loss: 0.0184, Training Acc: 1.0000\n"
     ]
    }
   ],
   "source": [
    "# train the model\n",
    "model.train()\n",
    "losses = []\n",
    "accuracies = []\n",
    "for epoch in range(200):\n",
    "    optimizer.zero_grad()\n",
    "    out = model(data)\n",
    "\n",
    "    loss = F.nll_loss(out[data.train_mask], data.y[data.train_mask])\n",
    "    correct = compute_accuracy(out.argmax(dim=1)[data.train_mask], data.y[data.train_mask])\n",
    "    acc = int(correct) / int(data.train_mask.sum())\n",
    "    losses.append(loss.item())\n",
    "    accuracies.append(acc)\n",
    "\n",
    "    loss.backward()\n",
    "    optimizer.step()\n",
    "    if (epoch+1) % 10 == 0:\n",
    "        print('Epoch: {}, Loss: {:.4f}, Training Acc: {:.4f}'.format(epoch+1, loss.item(), acc))\n"
   ]
  },
  {
   "cell_type": "code",
   "execution_count": 56,
   "metadata": {
    "colab": {
     "base_uri": "https://localhost:8080/",
     "height": 265
    },
    "executionInfo": {
     "elapsed": 801,
     "status": "ok",
     "timestamp": 1676065539567,
     "user": {
      "displayName": "Muhammad Mubashar",
      "userId": "14515435323579848862"
     },
     "user_tz": 0
    },
    "id": "bUtwTwemLJGs",
    "outputId": "1f96c974-2782-40d8-a562-e00aba8ea8cb"
   },
   "outputs": [
    {
     "data": {
      "image/png": "[encoded data removed]",
      "text/plain": [
       "<Figure size 640x480 with 1 Axes>"
      ]
     },
     "metadata": {},
     "output_type": "display_data"
    }
   ],
   "source": [
    "# plot the loss and accuracy\n",
    "import matplotlib.pyplot as plt\n",
    "plt.plot(losses)\n",
    "plt.plot(accuracies)\n",
    "plt.legend(['Loss', 'Accuracy'])\n",
    "plt.show()"
   ]
  },
  {
   "cell_type": "markdown",
   "metadata": {
    "id": "30cq1fmqK-my"
   },
   "source": [
    "It looks like the model achieves a very high accuracy and small loss on the training dataset. To see how well it generalizes, let's test on the testing nodes:"
   ]
  },
  {
   "cell_type": "code",
   "execution_count": 27,
   "metadata": {
    "colab": {
     "base_uri": "https://localhost:8080/"
    },
    "executionInfo": {
     "elapsed": 13,
     "status": "ok",
     "timestamp": 1676065539568,
     "user": {
      "displayName": "Muhammad Mubashar",
      "userId": "14515435323579848862"
     },
     "user_tz": 0
    },
    "id": "_6Q354OSLVkG",
    "outputId": "448ace46-8516-4709-a454-9f41e85b907e"
   },
   "outputs": [
    {
     "name": "stdout",
     "output_type": "stream",
     "text": [
      "Accuracy: 0.8110\n"
     ]
    }
   ],
   "source": [
    "# evaluate the model on test set\n",
    "model.eval()\n",
    "pred = model(data).argmax(dim=1)\n",
    "correct = compute_accuracy(pred[data.test_mask], data.y[data.test_mask])\n",
    "acc = int(correct) / int(data.test_mask.sum())\n",
    "print(f'Accuracy: {acc:.4f}')"
   ]
  },
  {
   "cell_type": "markdown",
   "metadata": {
    "id": "iwOLBEpgLW3p"
   },
   "source": [
    "Very cool! It seems we got a very nice accuracy for the test as well. Our model is doing okay. There are many ways you can go about trying to improve this model, but we will keep that for another time. Hopefully, with this tutorial you got a glimpse of graph data and how to use PyTorch Geometric to train GNNs on a very popular dataset. "
   ]
  },
  {
   "cell_type": "code",
   "execution_count": null,
   "metadata": {
    "executionInfo": {
     "elapsed": 10,
     "status": "ok",
     "timestamp": 1676065539569,
     "user": {
      "displayName": "Muhammad Mubashar",
      "userId": "14515435323579848862"
     },
     "user_tz": 0
    },
    "id": "1sg3VdxrNPCg"
   },
   "outputs": [],
   "source": []
  }
 ],
 "metadata": {
  "colab": {
   "provenance": []
  },
  "kernelspec": {
   "display_name": "Python 3 (ipykernel)",
   "language": "python",
   "name": "python3"
  },
  "language_info": {
   "codemirror_mode": {
    "name": "ipython",
    "version": 3
   },
   "file_extension": ".py",
   "mimetype": "text/x-python",
   "name": "python",
   "nbconvert_exporter": "python",
   "pygments_lexer": "ipython3",
   "version": "3.10.12"
  }
 },
 "nbformat": 4,
 "nbformat_minor": 4
}
